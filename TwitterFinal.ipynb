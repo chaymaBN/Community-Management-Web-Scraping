{
  "nbformat": 4,
  "nbformat_minor": 0,
  "metadata": {
    "kernelspec": {
      "display_name": "Python 3",
      "language": "python",
      "name": "python3"
    },
    "language_info": {
      "codemirror_mode": {
        "name": "ipython",
        "version": 3
      },
      "file_extension": ".py",
      "mimetype": "text/x-python",
      "name": "python",
      "nbconvert_exporter": "python",
      "pygments_lexer": "ipython3",
      "version": "3.7.7"
    },
    "colab": {
      "name": "TwitterFinal.ipynb",
      "provenance": [],
      "collapsed_sections": [
        "5FVPrrN-hIh3"
      ],
      "toc_visible": true
    }
  },
  "cells": [
    {
      "cell_type": "markdown",
      "metadata": {
        "id": "XaSVbcsUhIft",
        "colab_type": "text"
      },
      "source": [
        "# Text Mining TWITTER"
      ]
    },
    {
      "cell_type": "code",
      "metadata": {
        "id": "44fBGsmyhIfw",
        "colab_type": "code",
        "colab": {}
      },
      "source": [
        "#pip install seaborn\n"
      ],
      "execution_count": 0,
      "outputs": []
    },
    {
      "cell_type": "code",
      "metadata": {
        "id": "oU2vQIX7hIf2",
        "colab_type": "code",
        "colab": {}
      },
      "source": [
        "#pip install -U gensim\n"
      ],
      "execution_count": 0,
      "outputs": []
    },
    {
      "cell_type": "code",
      "metadata": {
        "id": "37QkSO6lhIf6",
        "colab_type": "code",
        "colab": {}
      },
      "source": [
        "#pip install smart_open"
      ],
      "execution_count": 0,
      "outputs": []
    },
    {
      "cell_type": "code",
      "metadata": {
        "id": "87DSjP9hhIf_",
        "colab_type": "code",
        "colab": {
          "base_uri": "https://localhost:8080/",
          "height": 71
        },
        "outputId": "b88620f4-008a-421d-8615-0009bcb93851"
      },
      "source": [
        "import sys\n",
        "import tqdm\n",
        "import pandas as pd\n",
        "import numpy as np\n",
        "import matplotlib.pyplot as plt\n",
        "import seaborn as sns\n",
        "%matplotlib inline\n",
        "from pprint import pprint\n",
        "import tweepy\n",
        "import gensim\n",
        "from gensim.utils import simple_preprocess\n",
        "from gensim.parsing.preprocessing import STOPWORDS\n",
        "from gensim.corpora import Dictionary\n",
        "from gensim.models import TfidfModel, LdaMulticore\n",
        "from gensim.models import CoherenceModel\n",
        "import nltk\n",
        "from nltk.stem import WordNetLemmatizer, SnowballStemmer\n",
        "from nltk.corpus import stopwords\n",
        "from nltk.tokenize import word_tokenize, sent_tokenize"
      ],
      "execution_count": 3,
      "outputs": [
        {
          "output_type": "stream",
          "text": [
            "/usr/local/lib/python3.6/dist-packages/statsmodels/tools/_testing.py:19: FutureWarning: pandas.util.testing is deprecated. Use the functions in the public API at pandas.testing instead.\n",
            "  import pandas.util.testing as tm\n"
          ],
          "name": "stderr"
        }
      ]
    },
    {
      "cell_type": "markdown",
      "metadata": {
        "id": "-rM3gwLshIgE",
        "colab_type": "text"
      },
      "source": [
        "## 1 .Collecte des données"
      ]
    },
    {
      "cell_type": "code",
      "metadata": {
        "id": "gwd3x2O3hIgE",
        "colab_type": "code",
        "colab": {}
      },
      "source": [
        "CONSUMER_KEY    = 'wXu8ut21Atg9a4P7Zuci1ziA4'\n",
        "CONSUMER_SECRET = 'qxVcWIeOVBaEPk2FBs5HPNpuUWlzADwZe2G8eR5JevoPDSkW0O'\n",
        "ACCESS_TOKEN  = '1184566920416321539-rPmm3WWxpdwje5QVNdCjbOeo49ll7J'\n",
        "ACCESS_SECRET = 'SX7baB6T5SxtOGsP9qeqhn7a1HGFim4NqA8apL7J2Gcc0'"
      ],
      "execution_count": 0,
      "outputs": []
    },
    {
      "cell_type": "code",
      "metadata": {
        "id": "HVGfZDGNhIgI",
        "colab_type": "code",
        "colab": {}
      },
      "source": [
        "auth = tweepy.OAuthHandler(CONSUMER_KEY, CONSUMER_SECRET)\n",
        "auth.set_access_token(ACCESS_TOKEN, ACCESS_SECRET)\n",
        "api = tweepy.API(auth)\n",
        "\n",
        "tweets_data = []\n",
        "mcdo_tweets = api.user_timeline('McDoFr_Newsroom',count=200)\n",
        "for tweet in mcdo_tweets:\n",
        "    try:\n",
        "        for reply in api.search(q=\"@McDoFr_Newsroom\", since_id=tweet.id, count = 100):\n",
        "            tweets_data.append(reply)\n",
        "    except:  \n",
        "        continue"
      ],
      "execution_count": 0,
      "outputs": []
    },
    {
      "cell_type": "code",
      "metadata": {
        "id": "KuLS3_6fhIgN",
        "colab_type": "code",
        "colab": {
          "base_uri": "https://localhost:8080/",
          "height": 34
        },
        "outputId": "cbe6e33c-dae2-4e45-d34a-130678ca4842"
      },
      "source": [
        "len(mcdo_tweets)"
      ],
      "execution_count": 8,
      "outputs": [
        {
          "output_type": "execute_result",
          "data": {
            "text/plain": [
              "200"
            ]
          },
          "metadata": {
            "tags": []
          },
          "execution_count": 8
        }
      ]
    },
    {
      "cell_type": "code",
      "metadata": {
        "id": "Ib0dzzFDhIgR",
        "colab_type": "code",
        "colab": {
          "base_uri": "https://localhost:8080/",
          "height": 34
        },
        "outputId": "9cbd54f2-3e5e-4a42-c46e-b92ca47cdad6"
      },
      "source": [
        "len(tweets_data)"
      ],
      "execution_count": 9,
      "outputs": [
        {
          "output_type": "execute_result",
          "data": {
            "text/plain": [
              "18000"
            ]
          },
          "metadata": {
            "tags": []
          },
          "execution_count": 9
        }
      ]
    },
    {
      "cell_type": "code",
      "metadata": {
        "id": "XBnc3pG3hIgU",
        "colab_type": "code",
        "colab": {}
      },
      "source": [
        "def extract_tweet_attributes(tweet_object):\n",
        "    tweet_list =[]\n",
        "    for tweet in tweet_object:\n",
        "        tweet_id = tweet.id\n",
        "        text = tweet.text\n",
        "        favorite_count = tweet.favorite_count\n",
        "        retweet_count = tweet.retweet_count\n",
        "        created_at = tweet.created_at\n",
        "        source = tweet.source\n",
        "        reply_to_status = tweet.in_reply_to_status_id\n",
        "        reply_to_user = tweet.in_reply_to_screen_name\n",
        "        retweets = tweet.retweet_count\n",
        "        favorites = tweet.favorite_count\n",
        "        # append attributes to list\n",
        "        tweet_list.append({'tweet_id':tweet_id, \n",
        "                          'text':text, \n",
        "                          'favorite_count':favorite_count,\n",
        "                          'retweet_count':retweet_count,\n",
        "                          'created_at':created_at, \n",
        "                          'source':source, \n",
        "                          'reply_to_status':reply_to_status, \n",
        "                          'reply_to_user':reply_to_user,\n",
        "                          'retweets':retweets,\n",
        "                          'favorites':favorites})\n",
        "    \n",
        "    df = pd.DataFrame(tweet_list, columns=['tweet_id',\n",
        "                                           'text',\n",
        "                                           'favorite_count',\n",
        "                                           'retweet_count',\n",
        "                                           'created_at',\n",
        "                                           'source',\n",
        "                                           'reply_to_status',\n",
        "                                           'reply_to_user',\n",
        "                                           'retweets',\n",
        "                                           'favorites'])\n",
        "    return df\n",
        "\n",
        "\n",
        "df = extract_tweet_attributes(tweets_data)"
      ],
      "execution_count": 0,
      "outputs": []
    },
    {
      "cell_type": "code",
      "metadata": {
        "id": "9EhWzDlQhIgY",
        "colab_type": "code",
        "colab": {
          "base_uri": "https://localhost:8080/",
          "height": 394
        },
        "outputId": "a67b989d-7664-4645-a048-22cd43448920"
      },
      "source": [
        "df.head()"
      ],
      "execution_count": 11,
      "outputs": [
        {
          "output_type": "execute_result",
          "data": {
            "text/html": [
              "<div>\n",
              "<style scoped>\n",
              "    .dataframe tbody tr th:only-of-type {\n",
              "        vertical-align: middle;\n",
              "    }\n",
              "\n",
              "    .dataframe tbody tr th {\n",
              "        vertical-align: top;\n",
              "    }\n",
              "\n",
              "    .dataframe thead th {\n",
              "        text-align: right;\n",
              "    }\n",
              "</style>\n",
              "<table border=\"1\" class=\"dataframe\">\n",
              "  <thead>\n",
              "    <tr style=\"text-align: right;\">\n",
              "      <th></th>\n",
              "      <th>tweet_id</th>\n",
              "      <th>text</th>\n",
              "      <th>favorite_count</th>\n",
              "      <th>retweet_count</th>\n",
              "      <th>created_at</th>\n",
              "      <th>source</th>\n",
              "      <th>reply_to_status</th>\n",
              "      <th>reply_to_user</th>\n",
              "      <th>retweets</th>\n",
              "      <th>favorites</th>\n",
              "    </tr>\n",
              "  </thead>\n",
              "  <tbody>\n",
              "    <tr>\n",
              "      <th>0</th>\n",
              "      <td>1250451727859539972</td>\n",
              "      <td>Les Noirs interdits d’accès dans les @McDoFr_N...</td>\n",
              "      <td>0</td>\n",
              "      <td>0</td>\n",
              "      <td>2020-04-15 15:51:38</td>\n",
              "      <td>Twitter Web App</td>\n",
              "      <td>NaN</td>\n",
              "      <td>None</td>\n",
              "      <td>0</td>\n",
              "      <td>0</td>\n",
              "    </tr>\n",
              "    <tr>\n",
              "      <th>1</th>\n",
              "      <td>1250450869532921856</td>\n",
              "      <td>@jbzvosmorts @McDoFr_Newsroom Mrc pour le troll</td>\n",
              "      <td>0</td>\n",
              "      <td>0</td>\n",
              "      <td>2020-04-15 15:48:14</td>\n",
              "      <td>Twitter Web App</td>\n",
              "      <td>1.250448e+18</td>\n",
              "      <td>jbzvosmorts</td>\n",
              "      <td>0</td>\n",
              "      <td>0</td>\n",
              "    </tr>\n",
              "    <tr>\n",
              "      <th>2</th>\n",
              "      <td>1250449816926248960</td>\n",
              "      <td>@dominos_pizzafr @McDoFr_Newsroom J’y travaill...</td>\n",
              "      <td>0</td>\n",
              "      <td>0</td>\n",
              "      <td>2020-04-15 15:44:03</td>\n",
              "      <td>Twitter for iPhone</td>\n",
              "      <td>1.250409e+18</td>\n",
              "      <td>dominos_pizzafr</td>\n",
              "      <td>0</td>\n",
              "      <td>0</td>\n",
              "    </tr>\n",
              "    <tr>\n",
              "      <th>3</th>\n",
              "      <td>1250448016361783296</td>\n",
              "      <td>@dt48plus C @McDoFr_Newsroom</td>\n",
              "      <td>1</td>\n",
              "      <td>0</td>\n",
              "      <td>2020-04-15 15:36:53</td>\n",
              "      <td>Twitter for iPhone</td>\n",
              "      <td>1.250447e+18</td>\n",
              "      <td>dt48plus</td>\n",
              "      <td>0</td>\n",
              "      <td>1</td>\n",
              "    </tr>\n",
              "    <tr>\n",
              "      <th>4</th>\n",
              "      <td>1250446487902998529</td>\n",
              "      <td>Si t’enlève les faux culs, ceux qui te pourris...</td>\n",
              "      <td>0</td>\n",
              "      <td>0</td>\n",
              "      <td>2020-04-15 15:30:49</td>\n",
              "      <td>Twitter for iPhone</td>\n",
              "      <td>NaN</td>\n",
              "      <td>None</td>\n",
              "      <td>0</td>\n",
              "      <td>0</td>\n",
              "    </tr>\n",
              "  </tbody>\n",
              "</table>\n",
              "</div>"
            ],
            "text/plain": [
              "              tweet_id  ... favorites\n",
              "0  1250451727859539972  ...         0\n",
              "1  1250450869532921856  ...         0\n",
              "2  1250449816926248960  ...         0\n",
              "3  1250448016361783296  ...         1\n",
              "4  1250446487902998529  ...         0\n",
              "\n",
              "[5 rows x 10 columns]"
            ]
          },
          "metadata": {
            "tags": []
          },
          "execution_count": 11
        }
      ]
    },
    {
      "cell_type": "code",
      "metadata": {
        "id": "JTSYUzv6hIgc",
        "colab_type": "code",
        "colab": {}
      },
      "source": [
        "df.to_csv('tweets.csv', index = False, header=True)"
      ],
      "execution_count": 0,
      "outputs": []
    },
    {
      "cell_type": "markdown",
      "metadata": {
        "id": "qDySjNzihIgf",
        "colab_type": "text"
      },
      "source": [
        "## 2. Prétraitement des données"
      ]
    },
    {
      "cell_type": "markdown",
      "metadata": {
        "id": "eGlIUE3YhIgg",
        "colab_type": "text"
      },
      "source": [
        "### 2.1 Tokenization"
      ]
    },
    {
      "cell_type": "code",
      "metadata": {
        "id": "QKRq0liThIgn",
        "colab_type": "code",
        "colab": {}
      },
      "source": [
        "df = pd.read_csv(\"tweets.csv\")\n",
        "df[\"tokens\"] = df[\"text\"]"
      ],
      "execution_count": 0,
      "outputs": []
    },
    {
      "cell_type": "code",
      "metadata": {
        "id": "3NxJ2SQQn4tY",
        "colab_type": "code",
        "colab": {
          "base_uri": "https://localhost:8080/",
          "height": 51
        },
        "outputId": "7b331c27-a7e2-4681-98d1-603550ad9868"
      },
      "source": [
        "nltk.download('punkt')\n",
        "SENT_DETECTOR = nltk.data.load('tokenizers/punkt/english.pickle')"
      ],
      "execution_count": 14,
      "outputs": [
        {
          "output_type": "stream",
          "text": [
            "[nltk_data] Downloading package punkt to /root/nltk_data...\n",
            "[nltk_data]   Unzipping tokenizers/punkt.zip.\n"
          ],
          "name": "stdout"
        }
      ]
    },
    {
      "cell_type": "code",
      "metadata": {
        "id": "3EHV-5wihIgp",
        "colab_type": "code",
        "colab": {}
      },
      "source": [
        "df[\"tokens\"] = df[\"tokens\"].apply(word_tokenize)"
      ],
      "execution_count": 0,
      "outputs": []
    },
    {
      "cell_type": "code",
      "metadata": {
        "id": "GMG6ggeEhIgs",
        "colab_type": "code",
        "colab": {
          "base_uri": "https://localhost:8080/",
          "height": 221
        },
        "outputId": "a3fef4ca-2934-4b52-fdc3-7351c0d7ee8b"
      },
      "source": [
        "df.tokens"
      ],
      "execution_count": 16,
      "outputs": [
        {
          "output_type": "execute_result",
          "data": {
            "text/plain": [
              "0        [Les, Noirs, interdits, d, ’, accès, dans, les...\n",
              "1        [@, jbzvosmorts, @, McDoFr_Newsroom, Mrc, pour...\n",
              "2        [@, dominos_pizzafr, @, McDoFr_Newsroom, J, ’,...\n",
              "3                     [@, dt48plus, C, @, McDoFr_Newsroom]\n",
              "4        [Si, t, ’, enlève, les, faux, culs, ,, ceux, q...\n",
              "                               ...                        \n",
              "17995    [@, lucynotlucie, @, McDoFr_Newsroom, Javvvvv,...\n",
              "17996    [RT, @, lucynotlucie, :, 5ème, personne, qui, ...\n",
              "17997                   [@, giuxliano, @, McDoFr_Newsroom]\n",
              "17998    [5ème, personne, qui, me, demande, si, Mcdo, c...\n",
              "17999    [@, McDoFr_Newsroom, étant, donné, la, situati...\n",
              "Name: tokens, Length: 18000, dtype: object"
            ]
          },
          "metadata": {
            "tags": []
          },
          "execution_count": 16
        }
      ]
    },
    {
      "cell_type": "code",
      "metadata": {
        "id": "EtHrF1GGhIgv",
        "colab_type": "code",
        "colab": {
          "base_uri": "https://localhost:8080/",
          "height": 34
        },
        "outputId": "f99ce082-8aee-4586-d98f-390a9ff3490e"
      },
      "source": [
        "all_training_words = [word for tokens in df[\"tokens\"] for word in tokens]\n",
        "len(all_training_words)"
      ],
      "execution_count": 17,
      "outputs": [
        {
          "output_type": "execute_result",
          "data": {
            "text/plain": [
              "303300"
            ]
          },
          "metadata": {
            "tags": []
          },
          "execution_count": 17
        }
      ]
    },
    {
      "cell_type": "markdown",
      "metadata": {
        "id": "ysEhY6eHhIg0",
        "colab_type": "text"
      },
      "source": [
        "### 2.2 Transformation des mots en minuscules et élimination de la ponctuation"
      ]
    },
    {
      "cell_type": "code",
      "metadata": {
        "id": "wWCRBuGChIg0",
        "colab_type": "code",
        "colab": {}
      },
      "source": [
        "df[\"tokens\"] = df[\"tokens\"].apply(lambda tokens : [word.lower() for word in tokens if word.isalpha()])"
      ],
      "execution_count": 0,
      "outputs": []
    },
    {
      "cell_type": "code",
      "metadata": {
        "id": "iMy7LLxshIg3",
        "colab_type": "code",
        "colab": {
          "base_uri": "https://localhost:8080/",
          "height": 221
        },
        "outputId": "2b6a58a5-c964-4d84-e899-6f38162013ed"
      },
      "source": [
        "df.tokens"
      ],
      "execution_count": 19,
      "outputs": [
        {
          "output_type": "execute_result",
          "data": {
            "text/plain": [
              "0        [les, noirs, interdits, d, accès, dans, les, m...\n",
              "1                      [jbzvosmorts, mrc, pour, le, troll]\n",
              "2        [j, y, travaille, vous, êtes, des, hypocrites,...\n",
              "3                                                      [c]\n",
              "4        [si, t, enlève, les, faux, culs, ceux, qui, te...\n",
              "                               ...                        \n",
              "17995    [lucynotlucie, javvvvv, ce, taff, est, fait, p...\n",
              "17996    [rt, lucynotlucie, personne, qui, me, demande,...\n",
              "17997                                          [giuxliano]\n",
              "17998    [personne, qui, me, demande, si, mcdo, c, est,...\n",
              "17999    [étant, donné, la, situation, les, drive, de, ...\n",
              "Name: tokens, Length: 18000, dtype: object"
            ]
          },
          "metadata": {
            "tags": []
          },
          "execution_count": 19
        }
      ]
    },
    {
      "cell_type": "markdown",
      "metadata": {
        "id": "b2FlGICqhIg6",
        "colab_type": "text"
      },
      "source": [
        "### 2.3 élimination des Stopwords"
      ]
    },
    {
      "cell_type": "code",
      "metadata": {
        "id": "Xh3PwxBnqFIE",
        "colab_type": "code",
        "colab": {
          "base_uri": "https://localhost:8080/",
          "height": 68
        },
        "outputId": "691b02a7-0ab1-41b2-d9b3-8e9750128961"
      },
      "source": [
        "import nltk\n",
        "nltk.download('stopwords')"
      ],
      "execution_count": 22,
      "outputs": [
        {
          "output_type": "stream",
          "text": [
            "[nltk_data] Downloading package stopwords to /root/nltk_data...\n",
            "[nltk_data]   Unzipping corpora/stopwords.zip.\n"
          ],
          "name": "stdout"
        },
        {
          "output_type": "execute_result",
          "data": {
            "text/plain": [
              "True"
            ]
          },
          "metadata": {
            "tags": []
          },
          "execution_count": 22
        }
      ]
    },
    {
      "cell_type": "code",
      "metadata": {
        "id": "Q8nEcLD_hIg6",
        "colab_type": "code",
        "colab": {}
      },
      "source": [
        "stop_words = set(stopwords.words(['french','english']))\n",
        "df[\"tokens\"] = df[\"tokens\"].apply(lambda tokens : [word for word in tokens if not word in stop_words])"
      ],
      "execution_count": 0,
      "outputs": []
    },
    {
      "cell_type": "code",
      "metadata": {
        "id": "vAddsKThhIg8",
        "colab_type": "code",
        "colab": {
          "base_uri": "https://localhost:8080/",
          "height": 221
        },
        "outputId": "beebbd0d-e0a7-4795-caa4-72c4ed03c4e9"
      },
      "source": [
        "df.tokens"
      ],
      "execution_count": 34,
      "outputs": [
        {
          "output_type": "execute_result",
          "data": {
            "text/plain": [
              "0        [noir, interdit, acces, mcdonald, chin, avis, ...\n",
              "1                                 [jbzvosmort, mrc, troll]\n",
              "2         [travaill, hypocrit, magasin, trop, petit, http]\n",
              "3                                                       []\n",
              "4        [si, enlev, faux, cul, ceux, pourr, vi, sais, ...\n",
              "                               ...                        \n",
              "17995    [lucynotluc, javvvvv, taff, fait, esper, va, f...\n",
              "17996    [rt, lucynotluc, person, demand, si, mcdo, fer...\n",
              "17997                                          [giuxliano]\n",
              "17998    [person, demand, si, mcdo, ferm, pa, mdr, honn...\n",
              "17999    [situat, driv, nouveau, ouvert, pens, question...\n",
              "Name: tokens, Length: 18000, dtype: object"
            ]
          },
          "metadata": {
            "tags": []
          },
          "execution_count": 34
        }
      ]
    },
    {
      "cell_type": "markdown",
      "metadata": {
        "id": "CGdg-Q1mhIg_",
        "colab_type": "text"
      },
      "source": [
        "### 2.4 Application du Lemmatisation et du Stemming"
      ]
    },
    {
      "cell_type": "code",
      "metadata": {
        "id": "MFnt_mzdmquK",
        "colab_type": "code",
        "colab": {
          "base_uri": "https://localhost:8080/",
          "height": 68
        },
        "outputId": "3dd7919e-9e2f-4741-f338-695dade6c2b6"
      },
      "source": [
        "nltk.download ('wordnet')"
      ],
      "execution_count": 35,
      "outputs": [
        {
          "output_type": "stream",
          "text": [
            "[nltk_data] Downloading package wordnet to /root/nltk_data...\n",
            "[nltk_data]   Package wordnet is already up-to-date!\n"
          ],
          "name": "stdout"
        },
        {
          "output_type": "execute_result",
          "data": {
            "text/plain": [
              "True"
            ]
          },
          "metadata": {
            "tags": []
          },
          "execution_count": 35
        }
      ]
    },
    {
      "cell_type": "code",
      "metadata": {
        "id": "NTGGwrW5hIg_",
        "colab_type": "code",
        "colab": {}
      },
      "source": [
        "wordnet = WordNetLemmatizer()\n",
        "df[\"tokens\"] = df[\"tokens\"].apply(lambda tokens : [wordnet.lemmatize(word) for word in tokens])"
      ],
      "execution_count": 0,
      "outputs": []
    },
    {
      "cell_type": "code",
      "metadata": {
        "id": "1S9iAQByhIhC",
        "colab_type": "code",
        "colab": {}
      },
      "source": [
        "snowball = SnowballStemmer(language=\"french\")\n",
        "df[\"tokens\"] = df[\"tokens\"].apply(lambda tokens : [snowball.stem(word) for word in tokens])"
      ],
      "execution_count": 0,
      "outputs": []
    },
    {
      "cell_type": "code",
      "metadata": {
        "id": "tntgOm_dhIhG",
        "colab_type": "code",
        "colab": {
          "base_uri": "https://localhost:8080/",
          "height": 221
        },
        "outputId": "910bc9dc-7547-4ee7-f3f3-71d946b6bb72"
      },
      "source": [
        "df.tokens"
      ],
      "execution_count": 38,
      "outputs": [
        {
          "output_type": "execute_result",
          "data": {
            "text/plain": [
              "0        [noir, interd, acce, mcdonald, chin, avis, exp...\n",
              "1                                 [jbzvosmort, mrc, troll]\n",
              "2             [travaill, hypocr, magasin, trop, pet, http]\n",
              "3                                                       []\n",
              "4        [si, enlev, faux, cul, ceux, pourr, vi, sais, ...\n",
              "                               ...                        \n",
              "17995    [lucynotluc, javvvvv, taff, fait, esper, va, f...\n",
              "17996    [rt, lucynotluc, person, demand, si, mcdo, fer...\n",
              "17997                                          [giuxliano]\n",
              "17998    [person, demand, si, mcdo, ferm, pa, mdr, honn...\n",
              "17999    [situat, driv, nouveau, ouvert, pen, question,...\n",
              "Name: tokens, Length: 18000, dtype: object"
            ]
          },
          "metadata": {
            "tags": []
          },
          "execution_count": 38
        }
      ]
    },
    {
      "cell_type": "code",
      "metadata": {
        "id": "vmntJWjFhIhJ",
        "colab_type": "code",
        "colab": {
          "base_uri": "https://localhost:8080/",
          "height": 34
        },
        "outputId": "847dcb67-b3c2-4427-c840-a878b6546fdc"
      },
      "source": [
        "all_training_words = [word for tokens in df[\"tokens\"] for word in tokens]\n",
        "len(all_training_words)"
      ],
      "execution_count": 39,
      "outputs": [
        {
          "output_type": "execute_result",
          "data": {
            "text/plain": [
              "115920"
            ]
          },
          "metadata": {
            "tags": []
          },
          "execution_count": 39
        }
      ]
    },
    {
      "cell_type": "markdown",
      "metadata": {
        "id": "-2111EZ7hIhM",
        "colab_type": "text"
      },
      "source": [
        "## 4. Enregistrer les changements"
      ]
    },
    {
      "cell_type": "code",
      "metadata": {
        "id": "8yvRGkJzhIhN",
        "colab_type": "code",
        "colab": {}
      },
      "source": [
        "df.to_csv('tweets.csv', index = False, header=True)"
      ],
      "execution_count": 0,
      "outputs": []
    },
    {
      "cell_type": "markdown",
      "metadata": {
        "id": "so9iq7uthIhP",
        "colab_type": "text"
      },
      "source": [
        "## 5. BoW (Bag of Words)"
      ]
    },
    {
      "cell_type": "code",
      "metadata": {
        "id": "Wx8IhZ6GhIhP",
        "colab_type": "code",
        "colab": {}
      },
      "source": [
        "processed_docs = df.tokens"
      ],
      "execution_count": 0,
      "outputs": []
    },
    {
      "cell_type": "code",
      "metadata": {
        "id": "sddpY9BehIhR",
        "colab_type": "code",
        "colab": {
          "base_uri": "https://localhost:8080/",
          "height": 34
        },
        "outputId": "a9d82509-4121-44fc-c706-57431205cc50"
      },
      "source": [
        "dct = Dictionary(processed_docs)\n",
        "dct.filter_extremes(no_below=15, keep_n=100000)\n",
        "print(dct)"
      ],
      "execution_count": 42,
      "outputs": [
        {
          "output_type": "stream",
          "text": [
            "Dictionary(331 unique tokens: ['acce', 'anglais', 'avis', 'chin', 'expliqu']...)\n"
          ],
          "name": "stdout"
        }
      ]
    },
    {
      "cell_type": "markdown",
      "metadata": {
        "id": "Q0ELYKp5hIhU",
        "colab_type": "text"
      },
      "source": [
        "## 6. bow_corpus"
      ]
    },
    {
      "cell_type": "code",
      "metadata": {
        "id": "58bOw_A_hIhV",
        "colab_type": "code",
        "colab": {}
      },
      "source": [
        "processed_docs = processed_docs.iloc[:-10]\n",
        "# Les 10 dernières lignes sont réservées pour le test"
      ],
      "execution_count": 0,
      "outputs": []
    },
    {
      "cell_type": "code",
      "metadata": {
        "id": "gFGLhLjbhIhX",
        "colab_type": "code",
        "colab": {
          "base_uri": "https://localhost:8080/",
          "height": 221
        },
        "outputId": "9cf7c9a4-529c-492b-bd19-23a0e694ff0d"
      },
      "source": [
        "bow_corpus = [dct.doc2bow(doc) for doc in processed_docs]\n",
        "bow_corpus[0:3]"
      ],
      "execution_count": 44,
      "outputs": [
        {
          "output_type": "execute_result",
          "data": {
            "text/plain": [
              "[[(0, 1),\n",
              "  (1, 1),\n",
              "  (2, 1),\n",
              "  (3, 1),\n",
              "  (4, 1),\n",
              "  (5, 1),\n",
              "  (6, 1),\n",
              "  (7, 1),\n",
              "  (8, 1),\n",
              "  (9, 1)],\n",
              " [(10, 1), (11, 1), (12, 1)],\n",
              " [(5, 1), (13, 1), (14, 1), (15, 1), (16, 1), (17, 1)]]"
            ]
          },
          "metadata": {
            "tags": []
          },
          "execution_count": 44
        }
      ]
    },
    {
      "cell_type": "markdown",
      "metadata": {
        "id": "b7jgOQlHhIha",
        "colab_type": "text"
      },
      "source": [
        "## 7. Modèle TF-IDF"
      ]
    },
    {
      "cell_type": "code",
      "metadata": {
        "id": "H213Oq3DhIhb",
        "colab_type": "code",
        "colab": {}
      },
      "source": [
        "model_tfidf = TfidfModel(bow_corpus,normalize=True)"
      ],
      "execution_count": 0,
      "outputs": []
    },
    {
      "cell_type": "code",
      "metadata": {
        "id": "O4gXAXe8hIhd",
        "colab_type": "code",
        "colab": {
          "base_uri": "https://localhost:8080/",
          "height": 187
        },
        "outputId": "7c1a92c9-80ba-4a5b-d914-b34df97252ec"
      },
      "source": [
        "corpus_tfidf = model_tfidf[bow_corpus]\n",
        "corpus_tfidf[0]"
      ],
      "execution_count": 46,
      "outputs": [
        {
          "output_type": "execute_result",
          "data": {
            "text/plain": [
              "[(0, 0.3596592517224895),\n",
              " (1, 0.3596592517224895),\n",
              " (2, 0.3055186070300457),\n",
              " (3, 0.3596592517224895),\n",
              " (4, 0.3057358768213453),\n",
              " (5, 0.09938595697689748),\n",
              " (6, 0.3596592517224895),\n",
              " (7, 0.25137796233760173),\n",
              " (8, 0.3055186070300457),\n",
              " (9, 0.3596592517224895)]"
            ]
          },
          "metadata": {
            "tags": []
          },
          "execution_count": 46
        }
      ]
    },
    {
      "cell_type": "markdown",
      "metadata": {
        "id": "n-vQ9WnphIhf",
        "colab_type": "text"
      },
      "source": [
        "## 8. Modèle LDA"
      ]
    },
    {
      "cell_type": "code",
      "metadata": {
        "id": "qoeVaDE0hIhg",
        "colab_type": "code",
        "colab": {}
      },
      "source": [
        "model_lda = LdaMulticore(bow_corpus,num_topics=10, id2word=dct, chunksize=100, iterations=25, passes=2, workers=3)"
      ],
      "execution_count": 0,
      "outputs": []
    },
    {
      "cell_type": "code",
      "metadata": {
        "id": "TCdyhwCkhIhi",
        "colab_type": "code",
        "colab": {
          "base_uri": "https://localhost:8080/",
          "height": 731
        },
        "outputId": "e25a4ba9-6f67-4c0b-fefc-9cae7e688e1d"
      },
      "source": [
        "pprint(model_lda.top_topics(bow_corpus)[0:2])"
      ],
      "execution_count": 48,
      "outputs": [
        {
          "output_type": "stream",
          "text": [
            "[([(0.08318059, 'driv'),\n",
            "   (0.031196417, 'quand'),\n",
            "   (0.031196076, 'avril'),\n",
            "   (0.031196069, 'chaîn'),\n",
            "   (0.031196069, 'cour'),\n",
            "   (0.031196069, 'relanc'),\n",
            "   (0.031196069, 'repr'),\n",
            "   (0.031196065, 'tour'),\n",
            "   (0.031196062, 'pouvoir'),\n",
            "   (0.031196045, 'test'),\n",
            "   (0.031195998, 'esper'),\n",
            "   (0.03119573, 'http'),\n",
            "   (0.020799367, 'restos'),\n",
            "   (0.020799365, 'godault'),\n",
            "   (0.020799365, 'list'),\n",
            "   (0.020799361, 'noyel'),\n",
            "   (0.02079928, 'chouetteagil'),\n",
            "   (0.020799275, 'ça'),\n",
            "   (0.020799248, 'confin'),\n",
            "   (0.020799236, 'retour')],\n",
            "  -13.37791438130462),\n",
            " ([(0.06797467, 'mcdo'),\n",
            "   (0.06737945, 'si'),\n",
            "   (0.044924457, 'pa'),\n",
            "   (0.04492409, 'ferm'),\n",
            "   (0.044923898, 'comm'),\n",
            "   (0.044923857, 'demand'),\n",
            "   (0.04492381, 'mdr'),\n",
            "   (0.044923734, 'prendr'),\n",
            "   (0.04492373, 'honnêt'),\n",
            "   (0.044923723, 'person'),\n",
            "   (0.044923708, 'devr'),\n",
            "   (0.023063077, 'réouvertur'),\n",
            "   (0.023062497, 'nouveau'),\n",
            "   (0.023062449, 'menu'),\n",
            "   (0.023062438, 'esper'),\n",
            "   (0.023062421, 'mot'),\n",
            "   (0.023062421, 'oubl'),\n",
            "   (0.023062421, 'yaur'),\n",
            "   (0.023062421, 'kfc'),\n",
            "   (0.023062421, 'wlh')],\n",
            "  -13.655498795146325)]\n"
          ],
          "name": "stdout"
        }
      ]
    },
    {
      "cell_type": "code",
      "metadata": {
        "id": "AFkqXnZZhIhl",
        "colab_type": "code",
        "colab": {
          "base_uri": "https://localhost:8080/",
          "height": 527
        },
        "outputId": "1e670fed-cf66-492f-ccf4-2fee3e0e62e3"
      },
      "source": [
        "for idx,topic in model_lda.print_topics():\n",
        "    pprint('Topic {} : Word: {}'.format(idx,topic))"
      ],
      "execution_count": 49,
      "outputs": [
        {
          "output_type": "stream",
          "text": [
            "('Topic 0 : Word: 0.083*\"lucynotluc\" + 0.056*\"pa\" + 0.056*\"mdr\" + 0.055*\"va\" + '\n",
            " '0.028*\"tranquill\" + 0.028*\"ça\" + 0.028*\"quelqu\" + 0.028*\"chos\" + '\n",
            " '0.028*\"faut\" + 0.028*\"fais\"')\n",
            "('Topic 1 : Word: 0.112*\"http\" + 0.075*\"quoi\" + 0.075*\"là\" + 0.075*\"bouahah\" + '\n",
            " '0.075*\"oblig\" + 0.075*\"mdrrrr\" + 0.075*\"envoi\" + 0.075*\"regard\" + 0.067*\"rt\" '\n",
            " '+ 0.007*\"incroi\"')\n",
            "('Topic 2 : Word: 0.055*\"kpancol\" + 0.028*\"ça\" + 0.028*\"réouvr\" + 0.028*\"ah\" + '\n",
            " '0.028*\"tout\" + 0.028*\"encor\" + 0.028*\"franc\" + 0.028*\"rt\" + 0.028*\"retour\" + '\n",
            " '0.028*\"toyouwitlov\"')\n",
            "('Topic 3 : Word: 0.068*\"mcdo\" + 0.067*\"si\" + 0.045*\"pa\" + 0.045*\"ferm\" + '\n",
            " '0.045*\"comm\" + 0.045*\"demand\" + 0.045*\"mdr\" + 0.045*\"prendr\" + '\n",
            " '0.045*\"honnêt\" + 0.045*\"person\"')\n",
            "('Topic 4 : Word: 0.044*\"mcdo\" + 0.029*\"fait\" + 0.029*\"ok\" + 0.029*\"autour\" + '\n",
            " '0.029*\"com\" + 0.029*\"derr\" + 0.029*\"mi\" + 0.029*\"dang\" + 0.029*\"soutien\" + '\n",
            " '0.029*\"http\"')\n",
            "('Topic 5 : Word: 0.083*\"driv\" + 0.031*\"quand\" + 0.031*\"avril\" + '\n",
            " '0.031*\"relanc\" + 0.031*\"cour\" + 0.031*\"chaîn\" + 0.031*\"repr\" + 0.031*\"tour\" '\n",
            " '+ 0.031*\"pouvoir\" + 0.031*\"test\"')\n",
            "('Topic 6 : Word: 0.048*\"franc\" + 0.047*\"ouvert\" + 0.032*\"rt\" + '\n",
            " '0.032*\"mcdonald\" + 0.032*\"leilachaib\" + 0.032*\"interpellon\" + '\n",
            " '0.032*\"manonaubry\" + 0.032*\"collègu\" + 0.032*\"direct\" + 0.032*\"local\"')\n",
            "('Topic 7 : Word: 0.048*\"restaur\" + 0.032*\"sais\" + 0.032*\"burgerkingfr\" + '\n",
            " '0.032*\"rt\" + 0.032*\"ouvr\" + 0.032*\"autr\" + 0.032*\"test\" + 0.032*\"mediapart\" '\n",
            " '+ 0.032*\"merc\" + 0.032*\"trentain\"')\n",
            "('Topic 8 : Word: 0.079*\"http\" + 0.052*\"avis\" + 0.052*\"ferm\" + '\n",
            " '0.026*\"mcdonald\" + 0.026*\"parl\" + 0.026*\"pet\" + 0.026*\"question\" + '\n",
            " '0.026*\"merc\" + 0.026*\"trop\" + 0.026*\"qqc\"')\n",
            "('Topic 9 : Word: 0.060*\"pa\" + 0.030*\"chos\" + 0.030*\"rt\" + 0.030*\"jcroi\" + '\n",
            " '0.030*\"bachel\" + 0.030*\"jv\" + 0.030*\"mcflurry\" + 0.030*\"prépar\" + '\n",
            " '0.030*\"être\" + 0.030*\"mcdo\"')\n"
          ],
          "name": "stdout"
        }
      ]
    },
    {
      "cell_type": "markdown",
      "metadata": {
        "id": "A6D_R419hIho",
        "colab_type": "text"
      },
      "source": [
        "## 9. Modèle LDA-TFIDF"
      ]
    },
    {
      "cell_type": "code",
      "metadata": {
        "id": "BKhJCKWwhIho",
        "colab_type": "code",
        "colab": {
          "base_uri": "https://localhost:8080/",
          "height": 279
        },
        "outputId": "a9f5f531-7311-476a-a99f-4da27d461c20"
      },
      "source": [
        "# Hyperparameter Tuning\n",
        "\n",
        "topics_range = range(2, 20, 1)\n",
        "model_results = { 'Topics': [],\n",
        "                 'Coherence': []\n",
        "                }\n",
        "\n",
        "for k in topics_range:\n",
        "    lda_model_test = LdaMulticore(corpus=corpus_tfidf, id2word=dct, num_topics=k, random_state=42, chunksize=100, iterations=25, passes=2, workers=3)\n",
        "    coherence_model_lda = CoherenceModel(model=lda_model_test, texts=processed_docs, dictionary=dct, coherence='c_v')    \n",
        "    cv = coherence_model_lda.get_coherence()\n",
        "    model_results['Topics'].append(k)\n",
        "    model_results['Coherence'].append(cv)\n",
        "\n",
        "plt.plot(model_results['Topics'], model_results['Coherence'])\n",
        "plt.xlabel(\"Num Topics\")\n",
        "plt.ylabel(\"Coherence score\")\n",
        "plt.legend((\"coherence_values\"), loc='best')\n",
        "plt.show()"
      ],
      "execution_count": 50,
      "outputs": [
        {
          "output_type": "display_data",
          "data": {
            "image/png": "[encoded data removed]",
            "text/plain": [
              "<Figure size 432x288 with 1 Axes>"
            ]
          },
          "metadata": {
            "tags": [],
            "needs_background": "light"
          }
        }
      ]
    },
    {
      "cell_type": "code",
      "metadata": {
        "id": "61fVdi9xhIhr",
        "colab_type": "code",
        "colab": {}
      },
      "source": [
        "model_tfidf_lda = LdaMulticore(corpus_tfidf,num_topics=3,random_state=42, id2word=dct, chunksize=100, iterations=25, passes=2, workers=3)"
      ],
      "execution_count": 0,
      "outputs": []
    },
    {
      "cell_type": "code",
      "metadata": {
        "id": "NIMtPSx5GjUn",
        "colab_type": "code",
        "colab": {
          "base_uri": "https://localhost:8080/",
          "height": 632
        },
        "outputId": "043512ce-8962-4c11-ff0d-dced875447f0"
      },
      "source": [
        "pip install pyldavis"
      ],
      "execution_count": 52,
      "outputs": [
        {
          "output_type": "stream",
          "text": [
            "Collecting pyldavis\n",
            "\u001b[?25l  Downloading https://files.pythonhosted.org/packages/a5/3a/af82e070a8a96e13217c8f362f9a73e82d61ac8fff3a2561946a97f96266/pyLDAvis-2.1.2.tar.gz (1.6MB)\n",
            "\u001b[K     |████████████████████████████████| 1.6MB 4.9MB/s \n",
            "\u001b[?25hRequirement already satisfied: wheel>=0.23.0 in /usr/local/lib/python3.6/dist-packages (from pyldavis) (0.34.2)\n",
            "Requirement already satisfied: numpy>=1.9.2 in /usr/local/lib/python3.6/dist-packages (from pyldavis) (1.18.2)\n",
            "Requirement already satisfied: scipy>=0.18.0 in /usr/local/lib/python3.6/dist-packages (from pyldavis) (1.4.1)\n",
            "Requirement already satisfied: pandas>=0.17.0 in /usr/local/lib/python3.6/dist-packages (from pyldavis) (1.0.3)\n",
            "Requirement already satisfied: joblib>=0.8.4 in /usr/local/lib/python3.6/dist-packages (from pyldavis) (0.14.1)\n",
            "Requirement already satisfied: jinja2>=2.7.2 in /usr/local/lib/python3.6/dist-packages (from pyldavis) (2.11.1)\n",
            "Requirement already satisfied: numexpr in /usr/local/lib/python3.6/dist-packages (from pyldavis) (2.7.1)\n",
            "Requirement already satisfied: pytest in /usr/local/lib/python3.6/dist-packages (from pyldavis) (3.6.4)\n",
            "Requirement already satisfied: future in /usr/local/lib/python3.6/dist-packages (from pyldavis) (0.16.0)\n",
            "Collecting funcy\n",
            "\u001b[?25l  Downloading https://files.pythonhosted.org/packages/ce/4b/6ffa76544e46614123de31574ad95758c421aae391a1764921b8a81e1eae/funcy-1.14.tar.gz (548kB)\n",
            "\u001b[K     |████████████████████████████████| 552kB 39.0MB/s \n",
            "\u001b[?25hRequirement already satisfied: python-dateutil>=2.6.1 in /usr/local/lib/python3.6/dist-packages (from pandas>=0.17.0->pyldavis) (2.8.1)\n",
            "Requirement already satisfied: pytz>=2017.2 in /usr/local/lib/python3.6/dist-packages (from pandas>=0.17.0->pyldavis) (2018.9)\n",
            "Requirement already satisfied: MarkupSafe>=0.23 in /usr/local/lib/python3.6/dist-packages (from jinja2>=2.7.2->pyldavis) (1.1.1)\n",
            "Requirement already satisfied: setuptools in /usr/local/lib/python3.6/dist-packages (from pytest->pyldavis) (46.1.3)\n",
            "Requirement already satisfied: pluggy<0.8,>=0.5 in /usr/local/lib/python3.6/dist-packages (from pytest->pyldavis) (0.7.1)\n",
            "Requirement already satisfied: atomicwrites>=1.0 in /usr/local/lib/python3.6/dist-packages (from pytest->pyldavis) (1.3.0)\n",
            "Requirement already satisfied: attrs>=17.4.0 in /usr/local/lib/python3.6/dist-packages (from pytest->pyldavis) (19.3.0)\n",
            "Requirement already satisfied: six>=1.10.0 in /usr/local/lib/python3.6/dist-packages (from pytest->pyldavis) (1.12.0)\n",
            "Requirement already satisfied: py>=1.5.0 in /usr/local/lib/python3.6/dist-packages (from pytest->pyldavis) (1.8.1)\n",
            "Requirement already satisfied: more-itertools>=4.0.0 in /usr/local/lib/python3.6/dist-packages (from pytest->pyldavis) (8.2.0)\n",
            "Building wheels for collected packages: pyldavis, funcy\n",
            "  Building wheel for pyldavis (setup.py) ... \u001b[?25l\u001b[?25hdone\n",
            "  Created wheel for pyldavis: filename=pyLDAvis-2.1.2-py2.py3-none-any.whl size=97711 sha256=ced7bebec5677cd151ab16cb82a7954d00a7eef133e4c907a952267cff50bd78\n",
            "  Stored in directory: /root/.cache/pip/wheels/98/71/24/513a99e58bb6b8465bae4d2d5e9dba8f0bef8179e3051ac414\n",
            "  Building wheel for funcy (setup.py) ... \u001b[?25l\u001b[?25hdone\n",
            "  Created wheel for funcy: filename=funcy-1.14-py2.py3-none-any.whl size=32042 sha256=0b8480e273fdfa3701ff4b4eb11556d33f1ca33e97e8c9046f87f7b2305403c8\n",
            "  Stored in directory: /root/.cache/pip/wheels/20/5a/d8/1d875df03deae6f178dfdf70238cca33f948ef8a6f5209f2eb\n",
            "Successfully built pyldavis funcy\n",
            "Installing collected packages: funcy, pyldavis\n",
            "Successfully installed funcy-1.14 pyldavis-2.1.2\n"
          ],
          "name": "stdout"
        }
      ]
    },
    {
      "cell_type": "code",
      "metadata": {
        "id": "SUY4DZHzhIhv",
        "colab_type": "code",
        "colab": {
          "base_uri": "https://localhost:8080/",
          "height": 881
        },
        "outputId": "c7102f97-2ae6-4a75-8aeb-4af01ee44ba2"
      },
      "source": [
        "# Visualize the topics\n",
        "import pyLDAvis\n",
        "import pyLDAvis.gensim\n",
        "pyLDAvis.enable_notebook()\n",
        "vis = pyLDAvis.gensim.prepare(model_tfidf_lda, corpus_tfidf, dct)\n",
        "vis"
      ],
      "execution_count": 53,
      "outputs": [
        {
          "output_type": "execute_result",
          "data": {
            "text/html": [
              "\n",
              "<link rel=\"stylesheet\" type=\"text/css\" href=\"https://cdn.rawgit.com/bmabey/pyLDAvis/files/ldavis.v1.0.0.css\">\n",
              "\n",
              "\n",
              "<div id=\"ldavis_el1221396966516199287007172907\"></div>\n",
              "<script type=\"text/javascript\">\n",
              "\n",
              "var ldavis_el1221396966516199287007172907_data = {\"mdsDat\": {\"x\": [-0.3273842059694285, 0.23178504645377115, 0.09559915951565734], \"y\": [-0.07322448808133646, -0.22742988352854154, 0.3006543716098781], \"topics\": [1, 2, 3], \"cluster\": [1, 1, 1], \"Freq\": [36.26616287231445, 32.80574035644531, 30.928096771240234]}, \"tinfo\": {\"Term\": [\"l\\u00e0\", \"quoi\", \"bouahah\", \"envoi\", \"regard\", \"mdrrrr\", \"oblig\", \"pomm\", \"ferm\", \"ok\", \"lucynotluc\", \"esper\", \"mdr\", \"r\\u00e9ouvr\", \"tranquill\", \"ger\", \"dar\", \"ah\", \"giuxliano\", \"relanc\", \"avril\", \"cha\\u00een\", \"pouvoir\", \"repr\", \"tour\", \"cour\", \"demand\", \"mdrr\", \"rockybalol\", \"mcdo\", \"l\\u00e0\", \"quoi\", \"bouahah\", \"envoi\", \"regard\", \"mdrrrr\", \"oblig\", \"tranquill\", \"ah\", \"bos\", \"apre\", \"merd\", \"nan\", \"list\", \"noyel\", \"restos\", \"godault\", \"vois\", \"au\", \"mongol\", \"espec\", \"coll\\u00e8gu\", \"manonaubry\", \"local\", \"\\u00e9lus\", \"direct\", \"interpellon\", \"proteg\", \"door\", \"open\", \"rt\", \"http\", \"svp\", \"ouvert\", \"driv\", \"quand\", \"mcdonald\", \"retour\", \"franc\", \"esper\", \"ger\", \"dar\", \"avril\", \"relanc\", \"repr\", \"tour\", \"cha\\u00een\", \"pouvoir\", \"giuxliano\", \"cour\", \"fair\", \"pet\", \"jv\", \"jcroi\", \"\\u00eatre\", \"bachel\", \"mcflurry\", \"pr\\u00e9par\", \"abrut\", \"problem\", \"aucun\", \"preuv\", \"chouetteagil\", \"nouveau\", \"menteur\", \"phras\", \"allez\", \"except\", \"go\\u00fbt\", \"va\", \"\\u00e7a\", \"tout\", \"menu\", \"driv\", \"test\", \"mcdo\", \"http\", \"pa\", \"ferm\", \"ok\", \"pomm\", \"mdr\", \"r\\u00e9ouvr\", \"demand\", \"mdrr\", \"rockybalol\", \"oue\", \"accord\", \"mediapart\", \"servent\", \"trentain\", \"ambassadric\", \"derr\", \"dang\", \"com\", \"soutien\", \"autour\", \"mi\", \"alor\", \"prendr\", \"honn\\u00eat\", \"devr\", \"person\", \"surtout\", \"bien\", \"eh\", \"nik\", \"amis\", \"lucynotluc\", \"merc\", \"sais\", \"pa\", \"mcdo\", \"manqu\", \"http\", \"restaur\", \"autr\", \"ouvr\"], \"Freq\": [665.0, 665.0, 632.0, 632.0, 632.0, 632.0, 632.0, 307.0, 293.0, 282.0, 333.0, 241.0, 206.0, 189.0, 218.0, 180.0, 180.0, 192.0, 173.0, 172.0, 172.0, 172.0, 172.0, 172.0, 172.0, 172.0, 160.0, 156.0, 153.0, 368.0, 665.2568359375, 665.2567749023438, 631.8515014648438, 631.8508911132812, 631.8505859375, 631.8504028320312, 631.8504028320312, 218.25909423828125, 192.1651153564453, 173.90150451660156, 136.29998779296875, 132.614013671875, 132.61392211914062, 124.6457748413086, 124.6457748413086, 124.64575958251953, 124.64574432373047, 124.58451080322266, 124.58345794677734, 123.06099700927734, 123.06087493896484, 117.5035629272461, 117.50353240966797, 117.5035400390625, 117.5035400390625, 117.5035400390625, 117.50347137451172, 111.2677230834961, 105.53876495361328, 105.53873443603516, 460.7059631347656, 432.0218200683594, 176.29649353027344, 147.2380828857422, 195.7997283935547, 173.43051147460938, 144.09983825683594, 135.33335876464844, 133.97593688964844, 241.0782928466797, 180.19920349121094, 180.19635009765625, 172.11647033691406, 172.11647033691406, 172.11642456054688, 172.11642456054688, 172.11647033691406, 172.11642456054688, 172.99368286132812, 172.11642456054688, 145.65379333496094, 144.71109008789062, 142.2473907470703, 142.2473602294922, 142.24734497070312, 142.24732971191406, 142.24729919433594, 142.2472686767578, 137.4157257080078, 134.03631591796875, 127.51689147949219, 127.51663970947266, 125.17817687988281, 120.4675521850586, 117.0898666381836, 117.08980560302734, 115.9332504272461, 112.23259735107422, 104.17839050292969, 212.971923828125, 207.856689453125, 147.30857849121094, 142.13388061523438, 185.71798706054688, 147.74594116210938, 152.03646850585938, 129.43783569335938, 128.67547607421875, 292.4908447265625, 281.79901123046875, 306.3345947265625, 205.9311065673828, 188.82749938964844, 160.15211486816406, 156.04766845703125, 152.58038330078125, 141.93995666503906, 141.939697265625, 136.7467041015625, 136.7467041015625, 136.7467041015625, 130.39117431640625, 130.07960510253906, 130.07962036132812, 130.07960510253906, 130.07955932617188, 130.0795440673828, 130.07948303222656, 127.25444793701172, 118.14251708984375, 118.14250183105469, 118.14244079589844, 118.14239501953125, 116.27619934082031, 114.3274917602539, 112.96085357666016, 112.9608383178711, 111.4561996459961, 292.55462646484375, 194.14837646484375, 171.19776916503906, 248.30418395996094, 216.32997131347656, 135.9535369873047, 163.1731414794922, 126.27462005615234, 124.39149475097656, 124.55789947509766], \"Total\": [665.0, 665.0, 632.0, 632.0, 632.0, 632.0, 632.0, 307.0, 293.0, 282.0, 333.0, 241.0, 206.0, 189.0, 218.0, 180.0, 180.0, 192.0, 173.0, 172.0, 172.0, 172.0, 172.0, 172.0, 172.0, 172.0, 160.0, 156.0, 153.0, 368.0, 665.9405517578125, 665.9405517578125, 632.5336303710938, 632.5338134765625, 632.5338134765625, 632.5337524414062, 632.5337524414062, 218.93905639648438, 192.84397888183594, 174.58230590820312, 136.9777374267578, 133.29283142089844, 133.29283142089844, 125.32252502441406, 125.32252502441406, 125.3225326538086, 125.3225326538086, 125.26315307617188, 125.26315307617188, 123.73976135253906, 123.73978424072266, 118.18010711669922, 118.18009948730469, 118.18010711669922, 118.18010711669922, 118.18010711669922, 118.18010711669922, 111.94498443603516, 106.21698760986328, 106.21700286865234, 669.3008422851562, 724.6328125, 215.9316864013672, 195.82456970214844, 409.4078063964844, 309.10345458984375, 216.00399780273438, 183.46173095703125, 244.68296813964844, 241.74322509765625, 180.86729431152344, 180.8673553466797, 172.78111267089844, 172.78111267089844, 172.78109741210938, 172.78111267089844, 172.7811279296875, 172.78109741210938, 173.66175842285156, 172.7811279296875, 146.3194122314453, 145.37701416015625, 142.9133758544922, 142.9133758544922, 142.9133758544922, 142.91339111328125, 142.9134063720703, 142.91339111328125, 138.0828857421875, 134.70294189453125, 128.18397521972656, 128.18397521972656, 125.8427734375, 121.13250732421875, 117.75663757324219, 117.75662231445312, 116.5984878540039, 112.89856719970703, 104.84440612792969, 290.12884521484375, 330.05792236328125, 195.19976806640625, 187.2430877685547, 409.4078063964844, 252.18145751953125, 368.68902587890625, 724.6328125, 439.760986328125, 293.1460266113281, 282.45501708984375, 307.06695556640625, 206.5854949951172, 189.4820098876953, 160.8064422607422, 156.7036895751953, 153.23544311523438, 142.5950469970703, 142.59503173828125, 137.40040588378906, 137.40040588378906, 137.40042114257812, 131.04559326171875, 130.73336791992188, 130.73336791992188, 130.73336791992188, 130.7333526611328, 130.7333526611328, 130.73336791992188, 127.9089126586914, 118.79678344726562, 118.79678344726562, 118.79676818847656, 118.79676818847656, 116.93107604980469, 114.9813232421875, 113.61542510986328, 113.61543273925781, 112.10975646972656, 333.6319885253906, 231.53878784179688, 213.61367797851562, 439.760986328125, 368.68902587890625, 220.1573486328125, 724.6328125, 182.96397399902344, 165.55686950683594, 176.82984924316406], \"Category\": [\"Default\", \"Default\", \"Default\", \"Default\", \"Default\", \"Default\", \"Default\", \"Default\", \"Default\", \"Default\", \"Default\", \"Default\", \"Default\", \"Default\", \"Default\", \"Default\", \"Default\", \"Default\", \"Default\", \"Default\", \"Default\", \"Default\", \"Default\", \"Default\", \"Default\", \"Default\", \"Default\", \"Default\", \"Default\", \"Default\", \"Topic1\", \"Topic1\", \"Topic1\", \"Topic1\", \"Topic1\", \"Topic1\", \"Topic1\", \"Topic1\", \"Topic1\", \"Topic1\", \"Topic1\", \"Topic1\", \"Topic1\", \"Topic1\", \"Topic1\", \"Topic1\", \"Topic1\", \"Topic1\", \"Topic1\", \"Topic1\", \"Topic1\", \"Topic1\", \"Topic1\", \"Topic1\", \"Topic1\", \"Topic1\", \"Topic1\", \"Topic1\", \"Topic1\", \"Topic1\", \"Topic1\", \"Topic1\", \"Topic1\", \"Topic1\", \"Topic1\", \"Topic1\", \"Topic1\", \"Topic1\", \"Topic1\", \"Topic2\", \"Topic2\", \"Topic2\", \"Topic2\", \"Topic2\", \"Topic2\", \"Topic2\", \"Topic2\", \"Topic2\", \"Topic2\", \"Topic2\", \"Topic2\", \"Topic2\", \"Topic2\", \"Topic2\", \"Topic2\", \"Topic2\", \"Topic2\", \"Topic2\", \"Topic2\", \"Topic2\", \"Topic2\", \"Topic2\", \"Topic2\", \"Topic2\", \"Topic2\", \"Topic2\", \"Topic2\", \"Topic2\", \"Topic2\", \"Topic2\", \"Topic2\", \"Topic2\", \"Topic2\", \"Topic2\", \"Topic2\", \"Topic2\", \"Topic2\", \"Topic2\", \"Topic3\", \"Topic3\", \"Topic3\", \"Topic3\", \"Topic3\", \"Topic3\", \"Topic3\", \"Topic3\", \"Topic3\", \"Topic3\", \"Topic3\", \"Topic3\", \"Topic3\", \"Topic3\", \"Topic3\", \"Topic3\", \"Topic3\", \"Topic3\", \"Topic3\", \"Topic3\", \"Topic3\", \"Topic3\", \"Topic3\", \"Topic3\", \"Topic3\", \"Topic3\", \"Topic3\", \"Topic3\", \"Topic3\", \"Topic3\", \"Topic3\", \"Topic3\", \"Topic3\", \"Topic3\", \"Topic3\", \"Topic3\", \"Topic3\", \"Topic3\", \"Topic3\", \"Topic3\"], \"logprob\": [30.0, 29.0, 28.0, 27.0, 26.0, 25.0, 24.0, 23.0, 22.0, 21.0, 20.0, 19.0, 18.0, 17.0, 16.0, 15.0, 14.0, 13.0, 12.0, 11.0, 10.0, 9.0, 8.0, 7.0, 6.0, 5.0, 4.0, 3.0, 2.0, 1.0, -3.1196000576019287, -3.1196000576019287, -3.171099901199341, -3.171099901199341, -3.171099901199341, -3.171099901199341, -3.171099901199341, -4.234099864959717, -4.361400127410889, -4.461299896240234, -4.704899787902832, -4.7322998046875, -4.7322998046875, -4.794300079345703, -4.794300079345703, -4.794300079345703, -4.794300079345703, -4.7947998046875, -4.7947998046875, -4.80709981918335, -4.80709981918335, -4.853300094604492, -4.853300094604492, -4.853300094604492, -4.853300094604492, -4.853300094604492, -4.853300094604492, -4.907800197601318, -4.960700035095215, -4.960700035095215, -3.486999988555908, -3.551300048828125, -4.4475998878479, -4.627699851989746, -4.342700004577637, -4.464000225067139, -4.6493000984191895, -4.711999893188477, -4.722099781036377, -4.03439998626709, -4.325399875640869, -4.325399875640869, -4.371300220489502, -4.371300220489502, -4.371300220489502, -4.371300220489502, -4.371300220489502, -4.371300220489502, -4.366199970245361, -4.371300220489502, -4.538300037384033, -4.5447001457214355, -4.5619001388549805, -4.5619001388549805, -4.5619001388549805, -4.5619001388549805, -4.5619001388549805, -4.5619001388549805, -4.596499919891357, -4.621399879455566, -4.671199798583984, -4.671199798583984, -4.689700126647949, -4.728099822998047, -4.756499767303467, -4.756499767303467, -4.766499996185303, -4.798900127410889, -4.8734002113342285, -4.158299922943115, -4.182600021362305, -4.5269999504089355, -4.562699794769287, -4.295300006866455, -4.52400016784668, -4.4953999519348145, -4.656300067901611, -4.662199974060059, -3.782099962234497, -3.8194000720977783, -3.7358999252319336, -4.132999897003174, -4.219699859619141, -4.384399890899658, -4.410399913787842, -4.4328999519348145, -4.505099773406982, -4.505099773406982, -4.542399883270264, -4.542399883270264, -4.542399883270264, -4.590000152587891, -4.592400074005127, -4.592400074005127, -4.592400074005127, -4.592400074005127, -4.592400074005127, -4.592400074005127, -4.6143999099731445, -4.688700199127197, -4.688700199127197, -4.688700199127197, -4.688700199127197, -4.704599857330322, -4.721499919891357, -4.733500003814697, -4.733500003814697, -4.7469000816345215, -3.781899929046631, -4.19189977645874, -4.317699909210205, -3.9458999633789062, -4.083700180053711, -4.5482001304626465, -4.365699768066406, -4.622099876403809, -4.6371002197265625, -4.635799884796143], \"loglift\": [30.0, 29.0, 28.0, 27.0, 26.0, 25.0, 24.0, 23.0, 22.0, 21.0, 20.0, 19.0, 18.0, 17.0, 16.0, 15.0, 14.0, 13.0, 12.0, 11.0, 10.0, 9.0, 8.0, 7.0, 6.0, 5.0, 4.0, 3.0, 2.0, 1.0, 1.0132999420166016, 1.0132999420166016, 1.013200044631958, 1.013200044631958, 1.013200044631958, 1.013200044631958, 1.013200044631958, 1.011199951171875, 1.0108000040054321, 1.0104000568389893, 1.0092999935150146, 1.0091999769210815, 1.0091999769210815, 1.0089000463485718, 1.0089000463485718, 1.0089000463485718, 1.0089000463485718, 1.0089000463485718, 1.0088000297546387, 1.0088000297546387, 1.0088000297546387, 1.0084999799728394, 1.0084999799728394, 1.0084999799728394, 1.0084999799728394, 1.0084999799728394, 1.0084999799728394, 1.0082000494003296, 1.0078999996185303, 1.0078999996185303, 0.6407999992370605, 0.49709999561309814, 0.8115000128746033, 0.7290999889373779, 0.2766999900341034, 0.43639999628067017, 0.609499990940094, 0.7099999785423279, 0.41200000047683716, 1.111799955368042, 1.1109000444412231, 1.11080002784729, 1.110700011253357, 1.110700011253357, 1.110700011253357, 1.110700011253357, 1.110700011253357, 1.110700011253357, 1.110700011253357, 1.110700011253357, 1.1100000143051147, 1.1100000143051147, 1.1098999977111816, 1.1098999977111816, 1.1098999977111816, 1.1098999977111816, 1.1098999977111816, 1.1098999977111816, 1.1096999645233154, 1.1095999479293823, 1.1093000173568726, 1.1093000173568726, 1.1093000173568726, 1.1090999841690063, 1.1088999509811401, 1.1088999509811401, 1.1088000535964966, 1.1087000370025635, 1.108199954032898, 0.805400013923645, 0.6521000266075134, 0.8331000208854675, 0.8389000296592712, 0.32409998774528503, 0.5799000263214111, 0.22869999706745148, -0.6079000234603882, -0.1143999993801117, 1.1713000535964966, 1.1712000370025635, 1.1711000204086304, 1.170300006866455, 1.1699999570846558, 1.1693999767303467, 1.1692999601364136, 1.1691999435424805, 1.1689000129699707, 1.1689000129699707, 1.1686999797821045, 1.1686999797821045, 1.1686999797821045, 1.1684999465942383, 1.1684999465942383, 1.1684999465942383, 1.1684999465942383, 1.1684999465942383, 1.1684999465942383, 1.1684999465942383, 1.1684000492095947, 1.1679999828338623, 1.1679999828338623, 1.1679999828338623, 1.1679999828338623, 1.1678999662399292, 1.167799949645996, 1.1677000522613525, 1.1677000522613525, 1.1677000522613525, 1.042099952697754, 0.9973999857902527, 0.9521999955177307, 0.6018999814987183, 0.6403999924659729, 0.6915000081062317, -0.3172999918460846, 0.8026999831199646, 0.8876000046730042, 0.8230999708175659]}, \"token.table\": {\"Topic\": [2, 3, 1, 2, 3, 3, 3, 1, 1, 2, 3, 2, 3, 2, 2, 3, 1, 1, 2, 2, 1, 3, 2, 3, 2, 3, 3, 3, 1, 1, 1, 2, 3, 3, 1, 1, 2, 2, 2, 3, 1, 2, 3, 2, 2, 1, 2, 3, 1, 2, 3, 1, 2, 2, 1, 1, 2, 3, 1, 1, 1, 3, 2, 3, 1, 3, 2, 3, 3, 1, 3, 2, 1, 2, 1, 3, 1, 3, 1, 1, 3, 2, 1, 1, 3, 1, 3, 1, 2, 2, 3, 1, 2, 3, 3, 2, 2, 3, 2, 3, 2, 2, 1, 2, 1, 2, 3, 1, 1, 2, 2, 1, 3, 1, 1, 3, 3, 1, 2, 3, 3, 2, 3, 3, 3, 3, 1, 2, 2, 3, 2, 2, 3, 1, 3, 2, 3, 1, 2, 3, 1, 2], \"Freq\": [0.9921576976776123, 0.9958271384239197, 0.9956235289573669, 0.9948670864105225, 0.9928940534591675, 0.9920211434364319, 0.990101158618927, 0.9928620457649231, 0.9978991746902466, 0.9985647797584534, 0.9943904876708984, 0.24764904379844666, 0.7489873170852661, 0.995479166507721, 0.9936087727546692, 0.9914653897285461, 0.9966645836830139, 0.9991563558578491, 0.9954791069030762, 0.9933029413223267, 0.998475968837738, 0.9943903684616089, 0.9954791069030762, 0.9943903684616089, 0.9952044486999512, 0.9949849843978882, 0.9943903684616089, 0.9932929873466492, 0.998475968837738, 0.9979571104049683, 0.47874027490615845, 0.4543147385120392, 0.06839146465063095, 0.994583249092102, 0.9991560578346252, 0.994021475315094, 0.9969255328178406, 0.9920409321784973, 0.9978170394897461, 0.9960905909538269, 0.5476474165916443, 0.15121608972549438, 0.30243217945098877, 0.9952048063278198, 0.9961893558502197, 0.9974263906478882, 0.9919461011886597, 0.9932928681373596, 0.5961639881134033, 0.17802119255065918, 0.22494150698184967, 0.998475968837738, 0.9936088919639587, 0.9936088919639587, 0.997426450252533, 0.998475968837738, 0.12288989126682281, 0.8782131671905518, 0.9985876083374023, 0.9984760880470276, 0.3815453052520752, 0.6177399754524231, 0.41227155923843384, 0.5858595967292786, 0.6666543483734131, 0.33332717418670654, 0.9936086535453796, 0.997165858745575, 0.9955094456672668, 0.9991561770439148, 0.9970858693122864, 0.9935745596885681, 0.2403292953968048, 0.75837242603302, 0.1598004400730133, 0.8378725647926331, 0.9978030920028687, 0.9943903684616089, 0.9940216541290283, 0.9978030920028687, 0.9945831894874573, 0.9906506538391113, 0.997426450252533, 0.9991561770439148, 0.9983890652656555, 0.9979569911956787, 0.9958270192146301, 0.7506718635559082, 0.24511735141277313, 0.29406800866127014, 0.7068942189216614, 0.14325964450836182, 0.29334115982055664, 0.5639427304267883, 0.9932929873466492, 0.9974066615104675, 0.9935746788978577, 0.9965253472328186, 0.9954792857170105, 0.9932928681373596, 0.9985647797584534, 0.9947815537452698, 0.9915584921836853, 0.9936087727546692, 0.5596831440925598, 0.22646139562129974, 0.21352075040340424, 0.9985876083374023, 0.9991560578346252, 0.995479166507721, 0.9954792857170105, 0.3060711920261383, 0.6886601448059082, 0.9974263906478882, 0.7358483076095581, 0.2616349458694458, 0.99846351146698, 0.6887784600257874, 0.16584470868110657, 0.14642144739627838, 0.9974561929702759, 0.19661661982536316, 0.8005105257034302, 0.9970858693122864, 0.9943904876708984, 0.9920374155044556, 0.8150725960731506, 0.1806126832962036, 0.5868790149688721, 0.4124014675617218, 0.995479166507721, 0.7530746459960938, 0.2459019273519516, 0.9957108497619629, 0.9970857501029968, 0.7341565489768982, 0.26539933681488037, 0.9978991746902466, 0.6301923990249634, 0.3696320950984955, 0.998475968837738, 0.9936088919639587], \"Term\": [\"abrut\", \"accord\", \"ah\", \"allez\", \"alor\", \"ambassadric\", \"amis\", \"apre\", \"au\", \"aucun\", \"autour\", \"autr\", \"autr\", \"avril\", \"bachel\", \"bien\", \"bos\", \"bouahah\", \"cha\\u00een\", \"chouetteagil\", \"coll\\u00e8gu\", \"com\", \"cour\", \"dang\", \"dar\", \"demand\", \"derr\", \"devr\", \"direct\", \"door\", \"driv\", \"driv\", \"driv\", \"eh\", \"envoi\", \"espec\", \"esper\", \"except\", \"fair\", \"ferm\", \"franc\", \"franc\", \"franc\", \"ger\", \"giuxliano\", \"godault\", \"go\\u00fbt\", \"honn\\u00eat\", \"http\", \"http\", \"http\", \"interpellon\", \"jcroi\", \"jv\", \"list\", \"local\", \"lucynotluc\", \"lucynotluc\", \"l\\u00e0\", \"manonaubry\", \"manqu\", \"manqu\", \"mcdo\", \"mcdo\", \"mcdonald\", \"mcdonald\", \"mcflurry\", \"mdr\", \"mdrr\", \"mdrrrr\", \"mediapart\", \"menteur\", \"menu\", \"menu\", \"merc\", \"merc\", \"merd\", \"mi\", \"mongol\", \"nan\", \"nik\", \"nouveau\", \"noyel\", \"oblig\", \"ok\", \"open\", \"oue\", \"ouvert\", \"ouvert\", \"ouvr\", \"ouvr\", \"pa\", \"pa\", \"pa\", \"person\", \"pet\", \"phras\", \"pomm\", \"pouvoir\", \"prendr\", \"preuv\", \"problem\", \"proteg\", \"pr\\u00e9par\", \"quand\", \"quand\", \"quand\", \"quoi\", \"regard\", \"relanc\", \"repr\", \"restaur\", \"restaur\", \"restos\", \"retour\", \"retour\", \"rockybalol\", \"rt\", \"rt\", \"rt\", \"r\\u00e9ouvr\", \"sais\", \"sais\", \"servent\", \"soutien\", \"surtout\", \"svp\", \"svp\", \"test\", \"test\", \"tour\", \"tout\", \"tout\", \"tranquill\", \"trentain\", \"va\", \"va\", \"vois\", \"\\u00e7a\", \"\\u00e7a\", \"\\u00e9lus\", \"\\u00eatre\"]}, \"R\": 30, \"lambda.step\": 0.01, \"plot.opts\": {\"xlab\": \"PC1\", \"ylab\": \"PC2\"}, \"topic.order\": [3, 2, 1]};\n",
              "\n",
              "function LDAvis_load_lib(url, callback){\n",
              "  var s = document.createElement('script');\n",
              "  s.src = url;\n",
              "  s.async = true;\n",
              "  s.onreadystatechange = s.onload = callback;\n",
              "  s.onerror = function(){console.warn(\"failed to load library \" + url);};\n",
              "  document.getElementsByTagName(\"head\")[0].appendChild(s);\n",
              "}\n",
              "\n",
              "if(typeof(LDAvis) !== \"undefined\"){\n",
              "   // already loaded: just create the visualization\n",
              "   !function(LDAvis){\n",
              "       new LDAvis(\"#\" + \"ldavis_el1221396966516199287007172907\", ldavis_el1221396966516199287007172907_data);\n",
              "   }(LDAvis);\n",
              "}else if(typeof define === \"function\" && define.amd){\n",
              "   // require.js is available: use it to load d3/LDAvis\n",
              "   require.config({paths: {d3: \"https://cdnjs.cloudflare.com/ajax/libs/d3/3.5.5/d3.min\"}});\n",
              "   require([\"d3\"], function(d3){\n",
              "      window.d3 = d3;\n",
              "      LDAvis_load_lib(\"https://cdn.rawgit.com/bmabey/pyLDAvis/files/ldavis.v1.0.0.js\", function(){\n",
              "        new LDAvis(\"#\" + \"ldavis_el1221396966516199287007172907\", ldavis_el1221396966516199287007172907_data);\n",
              "      });\n",
              "    });\n",
              "}else{\n",
              "    // require.js not available: dynamically load d3 & LDAvis\n",
              "    LDAvis_load_lib(\"https://cdnjs.cloudflare.com/ajax/libs/d3/3.5.5/d3.min.js\", function(){\n",
              "         LDAvis_load_lib(\"https://cdn.rawgit.com/bmabey/pyLDAvis/files/ldavis.v1.0.0.js\", function(){\n",
              "                 new LDAvis(\"#\" + \"ldavis_el1221396966516199287007172907\", ldavis_el1221396966516199287007172907_data);\n",
              "            })\n",
              "         });\n",
              "}\n",
              "</script>"
            ],
            "text/plain": [
              "PreparedData(topic_coordinates=              x         y  topics  cluster       Freq\n",
              "topic                                                \n",
              "2     -0.327384 -0.073224       1        1  36.266163\n",
              "1      0.231785 -0.227430       2        1  32.805740\n",
              "0      0.095599  0.300654       3        1  30.928097, topic_info=        Term        Freq       Total Category  logprob  loglift\n",
              "151       là  665.000000  665.000000  Default  30.0000  30.0000\n",
              "154     quoi  665.000000  665.000000  Default  29.0000  29.0000\n",
              "149  bouahah  632.000000  632.000000  Default  28.0000  28.0000\n",
              "150    envoi  632.000000  632.000000  Default  27.0000  27.0000\n",
              "155   regard  632.000000  632.000000  Default  26.0000  26.0000\n",
              "..       ...         ...         ...      ...      ...      ...\n",
              "134    manqu  135.953537  220.157349   Topic3  -4.5482   0.6915\n",
              "5       http  163.173141  724.632812   Topic3  -4.3657  -0.3173\n",
              "72   restaur  126.274620  182.963974   Topic3  -4.6221   0.8027\n",
              "69      autr  124.391495  165.556870   Topic3  -4.6371   0.8876\n",
              "71      ouvr  124.557899  176.829849   Topic3  -4.6358   0.8231\n",
              "\n",
              "[148 rows x 6 columns], token_table=      Topic      Freq    Term\n",
              "term                         \n",
              "222       2  0.992158   abrut\n",
              "186       3  0.995827  accord\n",
              "168       1  0.995624      ah\n",
              "137       2  0.994867   allez\n",
              "298       3  0.992894    alor\n",
              "...     ...       ...     ...\n",
              "197       1  0.997899    vois\n",
              "52        2  0.630192      ça\n",
              "52        3  0.369632      ça\n",
              "68        1  0.998476    élus\n",
              "166       2  0.993609    être\n",
              "\n",
              "[142 rows x 3 columns], R=30, lambda_step=0.01, plot_opts={'xlab': 'PC1', 'ylab': 'PC2'}, topic_order=[3, 2, 1])"
            ]
          },
          "metadata": {
            "tags": []
          },
          "execution_count": 53
        }
      ]
    },
    {
      "cell_type": "code",
      "metadata": {
        "id": "tXXbs63QhIhx",
        "colab_type": "code",
        "colab": {
          "base_uri": "https://localhost:8080/",
          "height": 731
        },
        "outputId": "b34a34fe-1a54-466e-b7f3-1f6ae1d6f56e"
      },
      "source": [
        "pprint(model_tfidf_lda.top_topics(bow_corpus)[0:2])"
      ],
      "execution_count": 54,
      "outputs": [
        {
          "output_type": "stream",
          "text": [
            "[([(0.017696928, 'esper'),\n",
            "   (0.015633713, 'va'),\n",
            "   (0.015258217, 'ça'),\n",
            "   (0.013633072, 'driv'),\n",
            "   (0.013227954, 'ger'),\n",
            "   (0.013227744, 'dar'),\n",
            "   (0.0126990145, 'giuxliano'),\n",
            "   (0.012634621, 'relanc'),\n",
            "   (0.012634621, 'avril'),\n",
            "   (0.012634621, 'chaîn'),\n",
            "   (0.012634618, 'repr'),\n",
            "   (0.012634618, 'pouvoir'),\n",
            "   (0.012634618, 'cour'),\n",
            "   (0.012634618, 'tour'),\n",
            "   (0.0111606, 'mcdo'),\n",
            "   (0.010845644, 'test'),\n",
            "   (0.010813539, 'tout'),\n",
            "   (0.010692065, 'fair'),\n",
            "   (0.010622864, 'pet'),\n",
            "   (0.01044201, 'jv')],\n",
            "  -17.347463224810774),\n",
            " ([(0.04417508, 'là'),\n",
            "   (0.044175077, 'quoi'),\n",
            "   (0.041956864, 'bouahah'),\n",
            "   (0.041956823, 'envoi'),\n",
            "   (0.041956805, 'regard'),\n",
            "   (0.041956794, 'oblig'),\n",
            "   (0.041956794, 'mdrrrr'),\n",
            "   (0.03059228, 'rt'),\n",
            "   (0.028687565, 'http'),\n",
            "   (0.014493069, 'tranquill'),\n",
            "   (0.013001699, 'driv'),\n",
            "   (0.01276035, 'ah'),\n",
            "   (0.011706624, 'svp'),\n",
            "   (0.01154759, 'bos'),\n",
            "   (0.011516315, 'quand'),\n",
            "   (0.009777057, 'ouvert'),\n",
            "   (0.009568668, 'mcdonald'),\n",
            "   (0.009050734, 'apre'),\n",
            "   (0.008986548, 'retour'),\n",
            "   (0.00889641, 'franc')],\n",
            "  -17.37407058696068)]\n"
          ],
          "name": "stdout"
        }
      ]
    },
    {
      "cell_type": "code",
      "metadata": {
        "id": "XxOPSRluhIh1",
        "colab_type": "code",
        "colab": {
          "base_uri": "https://localhost:8080/",
          "height": 170
        },
        "outputId": "ab8eceed-34ac-4c4c-b869-12773b24026b"
      },
      "source": [
        "for idx,topic in model_tfidf_lda.print_topics():\n",
        "    pprint('Topic {} : Word: {}'.format(idx,topic))"
      ],
      "execution_count": 55,
      "outputs": [
        {
          "output_type": "stream",
          "text": [
            "('Topic 0 : Word: 0.024*\"pomm\" + 0.023*\"lucynotluc\" + 0.023*\"ferm\" + '\n",
            " '0.022*\"ok\" + 0.019*\"pa\" + 0.017*\"mcdo\" + 0.016*\"mdr\" + 0.015*\"merc\" + '\n",
            " '0.015*\"réouvr\" + 0.013*\"sais\"')\n",
            "('Topic 1 : Word: 0.018*\"esper\" + 0.016*\"va\" + 0.015*\"ça\" + 0.014*\"driv\" + '\n",
            " '0.013*\"ger\" + 0.013*\"dar\" + 0.013*\"giuxliano\" + 0.013*\"chaîn\" + '\n",
            " '0.013*\"relanc\" + 0.013*\"avril\"')\n",
            "('Topic 2 : Word: 0.044*\"là\" + 0.044*\"quoi\" + 0.042*\"bouahah\" + 0.042*\"envoi\" '\n",
            " '+ 0.042*\"regard\" + 0.042*\"oblig\" + 0.042*\"mdrrrr\" + 0.031*\"rt\" + '\n",
            " '0.029*\"http\" + 0.014*\"tranquill\"')\n"
          ],
          "name": "stdout"
        }
      ]
    },
    {
      "cell_type": "markdown",
      "metadata": {
        "id": "5FVPrrN-hIh3",
        "colab_type": "text"
      },
      "source": [
        "#### Sujets(Topics) :\n",
        "- Topic 0 : Des questions à propos la disponiblilité\n",
        "- Topic 1 : Actualités\n",
        "- Topic 2 : Confinement\n"
      ]
    },
    {
      "cell_type": "markdown",
      "metadata": {
        "id": "gVZRdskqhIh4",
        "colab_type": "text"
      },
      "source": [
        "## 10. Evaluation de la modèle LDA-TFIDF"
      ]
    },
    {
      "cell_type": "code",
      "metadata": {
        "id": "ILVVaCjchIh5",
        "colab_type": "code",
        "colab": {
          "base_uri": "https://localhost:8080/",
          "height": 51
        },
        "outputId": "f7c98b14-b549-477c-eb5d-134050a3c509"
      },
      "source": [
        "# Compute Coherence Score\n",
        "coherence_model_lda = CoherenceModel(model=model_tfidf_lda, texts=processed_docs, dictionary=dct, coherence='c_v')\n",
        "coherence_lda = coherence_model_lda.get_coherence()\n",
        "print('\\nCoherence Score: ', coherence_lda)"
      ],
      "execution_count": 56,
      "outputs": [
        {
          "output_type": "stream",
          "text": [
            "\n",
            "Coherence Score:  0.5571157367463692\n"
          ],
          "name": "stdout"
        }
      ]
    },
    {
      "cell_type": "markdown",
      "metadata": {
        "id": "INbDX34UhIh8",
        "colab_type": "text"
      },
      "source": [
        "# Test"
      ]
    },
    {
      "cell_type": "code",
      "metadata": {
        "id": "wpUJcUY2hIh8",
        "colab_type": "code",
        "colab": {
          "base_uri": "https://localhost:8080/",
          "height": 529
        },
        "outputId": "211a47fc-f662-4370-9e22-2048f142430e"
      },
      "source": [
        "def format_topics_tweets(ldamodel, corpus, texts):\n",
        "    # Init output\n",
        "    sent_topics_df = pd.DataFrame()\n",
        "\n",
        "    # Get main topic in each document\n",
        "    for i, row in enumerate(ldamodel[corpus]):\n",
        "        row = sorted(row, key=lambda x: (x[1]), reverse=True)\n",
        "        # Get the Dominant topic, Perc Contribution and Keywords for each document\n",
        "        for j, (topic_num, prop_topic) in enumerate(row):\n",
        "            if j == 0:  # => dominant topic\n",
        "                wp = ldamodel.show_topic(topic_num)\n",
        "                topic_keywords = \", \".join([word for word, prop in wp])\n",
        "                sent_topics_df = sent_topics_df.append(pd.Series([int(topic_num), round(prop_topic,4), topic_keywords]), ignore_index=True)\n",
        "            else:\n",
        "                break\n",
        "    sent_topics_df.columns = ['Dominant_Topic', 'Perc_Contribution', 'Topic_Keywords']\n",
        "\n",
        "    # Add original text to the end of the output\n",
        "    contents = pd.Series(texts)\n",
        "    sent_topics_df = pd.concat([sent_topics_df, contents], axis=1)\n",
        "    return(sent_topics_df)\n",
        "\n",
        "\n",
        "df_topic_tweets_keywords = format_topics_tweets(ldamodel=model_tfidf_lda, corpus=corpus_tfidf, texts=df.text.iloc[-10:].tolist())\n",
        "\n",
        "# Format\n",
        "df_dominant_topic = df_topic_tweets_keywords.reset_index()\n",
        "df_dominant_topic.columns = ['Document_No', 'Dominant_Topic', 'Topic_Perc_Contrib', 'Topic_Keywords', 'Text']\n",
        "\n",
        "# Show\n",
        "df_dominant_topic.head(10)"
      ],
      "execution_count": 57,
      "outputs": [
        {
          "output_type": "execute_result",
          "data": {
            "text/html": [
              "<div>\n",
              "<style scoped>\n",
              "    .dataframe tbody tr th:only-of-type {\n",
              "        vertical-align: middle;\n",
              "    }\n",
              "\n",
              "    .dataframe tbody tr th {\n",
              "        vertical-align: top;\n",
              "    }\n",
              "\n",
              "    .dataframe thead th {\n",
              "        text-align: right;\n",
              "    }\n",
              "</style>\n",
              "<table border=\"1\" class=\"dataframe\">\n",
              "  <thead>\n",
              "    <tr style=\"text-align: right;\">\n",
              "      <th></th>\n",
              "      <th>Document_No</th>\n",
              "      <th>Dominant_Topic</th>\n",
              "      <th>Topic_Perc_Contrib</th>\n",
              "      <th>Topic_Keywords</th>\n",
              "      <th>Text</th>\n",
              "    </tr>\n",
              "  </thead>\n",
              "  <tbody>\n",
              "    <tr>\n",
              "      <th>0</th>\n",
              "      <td>0</td>\n",
              "      <td>2.0</td>\n",
              "      <td>0.8305</td>\n",
              "      <td>là, quoi, bouahah, envoi, regard, oblig, mdrrr...</td>\n",
              "      <td>@McDoFr_Newsroom tu sais que tu me manque ... 🍟🍔🥤</td>\n",
              "    </tr>\n",
              "    <tr>\n",
              "      <th>1</th>\n",
              "      <td>1</td>\n",
              "      <td>1.0</td>\n",
              "      <td>0.7560</td>\n",
              "      <td>esper, va, ça, driv, ger, dar, giuxliano, chaî...</td>\n",
              "      <td>@ALarigaudrieBFM uniquement si @McDoFr_Newsroo...</td>\n",
              "    </tr>\n",
              "    <tr>\n",
              "      <th>2</th>\n",
              "      <td>2</td>\n",
              "      <td>1.0</td>\n",
              "      <td>0.7948</td>\n",
              "      <td>esper, va, ça, driv, ger, dar, giuxliano, chaî...</td>\n",
              "      <td>Jpp du menu filet o fish @McDoFr_Newsroom vous...</td>\n",
              "    </tr>\n",
              "    <tr>\n",
              "      <th>3</th>\n",
              "      <td>3</td>\n",
              "      <td>0.0</td>\n",
              "      <td>0.3333</td>\n",
              "      <td>pomm, lucynotluc, ferm, ok, pa, mcdo, mdr, mer...</td>\n",
              "      <td>@McDoFr_Newsroom Bonjour, à quand la réouvertu...</td>\n",
              "    </tr>\n",
              "    <tr>\n",
              "      <th>4</th>\n",
              "      <td>4</td>\n",
              "      <td>1.0</td>\n",
              "      <td>0.8389</td>\n",
              "      <td>esper, va, ça, driv, ger, dar, giuxliano, chaî...</td>\n",
              "      <td>RT @TPMP: Très belle opération de @McDoFr_News...</td>\n",
              "    </tr>\n",
              "    <tr>\n",
              "      <th>5</th>\n",
              "      <td>5</td>\n",
              "      <td>2.0</td>\n",
              "      <td>0.7514</td>\n",
              "      <td>là, quoi, bouahah, envoi, regard, oblig, mdrrr...</td>\n",
              "      <td>@lucynotlucie @McDoFr_Newsroom Javvvvv ce taff...</td>\n",
              "    </tr>\n",
              "    <tr>\n",
              "      <th>6</th>\n",
              "      <td>6</td>\n",
              "      <td>0.0</td>\n",
              "      <td>0.8378</td>\n",
              "      <td>pomm, lucynotluc, ferm, ok, pa, mcdo, mdr, mer...</td>\n",
              "      <td>RT @lucynotlucie: 5ème personne qui me demande...</td>\n",
              "    </tr>\n",
              "    <tr>\n",
              "      <th>7</th>\n",
              "      <td>7</td>\n",
              "      <td>0.0</td>\n",
              "      <td>0.8344</td>\n",
              "      <td>pomm, lucynotluc, ferm, ok, pa, mcdo, mdr, mer...</td>\n",
              "      <td>@giuxliano @McDoFr_Newsroom</td>\n",
              "    </tr>\n",
              "    <tr>\n",
              "      <th>8</th>\n",
              "      <td>8</td>\n",
              "      <td>0.0</td>\n",
              "      <td>0.8249</td>\n",
              "      <td>pomm, lucynotluc, ferm, ok, pa, mcdo, mdr, mer...</td>\n",
              "      <td>5ème personne qui me demande si Mcdo c’est fer...</td>\n",
              "    </tr>\n",
              "    <tr>\n",
              "      <th>9</th>\n",
              "      <td>9</td>\n",
              "      <td>2.0</td>\n",
              "      <td>0.8397</td>\n",
              "      <td>là, quoi, bouahah, envoi, regard, oblig, mdrrr...</td>\n",
              "      <td>@McDoFr_Newsroom étant donné la situation les ...</td>\n",
              "    </tr>\n",
              "  </tbody>\n",
              "</table>\n",
              "</div>"
            ],
            "text/plain": [
              "   Document_No  ...                                               Text\n",
              "0            0  ...  @McDoFr_Newsroom tu sais que tu me manque ... 🍟🍔🥤\n",
              "1            1  ...  @ALarigaudrieBFM uniquement si @McDoFr_Newsroo...\n",
              "2            2  ...  Jpp du menu filet o fish @McDoFr_Newsroom vous...\n",
              "3            3  ...  @McDoFr_Newsroom Bonjour, à quand la réouvertu...\n",
              "4            4  ...  RT @TPMP: Très belle opération de @McDoFr_News...\n",
              "5            5  ...  @lucynotlucie @McDoFr_Newsroom Javvvvv ce taff...\n",
              "6            6  ...  RT @lucynotlucie: 5ème personne qui me demande...\n",
              "7            7  ...                        @giuxliano @McDoFr_Newsroom\n",
              "8            8  ...  5ème personne qui me demande si Mcdo c’est fer...\n",
              "9            9  ...  @McDoFr_Newsroom étant donné la situation les ...\n",
              "\n",
              "[10 rows x 5 columns]"
            ]
          },
          "metadata": {
            "tags": []
          },
          "execution_count": 57
        }
      ]
    },
    {
      "cell_type": "markdown",
      "metadata": {
        "id": "fwf2EhJirT95",
        "colab_type": "text"
      },
      "source": [
        "# Interprétation "
      ]
    },
    {
      "cell_type": "markdown",
      "metadata": {
        "id": "ttRRG8NehIiA",
        "colab_type": "text"
      },
      "source": [
        " On a trois grands thèmes dominants, deux sont centrés sur l'actualité dans le monde généralement et sur la  france précisément et sur le virus Covid-19, et le troisième c'est les questions des clients à propos la disponibilité .\n",
        "Tous ces sujets peuvent nous donner une idée sur l'image et la position du macdo france par rapport à ses concurrents  ."
      ]
    },
    {
      "cell_type": "code",
      "metadata": {
        "id": "QdUZ_tWfpMnS",
        "colab_type": "code",
        "colab": {}
      },
      "source": [
        ""
      ],
      "execution_count": 0,
      "outputs": []
    }
  ]
}