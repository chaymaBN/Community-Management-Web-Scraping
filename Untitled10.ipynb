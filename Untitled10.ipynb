{
  "nbformat": 4,
  "nbformat_minor": 0,
  "metadata": {
    "colab": {
      "name": "Untitled10.ipynb",
      "provenance": []
    },
    "kernelspec": {
      "name": "python3",
      "display_name": "Python 3"
    }
  },
  "cells": [
    {
      "cell_type": "code",
      "metadata": {
        "id": "U7lxxkvC33TJ",
        "colab_type": "code",
        "colab": {}
      },
      "source": [
        "import requests\n",
        "import seaborn as sns\n",
        "import matplotlib.pyplot as plt\n",
        "sns.set(style=\"ticks\", color_codes=True)\n",
        "import pandas as pd\n",
        "from google.colab import files\n",
        "import numpy as np  \n",
        "import nltk   \n",
        "from gensim import corpora\n",
        "import gensim     \n",
        "from gensim.utils import simple_preprocess   \n",
        "from gensim import corpora, models\n",
        "from gensim.parsing.preprocessing import STOPWORDS\n",
        "from nltk.corpus import stopwords\n",
        "from nltk.stem import WordNetLemmatizer \n",
        "from nltk.corpus import wordnet\n",
        "import spacy\n",
        "import emoji\n",
        "import re\n",
        "from bs4 import BeautifulSoup\n",
        "import io\n",
        "from nltk.stem import SnowballStemmer\n",
        "import datetime as dt"
      ],
      "execution_count": 0,
      "outputs": []
    },
    {
      "cell_type": "code",
      "metadata": {
        "id": "rSsVpeuD5yi0",
        "colab_type": "code",
        "colab": {}
      },
      "source": [
        "#pip install emoji\n"
      ],
      "execution_count": 0,
      "outputs": []
    },
    {
      "cell_type": "code",
      "metadata": {
        "id": "bcGbbfnw34ws",
        "colab_type": "code",
        "colab": {}
      },
      "source": [
        "twitter= pd.read_csv('new_twitter.csv')"
      ],
      "execution_count": 0,
      "outputs": []
    },
    {
      "cell_type": "code",
      "metadata": {
        "id": "37TF0Xr54pot",
        "colab_type": "code",
        "outputId": "bfa914cc-40c1-4582-8898-2ec695b34848",
        "colab": {
          "base_uri": "https://localhost:8080/",
          "height": 289
        }
      },
      "source": [
        "twitter.head()"
      ],
      "execution_count": 0,
      "outputs": [
        {
          "output_type": "execute_result",
          "data": {
            "text/html": [
              "<div>\n",
              "<style scoped>\n",
              "    .dataframe tbody tr th:only-of-type {\n",
              "        vertical-align: middle;\n",
              "    }\n",
              "\n",
              "    .dataframe tbody tr th {\n",
              "        vertical-align: top;\n",
              "    }\n",
              "\n",
              "    .dataframe thead th {\n",
              "        text-align: right;\n",
              "    }\n",
              "</style>\n",
              "<table border=\"1\" class=\"dataframe\">\n",
              "  <thead>\n",
              "    <tr style=\"text-align: right;\">\n",
              "      <th></th>\n",
              "      <th>tweet_id</th>\n",
              "      <th>text</th>\n",
              "      <th>created_at</th>\n",
              "      <th>source</th>\n",
              "      <th>tokens</th>\n",
              "    </tr>\n",
              "  </thead>\n",
              "  <tbody>\n",
              "    <tr>\n",
              "      <th>0</th>\n",
              "      <td>1210485972514885634</td>\n",
              "      <td>♻️ Une nouvelle étape pour McDo 🇫🇷 dans la réd...</td>\n",
              "      <td>2019-12-27 09:02:00</td>\n",
              "      <td>TweetDeck</td>\n",
              "      <td>['nouvel', 'étap', 'mcdo', 'réduct', 'empreint...</td>\n",
              "    </tr>\n",
              "    <tr>\n",
              "      <th>1</th>\n",
              "      <td>1210111001678536704</td>\n",
              "      <td>J'ai commencé comme :\\n✔️Équipier\\n✔️Formateur...</td>\n",
              "      <td>2019-12-26 08:12:00</td>\n",
              "      <td>TweetDeck</td>\n",
              "      <td>['commenc', 'comm', 'zon', 'manag', 'tout', 'a...</td>\n",
              "    </tr>\n",
              "    <tr>\n",
              "      <th>2</th>\n",
              "      <td>1209060286734487552</td>\n",
              "      <td>Très heureux de continuer à construire notre p...</td>\n",
              "      <td>2019-12-23 10:36:50</td>\n",
              "      <td>Twitter Web App</td>\n",
              "      <td>['tres', 'heureux', 'continu', 'construir', 'p...</td>\n",
              "    </tr>\n",
              "    <tr>\n",
              "      <th>3</th>\n",
              "      <td>1207940449245134848</td>\n",
              "      <td>Mélanie, resp. de #formation chez McDo 🇫🇷\\n🎬 U...</td>\n",
              "      <td>2019-12-20 08:27:00</td>\n",
              "      <td>TweetDeck</td>\n",
              "      <td>['mélan', 'resp', 'format', 'chez', 'mcdo', 'j...</td>\n",
              "    </tr>\n",
              "    <tr>\n",
              "      <th>4</th>\n",
              "      <td>1206515505655357440</td>\n",
              "      <td>Emballages en plastique à usage unique :\\n♻️ U...</td>\n",
              "      <td>2019-12-16 10:04:47</td>\n",
              "      <td>Twitter Web App</td>\n",
              "      <td>['emballag', 'plastiqu', 'usag', 'uniqu', 'nou...</td>\n",
              "    </tr>\n",
              "  </tbody>\n",
              "</table>\n",
              "</div>"
            ],
            "text/plain": [
              "              tweet_id  ...                                             tokens\n",
              "0  1210485972514885634  ...  ['nouvel', 'étap', 'mcdo', 'réduct', 'empreint...\n",
              "1  1210111001678536704  ...  ['commenc', 'comm', 'zon', 'manag', 'tout', 'a...\n",
              "2  1209060286734487552  ...  ['tres', 'heureux', 'continu', 'construir', 'p...\n",
              "3  1207940449245134848  ...  ['mélan', 'resp', 'format', 'chez', 'mcdo', 'j...\n",
              "4  1206515505655357440  ...  ['emballag', 'plastiqu', 'usag', 'uniqu', 'nou...\n",
              "\n",
              "[5 rows x 5 columns]"
            ]
          },
          "metadata": {
            "tags": []
          },
          "execution_count": 6
        }
      ]
    },
    {
      "cell_type": "markdown",
      "metadata": {
        "id": "MaieWQYe5gND",
        "colab_type": "text"
      },
      "source": [
        ""
      ]
    },
    {
      "cell_type": "code",
      "metadata": {
        "id": "X5A7Pkaz5qYL",
        "colab_type": "code",
        "colab": {}
      },
      "source": [
        "def remove_emoji(text):\n",
        "    return emoji.get_emoji_regexp().sub(u'', text)"
      ],
      "execution_count": 0,
      "outputs": []
    },
    {
      "cell_type": "code",
      "metadata": {
        "id": "aFtBtfQg41_l",
        "colab_type": "code",
        "outputId": "129a518d-fe6a-46f3-b309-f7500ef375ce",
        "colab": {
          "base_uri": "https://localhost:8080/",
          "height": 88
        }
      },
      "source": [
        "JeunesMots=[]\n",
        "url = \"https://vidalingua.com/blog/french-slang-words-phrases\"\n",
        "print(url)\n",
        "req1 = requests.get(url).content\n",
        "\n",
        "unicode_str = req1.decode('utf8')\n",
        "encoded_str = unicode_str.encode(\"ascii\",'ignore')\n",
        "text =BeautifulSoup(encoded_str,'html.parser')\n",
        "divs=text.find_all('span',attrs={'lang':'fr'}) \n",
        "print (divs)\n",
        "for div in divs:\n",
        "  try:\n",
        "    encoded_str = unicode_str.encode(\"ascii\",'ignore')\n",
        "    JeunesMots.append(remove_emoji(div.text))\n",
        "  except AttributeError:\n",
        "    print(\"error\")\n",
        "print(JeunesMots)"
      ],
      "execution_count": 0,
      "outputs": [
        {
          "output_type": "stream",
          "text": [
            "https://vidalingua.com/blog/french-slang-words-phrases\n",
            "[<span lang=\"fr\"><i>argot</i></span>, <span lang=\"fr\"><i>argot</i></span>, <span lang=\"fr\"><i>argot</i></span>, <span lang=\"fr\"><i>jargon</i></span>, <span lang=\"fr\">bl</span>, <span lang=\"fr\">fric</span>, <span lang=\"fr\">flouse</span>, <span lang=\"fr\">oseille</span>, <span lang=\"fr\">pze</span>, <span lang=\"fr\">pognon</span>, <span lang=\"fr\">thune</span>, <span lang=\"fr\">tune</span>, <span lang=\"fr\">pote</span>, <span lang=\"fr\">poteau</span>, <span lang=\"fr\">poto</span>, <span lang=\"fr\">chouette</span>, <span lang=\"fr\">cool</span>, <span lang=\"fr\">super</span>, <span lang=\"fr\">beu</span>, <span lang=\"fr\">beuh</span>, <span lang=\"fr\">baba</span>, <span lang=\"fr\">tise</span>, <span lang=\"fr\">piaule</span>, <span lang=\"fr\">se peler</span>, <span lang=\"fr\">canon</span>, <span lang=\"fr\">binouse</span>, <span lang=\"fr\">binouze</span>, <span lang=\"fr\">bouquin</span>, <span lang=\"fr\">frangin</span>, <span lang=\"fr\">caisse</span>, <span lang=\"fr\">gamos</span>, <span lang=\"fr\">tire</span>, <span lang=\"fr\">gamin(e)</span>, <span lang=\"fr\">gosse</span>, <span lang=\"fr\">marmot</span>, <span lang=\"fr\">mioche</span>, <span lang=\"fr\">mme</span>, <span lang=\"fr\">moutard</span>, <span lang=\"fr\">clope</span>, <span lang=\"fr\">fringues</span>, <span lang=\"fr\">barr(e)</span>, <span lang=\"fr\">cingl(e)</span>, <span lang=\"fr\">djant(e)</span>, <span lang=\"fr\">dingue</span>, <span lang=\"fr\">ouf</span>, <span lang=\"fr\">tar(e)</span>, <span lang=\"fr\">clbard</span>, <span lang=\"fr\">clebs</span>, <span lang=\"fr\">clampser</span>, <span lang=\"fr\">clamser</span>, <span lang=\"fr\">crever</span>, <span lang=\"fr\">toubib</span>, <span lang=\"fr\">picoler</span>, <span lang=\"fr\">bourr(e)</span>, <span lang=\"fr\">charasse</span>, <span lang=\"fr\">torch(e)</span>, <span lang=\"fr\">bqueter</span>, <span lang=\"fr\">bouffer</span>, <span lang=\"fr\">grailler</span>, <span lang=\"fr\">mirette</span>, <span lang=\"fr\">bouille</span>, <span lang=\"fr\">tronche</span>, <span lang=\"fr\">chocottes</span>, <span lang=\"fr\">frousse</span>, <span lang=\"fr\">jetons</span>, <span lang=\"fr\">trouille</span>, <span lang=\"fr\">poiscaille</span>, <span lang=\"fr\">panard</span>, <span lang=\"fr\">gonzesse</span>, <span lang=\"fr\">meuf</span>, <span lang=\"fr\">nana</span>, <span lang=\"fr\">flingue</span>, <span lang=\"fr\">tif</span>, <span lang=\"fr\">louche</span>, <span lang=\"fr\">menotte</span>, <span lang=\"fr\">mimine</span>, <span lang=\"fr\">paluche</span>, <span lang=\"fr\">pogne</span>, <span lang=\"fr\">caboche</span>, <span lang=\"fr\">canasson</span>, <span lang=\"fr\">baraque</span>, <span lang=\"fr\">bicoque</span>, <span lang=\"fr\">vnre</span>, <span lang=\"fr\">bidouiller</span>, <span lang=\"fr\">baveux</span>, <span lang=\"fr\">dgager</span>, <span lang=\"fr\">se casser</span>, <span lang=\"fr\">se tirer</span>, <span lang=\"fr\">guibole</span>, <span lang=\"fr\">kifer</span>, <span lang=\"fr\">kiffer</span>, <span lang=\"fr\">se gourer</span>, <span lang=\"fr\">se planter</span>, <span lang=\"fr\">gars</span>, <span lang=\"fr\">keum</span>, <span lang=\"fr\">mec</span>, <span lang=\"fr\">type</span>, <span lang=\"fr\">bidoche</span>, <span lang=\"fr\">meule</span>, <span lang=\"fr\">belle-doche</span>, <span lang=\"fr\">balaise</span>, <span lang=\"fr\">balze</span>, <span lang=\"fr\">baraqu(e)</span>, <span lang=\"fr\">costaud</span>, <span lang=\"fr\">blase</span>, <span lang=\"fr\">blair</span>, <span lang=\"fr\">pif</span>, <span lang=\"fr\">tarin</span>, <span lang=\"fr\">zinc</span>, <span lang=\"fr\">flic</span>, <span lang=\"fr\">keuf</span>, <span lang=\"fr\">poulet</span>, <span lang=\"fr\">flotter</span>, <span lang=\"fr\">casse-dalle</span>, <span lang=\"fr\">bahut</span>, <span lang=\"fr\">bote</span>, <span lang=\"fr\">godasse</span>, <span lang=\"fr\">frangine</span>, <span lang=\"fr\">pioncer</span>, <span lang=\"fr\">roupiller</span>, <span lang=\"fr\">chouraver</span>, <span lang=\"fr\">chourer</span>, <span lang=\"fr\">piquer</span>, <span lang=\"fr\">dauber</span>, <span lang=\"fr\">schlinguer</span>, <span lang=\"fr\">causer</span>, <span lang=\"fr\">jacter</span>, <span lang=\"fr\">couilles</span>, <span lang=\"fr\">burnes</span>, <span lang=\"fr\">roubignoles</span>, <span lang=\"fr\">roupettes</span>, <span lang=\"fr\">roustons</span>, <span lang=\"fr\">chiottes</span>, <span lang=\"fr\">biter</span>, <span lang=\"fr\">bitter</span>, <span lang=\"fr\">capter</span>, <span lang=\"fr\">piger</span>, <span lang=\"fr\">dgueuler</span>, <span lang=\"fr\">dgobiller</span>, <span lang=\"fr\">gerber</span>, <span lang=\"fr\">flotte</span>, <span lang=\"fr\">pinard</span>, <span lang=\"fr\">pive</span>, <span lang=\"fr\">boulot</span>, <span lang=\"fr\">taf</span>, <span lang=\"fr\">turbin</span>, <span lang=\"fr\">bosser</span>, <span lang=\"fr\">charbonner</span>, <span lang=\"fr\">taffer</span>, <span lang=\"fr\">calendos</span>, <span lang=\"fr\">Boire un pot/un coup</span>, <span lang=\"fr\">a craint.</span>, <span lang=\"fr\">a dchire !</span>, <span lang=\"fr\">a marche.</span>, <span lang=\"fr\">a me saoule.</span>, <span lang=\"fr\">a me gonfle.</span>, <span lang=\"fr\">a passe crme.</span>, <span lang=\"fr\">Carrment !</span>, <span lang=\"fr\">Cest de la balle !</span>, <span lang=\"fr\">Cest chelou.</span>, <span lang=\"fr\">Cest clair !</span>, <span lang=\"fr\">C'est le pied !</span>, <span lang=\"fr\">Cest nul.</span>, <span lang=\"fr\">Cest un truc de ouf !</span>, <span lang=\"fr\">Crever la dalle</span>, <span lang=\"fr\">Elle/Il se la pte trop !</span>, <span lang=\"fr\">tre grill(e)</span>, <span lang=\"fr\">tre au taquet</span>, <span lang=\"fr\">Ferme ta gueule !</span>, <span lang=\"fr\">Ferme-la !</span>, <span lang=\"fr\">Ta gueule !</span>, <span lang=\"fr\">Gnial !</span>, <span lang=\"fr\">Jamais de la vie.</span>, <span lang=\"fr\">Lche-moi la grappe</span>, <span lang=\"fr\">les basques</span>, <span lang=\"fr\">les baskets.</span>, <span lang=\"fr\">Laisse tomber !</span>, <span lang=\"fr\">Ne pas se louper</span>, <span lang=\"fr\">Non mais sans dc !</span>, <span lang=\"fr\">Sans dconner !</span>, <span lang=\"fr\">Pas de souci.</span>, <span lang=\"fr\">Point barre !</span>, <span lang=\"fr\">Se prendre une murge</span>, <span lang=\"fr\">Top !</span>, <span lang=\"fr\">Nickel !</span>]\n",
            "['argot', 'argot', 'argot', 'jargon', 'bl', 'fric', 'flouse', 'oseille', 'pze', 'pognon', 'thune', 'tune', 'pote', 'poteau', 'poto', 'chouette', 'cool', 'super', 'beu', 'beuh', 'baba', 'tise', 'piaule', 'se peler', 'canon', 'binouse', 'binouze', 'bouquin', 'frangin', 'caisse', 'gamos', 'tire', 'gamin(e)', 'gosse', 'marmot', 'mioche', 'mme', 'moutard', 'clope', 'fringues', 'barr(e)', 'cingl(e)', 'djant(e)', 'dingue', 'ouf', 'tar(e)', 'clbard', 'clebs', 'clampser', 'clamser', 'crever', 'toubib', 'picoler', 'bourr(e)', 'charasse', 'torch(e)', 'bqueter', 'bouffer', 'grailler', 'mirette', 'bouille', 'tronche', 'chocottes', 'frousse', 'jetons', 'trouille', 'poiscaille', 'panard', 'gonzesse', 'meuf', 'nana', 'flingue', 'tif', 'louche', 'menotte', 'mimine', 'paluche', 'pogne', 'caboche', 'canasson', 'baraque', 'bicoque', 'vnre', 'bidouiller', 'baveux', 'dgager', 'se casser', 'se tirer', 'guibole', 'kifer', 'kiffer', 'se gourer', 'se planter', 'gars', 'keum', 'mec', 'type', 'bidoche', 'meule', 'belle-doche', 'balaise', 'balze', 'baraqu(e)', 'costaud', 'blase', 'blair', 'pif', 'tarin', 'zinc', 'flic', 'keuf', 'poulet', 'flotter', 'casse-dalle', 'bahut', 'bote', 'godasse', 'frangine', 'pioncer', 'roupiller', 'chouraver', 'chourer', 'piquer', 'dauber', 'schlinguer', 'causer', 'jacter', 'couilles', 'burnes', 'roubignoles', 'roupettes', 'roustons', 'chiottes', 'biter', 'bitter', 'capter', 'piger', 'dgueuler', 'dgobiller', 'gerber', 'flotte', 'pinard', 'pive', 'boulot', 'taf', 'turbin', 'bosser', 'charbonner', 'taffer', 'calendos', 'Boire un pot/un coup', 'a craint.', 'a dchire !', 'a marche.', 'a me saoule.', 'a me gonfle.', 'a passe crme.', 'Carrment !', 'Cest de la balle !', 'Cest chelou.', 'Cest clair !', \"C'est le pied !\", 'Cest nul.', 'Cest un truc de ouf !', 'Crever la dalle', 'Elle/Il se la pte trop !', 'tre grill(e)', 'tre au taquet', 'Ferme ta gueule !', 'Ferme-la !', 'Ta gueule !', 'Gnial !', 'Jamais de la vie.', 'Lche-moi la grappe', 'les basques', 'les baskets.', 'Laisse tomber !', 'Ne pas se louper', 'Non mais sans dc !', 'Sans dconner !', 'Pas de souci.', 'Point barre !', 'Se prendre une murge', 'Top !', 'Nickel !']\n"
          ],
          "name": "stdout"
        }
      ]
    },
    {
      "cell_type": "code",
      "metadata": {
        "id": "LW1C8Rt35ha4",
        "colab_type": "code",
        "outputId": "e9a2f814-9e40-4eed-9c19-759cc8740b01",
        "colab": {
          "base_uri": "https://localhost:8080/",
          "height": 122
        }
      },
      "source": [
        "url = \"https://www.demotivateur.fr/article/argot-nouveau-vocabulaire-expression-jeune-guide-dictionnaire-6236\"\n",
        "print(url)\n",
        "req1 = requests.get(url).content\n",
        "unicode_str = req1.decode('utf8')\n",
        "encoded_str = unicode_str.encode(\"ascii\",'ignore')\n",
        "text =BeautifulSoup(encoded_str,'html.parser')\n",
        "divs=text.find_all('div',attrs={'class':'titre-liste'}) \n",
        "print (divs)\n",
        "for div in divs:\n",
        "  try:\n",
        "    JeunesMots.append(remove_emoji(div.text[3:-2]))\n",
        "  except AttributeError:\n",
        "    print(\"error\")\n",
        "print(JeunesMots)"
      ],
      "execution_count": 0,
      "outputs": [
        {
          "output_type": "stream",
          "text": [
            "https://www.demotivateur.fr/article/argot-nouveau-vocabulaire-expression-jeune-guide-dictionnaire-6236\n",
            "[<div class=\"titre-liste\" style=\"text-align: center;\">1. C’est dar :</div>, <div class=\"titre-liste\" style=\"text-align: center;\">2. OKLM :</div>, <div class=\"titre-liste\" style=\"text-align: center;\">3. J’ai le seum :</div>, <div class=\"titre-liste\" style=\"text-align: center;\">4. Une zouz/gow :</div>, <div class=\"titre-liste\" style=\"text-align: center;\"><br/>5. Chiner :</div>, <div class=\"titre-liste\" style=\"text-align: center;\">6. Ken :</div>, <div class=\"titre-liste\" style=\"text-align: center;\">7. C’est lourd :</div>, <div class=\"titre-liste\">\n",
            "<div style=\"text-align: center;\">8. Grailler :</div>\n",
            "</div>, <div class=\"titre-liste\" style=\"text-align: center;\">9. S’enjailler :</div>, <div class=\"titre-liste\" style=\"text-align: center;\">10. C’est golri :</div>, <div class=\"titre-liste\" style=\"text-align: center;\">11. Tu t’es fait rotte-ca :</div>, <div class=\"titre-liste\" style=\"text-align: center;\">12. Je suis déter :</div>, <div class=\"titre-liste\" style=\"text-align: center;\">13. Je suis yomb :</div>, <div class=\"titre-liste\" style=\"text-align: center;\">14. Les lovés :</div>, <div class=\"titre-liste\" style=\"text-align: center;\">15. Les bails :</div>, <div class=\"titre-liste\" style=\"text-align: center;\"><br/>16. C’est de la peufra :</div>, <div class=\"titre-liste\" style=\"text-align: center;\">17. En soumsoum :</div>, <div class=\"titre-liste\" style=\"text-align: center;\"><br/>18. C’est chanmé :</div>, <div class=\"titre-liste\" style=\"text-align: center;\">19. WTF :</div>, <div class=\"titre-liste\" style=\"text-align: center;\">20. La tise :</div>, <div class=\"titre-liste\" style=\"text-align: center;\">21. Je suis saucé :</div>, <div class=\"titre-liste\" style=\"text-align: center;\">22. Du bif :</div>, <div class=\"titre-liste\" style=\"text-align: center;\"><br/>23. Faire crari :</div>, <div class=\"titre-liste\" style=\"text-align: center;\"><br/>24. Un blase :</div>, <div class=\"titre-liste\" style=\"text-align: center;\">25. Charbonner :</div>, <div class=\"titre-liste\" style=\"text-align: center;\"><br/>26. Ça passe crème :</div>, <div class=\"titre-liste\" style=\"text-align: center;\"><br/>27. Cassos :</div>, <div class=\"titre-liste\" style=\"text-align: center;\">28. Bicrave :</div>, <div class=\"titre-liste\" style=\"text-align: center;\">29. Balec :</div>, <div class=\"titre-liste\" style=\"text-align: center;\"><img alt=\"\" class=\"img-fluid lazy\" data-sizes=\"auto\" data-srcset=\"../images-buzz/6259/6.jpg\" src=\"/img/placeholder.png\"/><br/>30. C’est déclassé :</div>, <div class=\"titre-liste\" style=\"text-align: center;\">31. Un gamos :</div>]\n",
            "['argot', 'argot', 'argot', 'jargon', 'bl', 'fric', 'flouse', 'oseille', 'pze', 'pognon', 'thune', 'tune', 'pote', 'poteau', 'poto', 'chouette', 'cool', 'super', 'beu', 'beuh', 'baba', 'tise', 'piaule', 'se peler', 'canon', 'binouse', 'binouze', 'bouquin', 'frangin', 'caisse', 'gamos', 'tire', 'gamin(e)', 'gosse', 'marmot', 'mioche', 'mme', 'moutard', 'clope', 'fringues', 'barr(e)', 'cingl(e)', 'djant(e)', 'dingue', 'ouf', 'tar(e)', 'clbard', 'clebs', 'clampser', 'clamser', 'crever', 'toubib', 'picoler', 'bourr(e)', 'charasse', 'torch(e)', 'bqueter', 'bouffer', 'grailler', 'mirette', 'bouille', 'tronche', 'chocottes', 'frousse', 'jetons', 'trouille', 'poiscaille', 'panard', 'gonzesse', 'meuf', 'nana', 'flingue', 'tif', 'louche', 'menotte', 'mimine', 'paluche', 'pogne', 'caboche', 'canasson', 'baraque', 'bicoque', 'vnre', 'bidouiller', 'baveux', 'dgager', 'se casser', 'se tirer', 'guibole', 'kifer', 'kiffer', 'se gourer', 'se planter', 'gars', 'keum', 'mec', 'type', 'bidoche', 'meule', 'belle-doche', 'balaise', 'balze', 'baraqu(e)', 'costaud', 'blase', 'blair', 'pif', 'tarin', 'zinc', 'flic', 'keuf', 'poulet', 'flotter', 'casse-dalle', 'bahut', 'bote', 'godasse', 'frangine', 'pioncer', 'roupiller', 'chouraver', 'chourer', 'piquer', 'dauber', 'schlinguer', 'causer', 'jacter', 'couilles', 'burnes', 'roubignoles', 'roupettes', 'roustons', 'chiottes', 'biter', 'bitter', 'capter', 'piger', 'dgueuler', 'dgobiller', 'gerber', 'flotte', 'pinard', 'pive', 'boulot', 'taf', 'turbin', 'bosser', 'charbonner', 'taffer', 'calendos', 'Boire un pot/un coup', 'a craint.', 'a dchire !', 'a marche.', 'a me saoule.', 'a me gonfle.', 'a passe crme.', 'Carrment !', 'Cest de la balle !', 'Cest chelou.', 'Cest clair !', \"C'est le pied !\", 'Cest nul.', 'Cest un truc de ouf !', 'Crever la dalle', 'Elle/Il se la pte trop !', 'tre grill(e)', 'tre au taquet', 'Ferme ta gueule !', 'Ferme-la !', 'Ta gueule !', 'Gnial !', 'Jamais de la vie.', 'Lche-moi la grappe', 'les basques', 'les baskets.', 'Laisse tomber !', 'Ne pas se louper', 'Non mais sans dc !', 'Sans dconner !', 'Pas de souci.', 'Point barre !', 'Se prendre une murge', 'Top !', 'Nickel !', 'C’est dar', 'OKLM', 'J’ai le seum', 'Une zouz/gow', 'Chiner', 'Ken', 'C’est lourd', ' Grailler ', 'S’enjailler', ' C’est golri', ' Tu t’es fait rotte-ca', ' Je suis déter', ' Je suis yomb', ' Les lovés', ' Les bails', ' C’est de la peufra', ' En soumsoum', ' C’est chanmé', ' WTF', ' La tise', ' Je suis saucé', ' Du bif', ' Faire crari', ' Un blase', ' Charbonner', ' Ça passe crème', ' Cassos', ' Bicrave', ' Balec', ' C’est déclassé', ' Un gamos']\n"
          ],
          "name": "stdout"
        }
      ]
    },
    {
      "cell_type": "code",
      "metadata": {
        "id": "7mXVBt0F6P73",
        "colab_type": "code",
        "outputId": "7069366c-739c-447d-ba00-7fec416378ca",
        "colab": {
          "base_uri": "https://localhost:8080/",
          "height": 88
        }
      },
      "source": [
        "url = \"http://lecurionaute.fr/langage-jeunes-ados-2017-lexique-mots-termes-dictionnaire/\"\n",
        "print(url)\n",
        "req1 = requests.get(url).content\n",
        "unicode_str = req1.decode('utf8')\n",
        "encoded_str = unicode_str.encode(\"ascii\",'ignore')\n",
        "text =BeautifulSoup(encoded_str,'html.parser')\n",
        "divs=text.find_all('span',attrs={'style':'color: #ff6600;'}) \n",
        "print (divs)\n",
        "for div in divs:\n",
        "  try:\n",
        "    JeunesMots.append(remove_emoji(div.text))\n",
        "  except AttributeError:\n",
        "    print(\"error\")\n",
        "\n",
        "JeunesMots.remove('Sans ')\n",
        "JeunesMots.remove('Sans')\n",
        "JeunesMots.remove('')\n",
        "JeunesMots.append('wtf')\n",
        "print(JeunesMots) "
      ],
      "execution_count": 0,
      "outputs": [
        {
          "output_type": "stream",
          "text": [
            "http://lecurionaute.fr/langage-jeunes-ados-2017-lexique-mots-termes-dictionnaire/\n",
            "[<span style=\"color: #ff6600;\">AFK</span>, <span style=\"color: #ff6600;\">A la bien.</span>, <span style=\"color: #ff6600;\">BDR </span>, <span style=\"color: #ff6600;\"><strong>BG</strong> </span>, <span style=\"color: #ff6600;\">Cheh</span>, <span style=\"color: #ff6600;\">Clash</span>, <span style=\"color: #ff6600;\">Cosplay</span>, <span style=\"color: #ff6600;\">Crush</span>, <span style=\"color: #ff6600;\">Dab</span>, <span style=\"color: #ff6600;\">Daron / daronne</span>, <span style=\"color: #ff6600;\">Dclass</span>, <span style=\"color: #ff6600;\">Dso pas dso </span>, <span style=\"color: #ff6600;\">Dter </span>, <span style=\"color: #ff6600;\">DSL </span>, <span style=\"color: #ff6600;\"><b>Fdp</b></span>, <span style=\"color: #ff6600;\"><b>Frais</b></span>, <span style=\"color: #ff6600;\"><b>Gadjo / gadji</b> </span>, <span style=\"color: #ff6600;\"><b>Game</b></span>, <span style=\"color: #ff6600;\"><b>Gav</b></span>, <span style=\"color: #ff6600;\"></span>, <span style=\"color: #ff6600;\"><b>Guacamolesque</b></span>, <span style=\"color: #ff6600;\"><b>Hype</b></span>, <span style=\"color: #ff6600;\"><b>Issou</b></span>, <span style=\"color: #ff6600;\"><b>Lossa</b></span>, <span style=\"color: #ff6600;\"><b>Lourd</b></span>, <span style=\"color: #ff6600;\">Magl</span>, <span style=\"color: #ff6600;\"><b>Mav</b></span>, <span style=\"color: #ff6600;\"><b>Mort</b></span>, <span style=\"color: #ff6600;\">Newbie </span>, <span style=\"color: #ff6600;\"><strong>Nude</strong></span>, <span style=\"color: #ff6600;\">Peufra </span>, <span style=\"color: #ff6600;\">PTN</span>, <span style=\"color: #ff6600;\">Schlag </span>, <span style=\"color: #ff6600;\">Socoman </span>, <span style=\"color: #ff6600;\">Street</span>, <span style=\"color: #ff6600;\">Tarpin </span>, <span style=\"color: #ff6600;\"><strong>Ter-ter ou Terter <span style=\"color: #000000;\">:</span></strong></span>, <span style=\"color: #ff6600;\">TG </span>, <span style=\"color: #ff6600;\">Timp</span>, <span style=\"color: #ff6600;\">Toz</span>, <span style=\"color: #ff6600;\"><a href=\"http://www.lecurionaute.fr/a-propos-contact/\" rel=\"noopener noreferrer\" style=\"color: #ff6600;\" target=\"_blank\" title=\"A propos / Contact\">cliquez ici</a></span>, <span style=\"color: #ff6600;\"><strong>Le Curionaute</strong></span>, <span style=\"color: #ff6600;\">Sans</span>, <span style=\"color: #ff6600;\">Sans </span>, <span style=\"color: #ff6600;\"><strong>Le Curionaute</strong></span>]\n",
            "['argot', 'argot', 'argot', 'jargon', 'bl', 'fric', 'flouse', 'oseille', 'pze', 'pognon', 'thune', 'tune', 'pote', 'poteau', 'poto', 'chouette', 'cool', 'super', 'beu', 'beuh', 'baba', 'tise', 'piaule', 'se peler', 'canon', 'binouse', 'binouze', 'bouquin', 'frangin', 'caisse', 'gamos', 'tire', 'gamin(e)', 'gosse', 'marmot', 'mioche', 'mme', 'moutard', 'clope', 'fringues', 'barr(e)', 'cingl(e)', 'djant(e)', 'dingue', 'ouf', 'tar(e)', 'clbard', 'clebs', 'clampser', 'clamser', 'crever', 'toubib', 'picoler', 'bourr(e)', 'charasse', 'torch(e)', 'bqueter', 'bouffer', 'grailler', 'mirette', 'bouille', 'tronche', 'chocottes', 'frousse', 'jetons', 'trouille', 'poiscaille', 'panard', 'gonzesse', 'meuf', 'nana', 'flingue', 'tif', 'louche', 'menotte', 'mimine', 'paluche', 'pogne', 'caboche', 'canasson', 'baraque', 'bicoque', 'vnre', 'bidouiller', 'baveux', 'dgager', 'se casser', 'se tirer', 'guibole', 'kifer', 'kiffer', 'se gourer', 'se planter', 'gars', 'keum', 'mec', 'type', 'bidoche', 'meule', 'belle-doche', 'balaise', 'balze', 'baraqu(e)', 'costaud', 'blase', 'blair', 'pif', 'tarin', 'zinc', 'flic', 'keuf', 'poulet', 'flotter', 'casse-dalle', 'bahut', 'bote', 'godasse', 'frangine', 'pioncer', 'roupiller', 'chouraver', 'chourer', 'piquer', 'dauber', 'schlinguer', 'causer', 'jacter', 'couilles', 'burnes', 'roubignoles', 'roupettes', 'roustons', 'chiottes', 'biter', 'bitter', 'capter', 'piger', 'dgueuler', 'dgobiller', 'gerber', 'flotte', 'pinard', 'pive', 'boulot', 'taf', 'turbin', 'bosser', 'charbonner', 'taffer', 'calendos', 'Boire un pot/un coup', 'a craint.', 'a dchire !', 'a marche.', 'a me saoule.', 'a me gonfle.', 'a passe crme.', 'Carrment !', 'Cest de la balle !', 'Cest chelou.', 'Cest clair !', \"C'est le pied !\", 'Cest nul.', 'Cest un truc de ouf !', 'Crever la dalle', 'Elle/Il se la pte trop !', 'tre grill(e)', 'tre au taquet', 'Ferme ta gueule !', 'Ferme-la !', 'Ta gueule !', 'Gnial !', 'Jamais de la vie.', 'Lche-moi la grappe', 'les basques', 'les baskets.', 'Laisse tomber !', 'Ne pas se louper', 'Non mais sans dc !', 'Sans dconner !', 'Pas de souci.', 'Point barre !', 'Se prendre une murge', 'Top !', 'Nickel !', 'C’est dar', 'OKLM', 'J’ai le seum', 'Une zouz/gow', 'Chiner', 'Ken', 'C’est lourd', ' Grailler ', 'S’enjailler', ' C’est golri', ' Tu t’es fait rotte-ca', ' Je suis déter', ' Je suis yomb', ' Les lovés', ' Les bails', ' C’est de la peufra', ' En soumsoum', ' C’est chanmé', ' WTF', ' La tise', ' Je suis saucé', ' Du bif', ' Faire crari', ' Un blase', ' Charbonner', ' Ça passe crème', ' Cassos', ' Bicrave', ' Balec', ' C’est déclassé', ' Un gamos', 'AFK', 'A la bien.', 'BDR ', 'BG ', 'Cheh', 'Clash', 'Cosplay', 'Crush', 'Dab', 'Daron / daronne', 'Dclass', 'Dso pas dso ', 'Dter ', 'DSL ', 'Fdp', 'Frais', 'Gadjo / gadji ', 'Game', 'Gav', 'Guacamolesque', 'Hype', 'Issou', 'Lossa', 'Lourd', 'Magl', 'Mav', 'Mort', 'Newbie ', 'Nude', 'Peufra ', 'PTN', 'Schlag ', 'Socoman ', 'Street', 'Tarpin ', 'Ter-ter ou Terter :', 'TG ', 'Timp', 'Toz', 'cliquez ici', 'Le Curionaute', 'Le Curionaute', 'wtf']\n"
          ],
          "name": "stdout"
        }
      ]
    },
    {
      "cell_type": "code",
      "metadata": {
        "id": "vZMkWukf6UiC",
        "colab_type": "code",
        "outputId": "a4ccb91e-420d-4343-de80-de9cd37289c8",
        "colab": {
          "base_uri": "https://localhost:8080/",
          "height": 34
        }
      },
      "source": [
        "len(JeunesMots)"
      ],
      "execution_count": 0,
      "outputs": [
        {
          "output_type": "execute_result",
          "data": {
            "text/plain": [
              "259"
            ]
          },
          "metadata": {
            "tags": []
          },
          "execution_count": 18
        }
      ]
    },
    {
      "cell_type": "code",
      "metadata": {
        "id": "ZXdGhQ6C6XhC",
        "colab_type": "code",
        "colab": {}
      },
      "source": [
        "def jeune(s): \n",
        "  for i in JeunesMots:\n",
        "    if i.lower() in s.lower():\n",
        "      return 'Jeune'    "
      ],
      "execution_count": 0,
      "outputs": []
    },
    {
      "cell_type": "code",
      "metadata": {
        "id": "Mw3My6R_6bYO",
        "colab_type": "code",
        "colab": {}
      },
      "source": [
        "for i in range(len(twitter)) : \n",
        "  twitter.loc[i,'Titulaire'] = jeune(twitter.loc[i, \"text\"])"
      ],
      "execution_count": 0,
      "outputs": []
    },
    {
      "cell_type": "code",
      "metadata": {
        "id": "Pp7HEWJf8047",
        "colab_type": "code",
        "outputId": "45156be9-4960-4d9b-f86c-43f4fcf7f907",
        "colab": {
          "base_uri": "https://localhost:8080/",
          "height": 289
        }
      },
      "source": [
        "twitter.head()"
      ],
      "execution_count": 0,
      "outputs": [
        {
          "output_type": "execute_result",
          "data": {
            "text/html": [
              "<div>\n",
              "<style scoped>\n",
              "    .dataframe tbody tr th:only-of-type {\n",
              "        vertical-align: middle;\n",
              "    }\n",
              "\n",
              "    .dataframe tbody tr th {\n",
              "        vertical-align: top;\n",
              "    }\n",
              "\n",
              "    .dataframe thead th {\n",
              "        text-align: right;\n",
              "    }\n",
              "</style>\n",
              "<table border=\"1\" class=\"dataframe\">\n",
              "  <thead>\n",
              "    <tr style=\"text-align: right;\">\n",
              "      <th></th>\n",
              "      <th>tweet_id</th>\n",
              "      <th>text</th>\n",
              "      <th>created_at</th>\n",
              "      <th>source</th>\n",
              "      <th>tokens</th>\n",
              "      <th>Titulaire</th>\n",
              "    </tr>\n",
              "  </thead>\n",
              "  <tbody>\n",
              "    <tr>\n",
              "      <th>0</th>\n",
              "      <td>1210485972514885634</td>\n",
              "      <td>♻️ Une nouvelle étape pour McDo 🇫🇷 dans la réd...</td>\n",
              "      <td>2019-12-27 09:02:00</td>\n",
              "      <td>TweetDeck</td>\n",
              "      <td>['nouvel', 'étap', 'mcdo', 'réduct', 'empreint...</td>\n",
              "      <td>Adulte</td>\n",
              "    </tr>\n",
              "    <tr>\n",
              "      <th>1</th>\n",
              "      <td>1210111001678536704</td>\n",
              "      <td>J'ai commencé comme :\\n✔️Équipier\\n✔️Formateur...</td>\n",
              "      <td>2019-12-26 08:12:00</td>\n",
              "      <td>TweetDeck</td>\n",
              "      <td>['commenc', 'comm', 'zon', 'manag', 'tout', 'a...</td>\n",
              "      <td>Jeune</td>\n",
              "    </tr>\n",
              "    <tr>\n",
              "      <th>2</th>\n",
              "      <td>1209060286734487552</td>\n",
              "      <td>Très heureux de continuer à construire notre p...</td>\n",
              "      <td>2019-12-23 10:36:50</td>\n",
              "      <td>Twitter Web App</td>\n",
              "      <td>['tres', 'heureux', 'continu', 'construir', 'p...</td>\n",
              "      <td>Adulte</td>\n",
              "    </tr>\n",
              "    <tr>\n",
              "      <th>3</th>\n",
              "      <td>1207940449245134848</td>\n",
              "      <td>Mélanie, resp. de #formation chez McDo 🇫🇷\\n🎬 U...</td>\n",
              "      <td>2019-12-20 08:27:00</td>\n",
              "      <td>TweetDeck</td>\n",
              "      <td>['mélan', 'resp', 'format', 'chez', 'mcdo', 'j...</td>\n",
              "      <td>Jeune</td>\n",
              "    </tr>\n",
              "    <tr>\n",
              "      <th>4</th>\n",
              "      <td>1206515505655357440</td>\n",
              "      <td>Emballages en plastique à usage unique :\\n♻️ U...</td>\n",
              "      <td>2019-12-16 10:04:47</td>\n",
              "      <td>Twitter Web App</td>\n",
              "      <td>['emballag', 'plastiqu', 'usag', 'uniqu', 'nou...</td>\n",
              "      <td>Adulte</td>\n",
              "    </tr>\n",
              "  </tbody>\n",
              "</table>\n",
              "</div>"
            ],
            "text/plain": [
              "              tweet_id  ... Titulaire\n",
              "0  1210485972514885634  ...    Adulte\n",
              "1  1210111001678536704  ...     Jeune\n",
              "2  1209060286734487552  ...    Adulte\n",
              "3  1207940449245134848  ...     Jeune\n",
              "4  1206515505655357440  ...    Adulte\n",
              "\n",
              "[5 rows x 6 columns]"
            ]
          },
          "metadata": {
            "tags": []
          },
          "execution_count": 23
        }
      ]
    },
    {
      "cell_type": "code",
      "metadata": {
        "id": "8IjQYXNJCw3z",
        "colab_type": "code",
        "outputId": "b4654457-df94-4fa2-adfd-c8309881cc60",
        "colab": {
          "base_uri": "https://localhost:8080/",
          "height": 68
        }
      },
      "source": [
        "twitter['Titulaire'].value_counts()"
      ],
      "execution_count": 0,
      "outputs": [
        {
          "output_type": "execute_result",
          "data": {
            "text/plain": [
              "Adulte    134\n",
              "Jeune      49\n",
              "Name: Titulaire, dtype: int64"
            ]
          },
          "metadata": {
            "tags": []
          },
          "execution_count": 198
        }
      ]
    },
    {
      "cell_type": "code",
      "metadata": {
        "id": "D8mDC8nSEGTn",
        "colab_type": "code",
        "colab": {}
      },
      "source": [
        "njeune=len(twitter['Titulaire']=='Jeune')\n",
        "njeune\n",
        "twitter.head()"
      ],
      "execution_count": 0,
      "outputs": []
    },
    {
      "cell_type": "code",
      "metadata": {
        "id": "Uo3St8yQEe9m",
        "colab_type": "code",
        "outputId": "6590715d-d1dd-46d4-ca08-c0252d11ddde",
        "colab": {
          "base_uri": "https://localhost:8080/",
          "height": 34
        }
      },
      "source": [
        "len(twitter)"
      ],
      "execution_count": 0,
      "outputs": [
        {
          "output_type": "execute_result",
          "data": {
            "text/plain": [
              "183"
            ]
          },
          "metadata": {
            "tags": []
          },
          "execution_count": 192
        }
      ]
    },
    {
      "cell_type": "code",
      "metadata": {
        "id": "LO0UeTG2CxmQ",
        "colab_type": "code",
        "outputId": "b5b21407-650d-4e04-d28a-d9d54ed3da2d",
        "colab": {
          "base_uri": "https://localhost:8080/",
          "height": 542
        }
      },
      "source": [
        "import plotly.graph_objects as go\n",
        "\n",
        "colors = ['lightslategray',] *2\n",
        "colors[1] = 'crimson'\n",
        "\n",
        "\n",
        "fig = go.Figure(data=[go.Bar(\n",
        "    x=['Adulte', 'Jeune '],\n",
        "    y=[134,49],\n",
        "    marker_color=colors # marker color can be a single color value or an iterable\n",
        ")])\n",
        "fig.update_layout(title_text=\"Tranches d'ages\")"
      ],
      "execution_count": 0,
      "outputs": [
        {
          "output_type": "display_data",
          "data": {
            "text/html": [
              "<html>\n",
              "<head><meta charset=\"utf-8\" /></head>\n",
              "<body>\n",
              "    <div>\n",
              "            <script src=\"https://cdnjs.cloudflare.com/ajax/libs/mathjax/2.7.5/MathJax.js?config=TeX-AMS-MML_SVG\"></script><script type=\"text/javascript\">if (window.MathJax) {MathJax.Hub.Config({SVG: {font: \"STIX-Web\"}});}</script>\n",
              "                <script type=\"text/javascript\">window.PlotlyConfig = {MathJaxConfig: 'local'};</script>\n",
              "        <script src=\"https://cdn.plot.ly/plotly-latest.min.js\"></script>    \n",
              "            <div id=\"fb03a64e-6623-43e1-bcff-e2e5b033d175\" class=\"plotly-graph-div\" style=\"height:525px; width:100%;\"></div>\n",
              "            <script type=\"text/javascript\">\n",
              "                \n",
              "                    window.PLOTLYENV=window.PLOTLYENV || {};\n",
              "                    \n",
              "                if (document.getElementById(\"fb03a64e-6623-43e1-bcff-e2e5b033d175\")) {\n",
              "                    Plotly.newPlot(\n",
              "                        'fb03a64e-6623-43e1-bcff-e2e5b033d175',\n",
              "                        [{\"marker\": {\"color\": [\"lightslategray\", \"crimson\"]}, \"type\": \"bar\", \"x\": [\"Adulte\", \"Jeune \"], \"y\": [134, 49]}],\n",
              "                        {\"template\": {\"data\": {\"bar\": [{\"error_x\": {\"color\": \"#2a3f5f\"}, \"error_y\": {\"color\": \"#2a3f5f\"}, \"marker\": {\"line\": {\"color\": \"#E5ECF6\", \"width\": 0.5}}, \"type\": \"bar\"}], \"barpolar\": [{\"marker\": {\"line\": {\"color\": \"#E5ECF6\", \"width\": 0.5}}, \"type\": \"barpolar\"}], \"carpet\": [{\"aaxis\": {\"endlinecolor\": \"#2a3f5f\", \"gridcolor\": \"white\", \"linecolor\": \"white\", \"minorgridcolor\": \"white\", \"startlinecolor\": \"#2a3f5f\"}, \"baxis\": {\"endlinecolor\": \"#2a3f5f\", \"gridcolor\": \"white\", \"linecolor\": \"white\", \"minorgridcolor\": \"white\", \"startlinecolor\": \"#2a3f5f\"}, \"type\": \"carpet\"}], \"choropleth\": [{\"colorbar\": {\"outlinewidth\": 0, \"ticks\": \"\"}, \"type\": \"choropleth\"}], \"contour\": [{\"colorbar\": {\"outlinewidth\": 0, \"ticks\": \"\"}, \"colorscale\": [[0.0, \"#0d0887\"], [0.1111111111111111, \"#46039f\"], [0.2222222222222222, \"#7201a8\"], [0.3333333333333333, \"#9c179e\"], [0.4444444444444444, \"#bd3786\"], [0.5555555555555556, \"#d8576b\"], [0.6666666666666666, \"#ed7953\"], [0.7777777777777778, \"#fb9f3a\"], [0.8888888888888888, \"#fdca26\"], [1.0, \"#f0f921\"]], \"type\": \"contour\"}], \"contourcarpet\": [{\"colorbar\": {\"outlinewidth\": 0, \"ticks\": \"\"}, \"type\": \"contourcarpet\"}], \"heatmap\": [{\"colorbar\": {\"outlinewidth\": 0, \"ticks\": \"\"}, \"colorscale\": [[0.0, \"#0d0887\"], [0.1111111111111111, \"#46039f\"], [0.2222222222222222, \"#7201a8\"], [0.3333333333333333, \"#9c179e\"], [0.4444444444444444, \"#bd3786\"], [0.5555555555555556, \"#d8576b\"], [0.6666666666666666, \"#ed7953\"], [0.7777777777777778, \"#fb9f3a\"], [0.8888888888888888, \"#fdca26\"], [1.0, \"#f0f921\"]], \"type\": \"heatmap\"}], \"heatmapgl\": [{\"colorbar\": {\"outlinewidth\": 0, \"ticks\": \"\"}, \"colorscale\": [[0.0, \"#0d0887\"], [0.1111111111111111, \"#46039f\"], [0.2222222222222222, \"#7201a8\"], [0.3333333333333333, \"#9c179e\"], [0.4444444444444444, \"#bd3786\"], [0.5555555555555556, \"#d8576b\"], [0.6666666666666666, \"#ed7953\"], [0.7777777777777778, \"#fb9f3a\"], [0.8888888888888888, \"#fdca26\"], [1.0, \"#f0f921\"]], \"type\": \"heatmapgl\"}], \"histogram\": [{\"marker\": {\"colorbar\": {\"outlinewidth\": 0, \"ticks\": \"\"}}, \"type\": \"histogram\"}], \"histogram2d\": [{\"colorbar\": {\"outlinewidth\": 0, \"ticks\": \"\"}, \"colorscale\": [[0.0, \"#0d0887\"], [0.1111111111111111, \"#46039f\"], [0.2222222222222222, \"#7201a8\"], [0.3333333333333333, \"#9c179e\"], [0.4444444444444444, \"#bd3786\"], [0.5555555555555556, \"#d8576b\"], [0.6666666666666666, \"#ed7953\"], [0.7777777777777778, \"#fb9f3a\"], [0.8888888888888888, \"#fdca26\"], [1.0, \"#f0f921\"]], \"type\": \"histogram2d\"}], \"histogram2dcontour\": [{\"colorbar\": {\"outlinewidth\": 0, \"ticks\": \"\"}, \"colorscale\": [[0.0, \"#0d0887\"], [0.1111111111111111, \"#46039f\"], [0.2222222222222222, \"#7201a8\"], [0.3333333333333333, \"#9c179e\"], [0.4444444444444444, \"#bd3786\"], [0.5555555555555556, \"#d8576b\"], [0.6666666666666666, \"#ed7953\"], [0.7777777777777778, \"#fb9f3a\"], [0.8888888888888888, \"#fdca26\"], [1.0, \"#f0f921\"]], \"type\": \"histogram2dcontour\"}], \"mesh3d\": [{\"colorbar\": {\"outlinewidth\": 0, \"ticks\": \"\"}, \"type\": \"mesh3d\"}], \"parcoords\": [{\"line\": {\"colorbar\": {\"outlinewidth\": 0, \"ticks\": \"\"}}, \"type\": \"parcoords\"}], \"pie\": [{\"automargin\": true, \"type\": \"pie\"}], \"scatter\": [{\"marker\": {\"colorbar\": {\"outlinewidth\": 0, \"ticks\": \"\"}}, \"type\": \"scatter\"}], \"scatter3d\": [{\"line\": {\"colorbar\": {\"outlinewidth\": 0, \"ticks\": \"\"}}, \"marker\": {\"colorbar\": {\"outlinewidth\": 0, \"ticks\": \"\"}}, \"type\": \"scatter3d\"}], \"scattercarpet\": [{\"marker\": {\"colorbar\": {\"outlinewidth\": 0, \"ticks\": \"\"}}, \"type\": \"scattercarpet\"}], \"scattergeo\": [{\"marker\": {\"colorbar\": {\"outlinewidth\": 0, \"ticks\": \"\"}}, \"type\": \"scattergeo\"}], \"scattergl\": [{\"marker\": {\"colorbar\": {\"outlinewidth\": 0, \"ticks\": \"\"}}, \"type\": \"scattergl\"}], \"scattermapbox\": [{\"marker\": {\"colorbar\": {\"outlinewidth\": 0, \"ticks\": \"\"}}, \"type\": \"scattermapbox\"}], \"scatterpolar\": [{\"marker\": {\"colorbar\": {\"outlinewidth\": 0, \"ticks\": \"\"}}, \"type\": \"scatterpolar\"}], \"scatterpolargl\": [{\"marker\": {\"colorbar\": {\"outlinewidth\": 0, \"ticks\": \"\"}}, \"type\": \"scatterpolargl\"}], \"scatterternary\": [{\"marker\": {\"colorbar\": {\"outlinewidth\": 0, \"ticks\": \"\"}}, \"type\": \"scatterternary\"}], \"surface\": [{\"colorbar\": {\"outlinewidth\": 0, \"ticks\": \"\"}, \"colorscale\": [[0.0, \"#0d0887\"], [0.1111111111111111, \"#46039f\"], [0.2222222222222222, \"#7201a8\"], [0.3333333333333333, \"#9c179e\"], [0.4444444444444444, \"#bd3786\"], [0.5555555555555556, \"#d8576b\"], [0.6666666666666666, \"#ed7953\"], [0.7777777777777778, \"#fb9f3a\"], [0.8888888888888888, \"#fdca26\"], [1.0, \"#f0f921\"]], \"type\": \"surface\"}], \"table\": [{\"cells\": {\"fill\": {\"color\": \"#EBF0F8\"}, \"line\": {\"color\": \"white\"}}, \"header\": {\"fill\": {\"color\": \"#C8D4E3\"}, \"line\": {\"color\": \"white\"}}, \"type\": \"table\"}]}, \"layout\": {\"annotationdefaults\": {\"arrowcolor\": \"#2a3f5f\", \"arrowhead\": 0, \"arrowwidth\": 1}, \"coloraxis\": {\"colorbar\": {\"outlinewidth\": 0, \"ticks\": \"\"}}, \"colorscale\": {\"diverging\": [[0, \"#8e0152\"], [0.1, \"#c51b7d\"], [0.2, \"#de77ae\"], [0.3, \"#f1b6da\"], [0.4, \"#fde0ef\"], [0.5, \"#f7f7f7\"], [0.6, \"#e6f5d0\"], [0.7, \"#b8e186\"], [0.8, \"#7fbc41\"], [0.9, \"#4d9221\"], [1, \"#276419\"]], \"sequential\": [[0.0, \"#0d0887\"], [0.1111111111111111, \"#46039f\"], [0.2222222222222222, \"#7201a8\"], [0.3333333333333333, \"#9c179e\"], [0.4444444444444444, \"#bd3786\"], [0.5555555555555556, \"#d8576b\"], [0.6666666666666666, \"#ed7953\"], [0.7777777777777778, \"#fb9f3a\"], [0.8888888888888888, \"#fdca26\"], [1.0, \"#f0f921\"]], \"sequentialminus\": [[0.0, \"#0d0887\"], [0.1111111111111111, \"#46039f\"], [0.2222222222222222, \"#7201a8\"], [0.3333333333333333, \"#9c179e\"], [0.4444444444444444, \"#bd3786\"], [0.5555555555555556, \"#d8576b\"], [0.6666666666666666, \"#ed7953\"], [0.7777777777777778, \"#fb9f3a\"], [0.8888888888888888, \"#fdca26\"], [1.0, \"#f0f921\"]]}, \"colorway\": [\"#636efa\", \"#EF553B\", \"#00cc96\", \"#ab63fa\", \"#FFA15A\", \"#19d3f3\", \"#FF6692\", \"#B6E880\", \"#FF97FF\", \"#FECB52\"], \"font\": {\"color\": \"#2a3f5f\"}, \"geo\": {\"bgcolor\": \"white\", \"lakecolor\": \"white\", \"landcolor\": \"#E5ECF6\", \"showlakes\": true, \"showland\": true, \"subunitcolor\": \"white\"}, \"hoverlabel\": {\"align\": \"left\"}, \"hovermode\": \"closest\", \"mapbox\": {\"style\": \"light\"}, \"paper_bgcolor\": \"white\", \"plot_bgcolor\": \"#E5ECF6\", \"polar\": {\"angularaxis\": {\"gridcolor\": \"white\", \"linecolor\": \"white\", \"ticks\": \"\"}, \"bgcolor\": \"#E5ECF6\", \"radialaxis\": {\"gridcolor\": \"white\", \"linecolor\": \"white\", \"ticks\": \"\"}}, \"scene\": {\"xaxis\": {\"backgroundcolor\": \"#E5ECF6\", \"gridcolor\": \"white\", \"gridwidth\": 2, \"linecolor\": \"white\", \"showbackground\": true, \"ticks\": \"\", \"zerolinecolor\": \"white\"}, \"yaxis\": {\"backgroundcolor\": \"#E5ECF6\", \"gridcolor\": \"white\", \"gridwidth\": 2, \"linecolor\": \"white\", \"showbackground\": true, \"ticks\": \"\", \"zerolinecolor\": \"white\"}, \"zaxis\": {\"backgroundcolor\": \"#E5ECF6\", \"gridcolor\": \"white\", \"gridwidth\": 2, \"linecolor\": \"white\", \"showbackground\": true, \"ticks\": \"\", \"zerolinecolor\": \"white\"}}, \"shapedefaults\": {\"line\": {\"color\": \"#2a3f5f\"}}, \"ternary\": {\"aaxis\": {\"gridcolor\": \"white\", \"linecolor\": \"white\", \"ticks\": \"\"}, \"baxis\": {\"gridcolor\": \"white\", \"linecolor\": \"white\", \"ticks\": \"\"}, \"bgcolor\": \"#E5ECF6\", \"caxis\": {\"gridcolor\": \"white\", \"linecolor\": \"white\", \"ticks\": \"\"}}, \"title\": {\"x\": 0.05}, \"xaxis\": {\"automargin\": true, \"gridcolor\": \"white\", \"linecolor\": \"white\", \"ticks\": \"\", \"title\": {\"standoff\": 15}, \"zerolinecolor\": \"white\", \"zerolinewidth\": 2}, \"yaxis\": {\"automargin\": true, \"gridcolor\": \"white\", \"linecolor\": \"white\", \"ticks\": \"\", \"title\": {\"standoff\": 15}, \"zerolinecolor\": \"white\", \"zerolinewidth\": 2}}}, \"title\": {\"text\": \"Tranches d'ages\"}},\n",
              "                        {\"responsive\": true}\n",
              "                    ).then(function(){\n",
              "                            \n",
              "var gd = document.getElementById('fb03a64e-6623-43e1-bcff-e2e5b033d175');\n",
              "var x = new MutationObserver(function (mutations, observer) {{\n",
              "        var display = window.getComputedStyle(gd).display;\n",
              "        if (!display || display === 'none') {{\n",
              "            console.log([gd, 'removed!']);\n",
              "            Plotly.purge(gd);\n",
              "            observer.disconnect();\n",
              "        }}\n",
              "}});\n",
              "\n",
              "// Listen for the removal of the full notebook cells\n",
              "var notebookContainer = gd.closest('#notebook-container');\n",
              "if (notebookContainer) {{\n",
              "    x.observe(notebookContainer, {childList: true});\n",
              "}}\n",
              "\n",
              "// Listen for the clearing of the current output cell\n",
              "var outputEl = gd.closest('.output');\n",
              "if (outputEl) {{\n",
              "    x.observe(outputEl, {childList: true});\n",
              "}}\n",
              "\n",
              "                        })\n",
              "                };\n",
              "                \n",
              "            </script>\n",
              "        </div>\n",
              "</body>\n",
              "</html>"
            ]
          },
          "metadata": {
            "tags": []
          }
        }
      ]
    },
    {
      "cell_type": "code",
      "metadata": {
        "id": "HAVZmrftJnsG",
        "colab_type": "code",
        "colab": {}
      },
      "source": [
        "bon=0\n",
        "mauv=0"
      ],
      "execution_count": 0,
      "outputs": []
    },
    {
      "cell_type": "code",
      "metadata": {
        "id": "Un1-6Kg0J9PN",
        "colab_type": "code",
        "colab": {}
      },
      "source": [
        "for word in twitter['text']:\n",
        "  if (word.find('bon') != -1): \n",
        "    bon+=1  \n",
        "  if (word.find('tres') != -1): \n",
        "    mauv+=1  "
      ],
      "execution_count": 0,
      "outputs": []
    },
    {
      "cell_type": "code",
      "metadata": {
        "id": "R59CQ-xzLV3x",
        "colab_type": "code",
        "colab": {}
      },
      "source": [
        "pbon= (bon/(bon+mauv))*100"
      ],
      "execution_count": 0,
      "outputs": []
    },
    {
      "cell_type": "code",
      "metadata": {
        "id": "WjIheUM6LgNN",
        "colab_type": "code",
        "colab": {}
      },
      "source": [
        "pmauv= (mauv/(bon+mauv))*100"
      ],
      "execution_count": 0,
      "outputs": []
    },
    {
      "cell_type": "code",
      "metadata": {
        "id": "AT6N9ajaMayD",
        "colab_type": "code",
        "outputId": "ace212ff-d0d4-40fa-c211-f58c63280cac",
        "colab": {
          "base_uri": "https://localhost:8080/",
          "height": 68
        }
      },
      "source": [
        "print(\"bon ou mauvais:\")\n",
        "print(\"   bon:\",pbon,\"%\")\n",
        "print(\"   mauvais:\",pmauv,\"%\")"
      ],
      "execution_count": 0,
      "outputs": [
        {
          "output_type": "stream",
          "text": [
            "bon ou mauvais:\n",
            "   bon: 69.23076923076923 %\n",
            "   mauvais: 30.76923076923077 %\n"
          ],
          "name": "stdout"
        }
      ]
    },
    {
      "cell_type": "code",
      "metadata": {
        "id": "Dbx6LOWFABTa",
        "colab_type": "code",
        "outputId": "8e8584a8-ad19-40d2-97ae-5bcf8ac2941e",
        "colab": {
          "base_uri": "https://localhost:8080/",
          "height": 542
        }
      },
      "source": [
        "\n",
        "labels = ['Bon ','Mauvais']\n",
        "values = [pbon, pmauv]\n",
        "\n",
        "# Use `hole` to create a donut-like pie chart\n",
        "fig = go.Figure(data=[go.Pie(labels=labels, values=values, hole=.4)])\n",
        "fig.show()"
      ],
      "execution_count": 0,
      "outputs": [
        {
          "output_type": "display_data",
          "data": {
            "text/html": [
              "<html>\n",
              "<head><meta charset=\"utf-8\" /></head>\n",
              "<body>\n",
              "    <div>\n",
              "            <script src=\"https://cdnjs.cloudflare.com/ajax/libs/mathjax/2.7.5/MathJax.js?config=TeX-AMS-MML_SVG\"></script><script type=\"text/javascript\">if (window.MathJax) {MathJax.Hub.Config({SVG: {font: \"STIX-Web\"}});}</script>\n",
              "                <script type=\"text/javascript\">window.PlotlyConfig = {MathJaxConfig: 'local'};</script>\n",
              "        <script src=\"https://cdn.plot.ly/plotly-latest.min.js\"></script>    \n",
              "            <div id=\"4c26d0b5-1c58-4eaf-a7ba-3c7e39049af3\" class=\"plotly-graph-div\" style=\"height:525px; width:100%;\"></div>\n",
              "            <script type=\"text/javascript\">\n",
              "                \n",
              "                    window.PLOTLYENV=window.PLOTLYENV || {};\n",
              "                    \n",
              "                if (document.getElementById(\"4c26d0b5-1c58-4eaf-a7ba-3c7e39049af3\")) {\n",
              "                    Plotly.newPlot(\n",
              "                        '4c26d0b5-1c58-4eaf-a7ba-3c7e39049af3',\n",
              "                        [{\"hole\": 0.4, \"labels\": [\"Bon \", \"Mauvais\"], \"type\": \"pie\", \"values\": [69.23076923076923, 30.76923076923077]}],\n",
              "                        {\"template\": {\"data\": {\"bar\": [{\"error_x\": {\"color\": \"#2a3f5f\"}, \"error_y\": {\"color\": \"#2a3f5f\"}, \"marker\": {\"line\": {\"color\": \"#E5ECF6\", \"width\": 0.5}}, \"type\": \"bar\"}], \"barpolar\": [{\"marker\": {\"line\": {\"color\": \"#E5ECF6\", \"width\": 0.5}}, \"type\": \"barpolar\"}], \"carpet\": [{\"aaxis\": {\"endlinecolor\": \"#2a3f5f\", \"gridcolor\": \"white\", \"linecolor\": \"white\", \"minorgridcolor\": \"white\", \"startlinecolor\": \"#2a3f5f\"}, \"baxis\": {\"endlinecolor\": \"#2a3f5f\", \"gridcolor\": \"white\", \"linecolor\": \"white\", \"minorgridcolor\": \"white\", \"startlinecolor\": \"#2a3f5f\"}, \"type\": \"carpet\"}], \"choropleth\": [{\"colorbar\": {\"outlinewidth\": 0, \"ticks\": \"\"}, \"type\": \"choropleth\"}], \"contour\": [{\"colorbar\": {\"outlinewidth\": 0, \"ticks\": \"\"}, \"colorscale\": [[0.0, \"#0d0887\"], [0.1111111111111111, \"#46039f\"], [0.2222222222222222, \"#7201a8\"], [0.3333333333333333, \"#9c179e\"], [0.4444444444444444, \"#bd3786\"], [0.5555555555555556, \"#d8576b\"], [0.6666666666666666, \"#ed7953\"], [0.7777777777777778, \"#fb9f3a\"], [0.8888888888888888, \"#fdca26\"], [1.0, \"#f0f921\"]], \"type\": \"contour\"}], \"contourcarpet\": [{\"colorbar\": {\"outlinewidth\": 0, \"ticks\": \"\"}, \"type\": \"contourcarpet\"}], \"heatmap\": [{\"colorbar\": {\"outlinewidth\": 0, \"ticks\": \"\"}, \"colorscale\": [[0.0, \"#0d0887\"], [0.1111111111111111, \"#46039f\"], [0.2222222222222222, \"#7201a8\"], [0.3333333333333333, \"#9c179e\"], [0.4444444444444444, \"#bd3786\"], [0.5555555555555556, \"#d8576b\"], [0.6666666666666666, \"#ed7953\"], [0.7777777777777778, \"#fb9f3a\"], [0.8888888888888888, \"#fdca26\"], [1.0, \"#f0f921\"]], \"type\": \"heatmap\"}], \"heatmapgl\": [{\"colorbar\": {\"outlinewidth\": 0, \"ticks\": \"\"}, \"colorscale\": [[0.0, \"#0d0887\"], [0.1111111111111111, \"#46039f\"], [0.2222222222222222, \"#7201a8\"], [0.3333333333333333, \"#9c179e\"], [0.4444444444444444, \"#bd3786\"], [0.5555555555555556, \"#d8576b\"], [0.6666666666666666, \"#ed7953\"], [0.7777777777777778, \"#fb9f3a\"], [0.8888888888888888, \"#fdca26\"], [1.0, \"#f0f921\"]], \"type\": \"heatmapgl\"}], \"histogram\": [{\"marker\": {\"colorbar\": {\"outlinewidth\": 0, \"ticks\": \"\"}}, \"type\": \"histogram\"}], \"histogram2d\": [{\"colorbar\": {\"outlinewidth\": 0, \"ticks\": \"\"}, \"colorscale\": [[0.0, \"#0d0887\"], [0.1111111111111111, \"#46039f\"], [0.2222222222222222, \"#7201a8\"], [0.3333333333333333, \"#9c179e\"], [0.4444444444444444, \"#bd3786\"], [0.5555555555555556, \"#d8576b\"], [0.6666666666666666, \"#ed7953\"], [0.7777777777777778, \"#fb9f3a\"], [0.8888888888888888, \"#fdca26\"], [1.0, \"#f0f921\"]], \"type\": \"histogram2d\"}], \"histogram2dcontour\": [{\"colorbar\": {\"outlinewidth\": 0, \"ticks\": \"\"}, \"colorscale\": [[0.0, \"#0d0887\"], [0.1111111111111111, \"#46039f\"], [0.2222222222222222, \"#7201a8\"], [0.3333333333333333, \"#9c179e\"], [0.4444444444444444, \"#bd3786\"], [0.5555555555555556, \"#d8576b\"], [0.6666666666666666, \"#ed7953\"], [0.7777777777777778, \"#fb9f3a\"], [0.8888888888888888, \"#fdca26\"], [1.0, \"#f0f921\"]], \"type\": \"histogram2dcontour\"}], \"mesh3d\": [{\"colorbar\": {\"outlinewidth\": 0, \"ticks\": \"\"}, \"type\": \"mesh3d\"}], \"parcoords\": [{\"line\": {\"colorbar\": {\"outlinewidth\": 0, \"ticks\": \"\"}}, \"type\": \"parcoords\"}], \"pie\": [{\"automargin\": true, \"type\": \"pie\"}], \"scatter\": [{\"marker\": {\"colorbar\": {\"outlinewidth\": 0, \"ticks\": \"\"}}, \"type\": \"scatter\"}], \"scatter3d\": [{\"line\": {\"colorbar\": {\"outlinewidth\": 0, \"ticks\": \"\"}}, \"marker\": {\"colorbar\": {\"outlinewidth\": 0, \"ticks\": \"\"}}, \"type\": \"scatter3d\"}], \"scattercarpet\": [{\"marker\": {\"colorbar\": {\"outlinewidth\": 0, \"ticks\": \"\"}}, \"type\": \"scattercarpet\"}], \"scattergeo\": [{\"marker\": {\"colorbar\": {\"outlinewidth\": 0, \"ticks\": \"\"}}, \"type\": \"scattergeo\"}], \"scattergl\": [{\"marker\": {\"colorbar\": {\"outlinewidth\": 0, \"ticks\": \"\"}}, \"type\": \"scattergl\"}], \"scattermapbox\": [{\"marker\": {\"colorbar\": {\"outlinewidth\": 0, \"ticks\": \"\"}}, \"type\": \"scattermapbox\"}], \"scatterpolar\": [{\"marker\": {\"colorbar\": {\"outlinewidth\": 0, \"ticks\": \"\"}}, \"type\": \"scatterpolar\"}], \"scatterpolargl\": [{\"marker\": {\"colorbar\": {\"outlinewidth\": 0, \"ticks\": \"\"}}, \"type\": \"scatterpolargl\"}], \"scatterternary\": [{\"marker\": {\"colorbar\": {\"outlinewidth\": 0, \"ticks\": \"\"}}, \"type\": \"scatterternary\"}], \"surface\": [{\"colorbar\": {\"outlinewidth\": 0, \"ticks\": \"\"}, \"colorscale\": [[0.0, \"#0d0887\"], [0.1111111111111111, \"#46039f\"], [0.2222222222222222, \"#7201a8\"], [0.3333333333333333, \"#9c179e\"], [0.4444444444444444, \"#bd3786\"], [0.5555555555555556, \"#d8576b\"], [0.6666666666666666, \"#ed7953\"], [0.7777777777777778, \"#fb9f3a\"], [0.8888888888888888, \"#fdca26\"], [1.0, \"#f0f921\"]], \"type\": \"surface\"}], \"table\": [{\"cells\": {\"fill\": {\"color\": \"#EBF0F8\"}, \"line\": {\"color\": \"white\"}}, \"header\": {\"fill\": {\"color\": \"#C8D4E3\"}, \"line\": {\"color\": \"white\"}}, \"type\": \"table\"}]}, \"layout\": {\"annotationdefaults\": {\"arrowcolor\": \"#2a3f5f\", \"arrowhead\": 0, \"arrowwidth\": 1}, \"coloraxis\": {\"colorbar\": {\"outlinewidth\": 0, \"ticks\": \"\"}}, \"colorscale\": {\"diverging\": [[0, \"#8e0152\"], [0.1, \"#c51b7d\"], [0.2, \"#de77ae\"], [0.3, \"#f1b6da\"], [0.4, \"#fde0ef\"], [0.5, \"#f7f7f7\"], [0.6, \"#e6f5d0\"], [0.7, \"#b8e186\"], [0.8, \"#7fbc41\"], [0.9, \"#4d9221\"], [1, \"#276419\"]], \"sequential\": [[0.0, \"#0d0887\"], [0.1111111111111111, \"#46039f\"], [0.2222222222222222, \"#7201a8\"], [0.3333333333333333, \"#9c179e\"], [0.4444444444444444, \"#bd3786\"], [0.5555555555555556, \"#d8576b\"], [0.6666666666666666, \"#ed7953\"], [0.7777777777777778, \"#fb9f3a\"], [0.8888888888888888, \"#fdca26\"], [1.0, \"#f0f921\"]], \"sequentialminus\": [[0.0, \"#0d0887\"], [0.1111111111111111, \"#46039f\"], [0.2222222222222222, \"#7201a8\"], [0.3333333333333333, \"#9c179e\"], [0.4444444444444444, \"#bd3786\"], [0.5555555555555556, \"#d8576b\"], [0.6666666666666666, \"#ed7953\"], [0.7777777777777778, \"#fb9f3a\"], [0.8888888888888888, \"#fdca26\"], [1.0, \"#f0f921\"]]}, \"colorway\": [\"#636efa\", \"#EF553B\", \"#00cc96\", \"#ab63fa\", \"#FFA15A\", \"#19d3f3\", \"#FF6692\", \"#B6E880\", \"#FF97FF\", \"#FECB52\"], \"font\": {\"color\": \"#2a3f5f\"}, \"geo\": {\"bgcolor\": \"white\", \"lakecolor\": \"white\", \"landcolor\": \"#E5ECF6\", \"showlakes\": true, \"showland\": true, \"subunitcolor\": \"white\"}, \"hoverlabel\": {\"align\": \"left\"}, \"hovermode\": \"closest\", \"mapbox\": {\"style\": \"light\"}, \"paper_bgcolor\": \"white\", \"plot_bgcolor\": \"#E5ECF6\", \"polar\": {\"angularaxis\": {\"gridcolor\": \"white\", \"linecolor\": \"white\", \"ticks\": \"\"}, \"bgcolor\": \"#E5ECF6\", \"radialaxis\": {\"gridcolor\": \"white\", \"linecolor\": \"white\", \"ticks\": \"\"}}, \"scene\": {\"xaxis\": {\"backgroundcolor\": \"#E5ECF6\", \"gridcolor\": \"white\", \"gridwidth\": 2, \"linecolor\": \"white\", \"showbackground\": true, \"ticks\": \"\", \"zerolinecolor\": \"white\"}, \"yaxis\": {\"backgroundcolor\": \"#E5ECF6\", \"gridcolor\": \"white\", \"gridwidth\": 2, \"linecolor\": \"white\", \"showbackground\": true, \"ticks\": \"\", \"zerolinecolor\": \"white\"}, \"zaxis\": {\"backgroundcolor\": \"#E5ECF6\", \"gridcolor\": \"white\", \"gridwidth\": 2, \"linecolor\": \"white\", \"showbackground\": true, \"ticks\": \"\", \"zerolinecolor\": \"white\"}}, \"shapedefaults\": {\"line\": {\"color\": \"#2a3f5f\"}}, \"ternary\": {\"aaxis\": {\"gridcolor\": \"white\", \"linecolor\": \"white\", \"ticks\": \"\"}, \"baxis\": {\"gridcolor\": \"white\", \"linecolor\": \"white\", \"ticks\": \"\"}, \"bgcolor\": \"#E5ECF6\", \"caxis\": {\"gridcolor\": \"white\", \"linecolor\": \"white\", \"ticks\": \"\"}}, \"title\": {\"x\": 0.05}, \"xaxis\": {\"automargin\": true, \"gridcolor\": \"white\", \"linecolor\": \"white\", \"ticks\": \"\", \"title\": {\"standoff\": 15}, \"zerolinecolor\": \"white\", \"zerolinewidth\": 2}, \"yaxis\": {\"automargin\": true, \"gridcolor\": \"white\", \"linecolor\": \"white\", \"ticks\": \"\", \"title\": {\"standoff\": 15}, \"zerolinecolor\": \"white\", \"zerolinewidth\": 2}}}},\n",
              "                        {\"responsive\": true}\n",
              "                    ).then(function(){\n",
              "                            \n",
              "var gd = document.getElementById('4c26d0b5-1c58-4eaf-a7ba-3c7e39049af3');\n",
              "var x = new MutationObserver(function (mutations, observer) {{\n",
              "        var display = window.getComputedStyle(gd).display;\n",
              "        if (!display || display === 'none') {{\n",
              "            console.log([gd, 'removed!']);\n",
              "            Plotly.purge(gd);\n",
              "            observer.disconnect();\n",
              "        }}\n",
              "}});\n",
              "\n",
              "// Listen for the removal of the full notebook cells\n",
              "var notebookContainer = gd.closest('#notebook-container');\n",
              "if (notebookContainer) {{\n",
              "    x.observe(notebookContainer, {childList: true});\n",
              "}}\n",
              "\n",
              "// Listen for the clearing of the current output cell\n",
              "var outputEl = gd.closest('.output');\n",
              "if (outputEl) {{\n",
              "    x.observe(outputEl, {childList: true});\n",
              "}}\n",
              "\n",
              "                        })\n",
              "                };\n",
              "                \n",
              "            </script>\n",
              "        </div>\n",
              "</body>\n",
              "</html>"
            ]
          },
          "metadata": {
            "tags": []
          }
        }
      ]
    },
    {
      "cell_type": "code",
      "metadata": {
        "id": "-xh3I1BAM3o0",
        "colab_type": "code",
        "colab": {}
      },
      "source": [
        "rapide=0\n",
        "lent=0"
      ],
      "execution_count": 0,
      "outputs": []
    },
    {
      "cell_type": "code",
      "metadata": {
        "id": "3gI-HNUx6PyH",
        "colab_type": "code",
        "colab": {}
      },
      "source": [
        "for word in twitter['text']:\n",
        "  if (word.find('rapide') != -1): \n",
        "    rapide+=1\n",
        "  if (word.find('lent') != -1): \n",
        "    lent+=1  "
      ],
      "execution_count": 0,
      "outputs": []
    },
    {
      "cell_type": "code",
      "metadata": {
        "id": "Ou-NYBoc6Y8F",
        "colab_type": "code",
        "colab": {}
      },
      "source": [
        "prapide=(rapide/(rapide+lent))*100\n",
        "plent=(lent/(rapide+lent))*100"
      ],
      "execution_count": 0,
      "outputs": []
    },
    {
      "cell_type": "code",
      "metadata": {
        "id": "t4K-25wG69ia",
        "colab_type": "code",
        "outputId": "8aa660c5-fbef-4674-a260-5c83be8267de",
        "colab": {
          "base_uri": "https://localhost:8080/",
          "height": 68
        }
      },
      "source": [
        "print(\"Rapide ou Lent:\")\n",
        "print(\"   Rapide:\",prapide,\"%\")\n",
        "print(\"   Lent:\",plent,\"%\")"
      ],
      "execution_count": 0,
      "outputs": [
        {
          "output_type": "stream",
          "text": [
            "Rapide ou Lent:\n",
            "   Rapide: 66.66666666666666 %\n",
            "   Lent: 33.33333333333333 %\n"
          ],
          "name": "stdout"
        }
      ]
    },
    {
      "cell_type": "code",
      "metadata": {
        "id": "a-UnbwmMB4aR",
        "colab_type": "code",
        "outputId": "66500183-5f4b-4689-e996-208cd625623a",
        "colab": {
          "base_uri": "https://localhost:8080/",
          "height": 542
        }
      },
      "source": [
        "labels = ['Rapide ','Lent']\n",
        "values = [prapide, plent]\n",
        "\n",
        "# Use `hole` to create a donut-like pie chart\n",
        "fig = go.Figure(data=[go.Pie(labels=labels, values=values, hole=.4)])\n",
        "fig.show()"
      ],
      "execution_count": 0,
      "outputs": [
        {
          "output_type": "display_data",
          "data": {
            "text/html": [
              "<html>\n",
              "<head><meta charset=\"utf-8\" /></head>\n",
              "<body>\n",
              "    <div>\n",
              "            <script src=\"https://cdnjs.cloudflare.com/ajax/libs/mathjax/2.7.5/MathJax.js?config=TeX-AMS-MML_SVG\"></script><script type=\"text/javascript\">if (window.MathJax) {MathJax.Hub.Config({SVG: {font: \"STIX-Web\"}});}</script>\n",
              "                <script type=\"text/javascript\">window.PlotlyConfig = {MathJaxConfig: 'local'};</script>\n",
              "        <script src=\"https://cdn.plot.ly/plotly-latest.min.js\"></script>    \n",
              "            <div id=\"e23ba360-9e55-46c4-bba1-7ad829c0520a\" class=\"plotly-graph-div\" style=\"height:525px; width:100%;\"></div>\n",
              "            <script type=\"text/javascript\">\n",
              "                \n",
              "                    window.PLOTLYENV=window.PLOTLYENV || {};\n",
              "                    \n",
              "                if (document.getElementById(\"e23ba360-9e55-46c4-bba1-7ad829c0520a\")) {\n",
              "                    Plotly.newPlot(\n",
              "                        'e23ba360-9e55-46c4-bba1-7ad829c0520a',\n",
              "                        [{\"hole\": 0.4, \"labels\": [\"Rapide \", \"Lent\"], \"type\": \"pie\", \"values\": [66.66666666666666, 33.33333333333333]}],\n",
              "                        {\"template\": {\"data\": {\"bar\": [{\"error_x\": {\"color\": \"#2a3f5f\"}, \"error_y\": {\"color\": \"#2a3f5f\"}, \"marker\": {\"line\": {\"color\": \"#E5ECF6\", \"width\": 0.5}}, \"type\": \"bar\"}], \"barpolar\": [{\"marker\": {\"line\": {\"color\": \"#E5ECF6\", \"width\": 0.5}}, \"type\": \"barpolar\"}], \"carpet\": [{\"aaxis\": {\"endlinecolor\": \"#2a3f5f\", \"gridcolor\": \"white\", \"linecolor\": \"white\", \"minorgridcolor\": \"white\", \"startlinecolor\": \"#2a3f5f\"}, \"baxis\": {\"endlinecolor\": \"#2a3f5f\", \"gridcolor\": \"white\", \"linecolor\": \"white\", \"minorgridcolor\": \"white\", \"startlinecolor\": \"#2a3f5f\"}, \"type\": \"carpet\"}], \"choropleth\": [{\"colorbar\": {\"outlinewidth\": 0, \"ticks\": \"\"}, \"type\": \"choropleth\"}], \"contour\": [{\"colorbar\": {\"outlinewidth\": 0, \"ticks\": \"\"}, \"colorscale\": [[0.0, \"#0d0887\"], [0.1111111111111111, \"#46039f\"], [0.2222222222222222, \"#7201a8\"], [0.3333333333333333, \"#9c179e\"], [0.4444444444444444, \"#bd3786\"], [0.5555555555555556, \"#d8576b\"], [0.6666666666666666, \"#ed7953\"], [0.7777777777777778, \"#fb9f3a\"], [0.8888888888888888, \"#fdca26\"], [1.0, \"#f0f921\"]], \"type\": \"contour\"}], \"contourcarpet\": [{\"colorbar\": {\"outlinewidth\": 0, \"ticks\": \"\"}, \"type\": \"contourcarpet\"}], \"heatmap\": [{\"colorbar\": {\"outlinewidth\": 0, \"ticks\": \"\"}, \"colorscale\": [[0.0, \"#0d0887\"], [0.1111111111111111, \"#46039f\"], [0.2222222222222222, \"#7201a8\"], [0.3333333333333333, \"#9c179e\"], [0.4444444444444444, \"#bd3786\"], [0.5555555555555556, \"#d8576b\"], [0.6666666666666666, \"#ed7953\"], [0.7777777777777778, \"#fb9f3a\"], [0.8888888888888888, \"#fdca26\"], [1.0, \"#f0f921\"]], \"type\": \"heatmap\"}], \"heatmapgl\": [{\"colorbar\": {\"outlinewidth\": 0, \"ticks\": \"\"}, \"colorscale\": [[0.0, \"#0d0887\"], [0.1111111111111111, \"#46039f\"], [0.2222222222222222, \"#7201a8\"], [0.3333333333333333, \"#9c179e\"], [0.4444444444444444, \"#bd3786\"], [0.5555555555555556, \"#d8576b\"], [0.6666666666666666, \"#ed7953\"], [0.7777777777777778, \"#fb9f3a\"], [0.8888888888888888, \"#fdca26\"], [1.0, \"#f0f921\"]], \"type\": \"heatmapgl\"}], \"histogram\": [{\"marker\": {\"colorbar\": {\"outlinewidth\": 0, \"ticks\": \"\"}}, \"type\": \"histogram\"}], \"histogram2d\": [{\"colorbar\": {\"outlinewidth\": 0, \"ticks\": \"\"}, \"colorscale\": [[0.0, \"#0d0887\"], [0.1111111111111111, \"#46039f\"], [0.2222222222222222, \"#7201a8\"], [0.3333333333333333, \"#9c179e\"], [0.4444444444444444, \"#bd3786\"], [0.5555555555555556, \"#d8576b\"], [0.6666666666666666, \"#ed7953\"], [0.7777777777777778, \"#fb9f3a\"], [0.8888888888888888, \"#fdca26\"], [1.0, \"#f0f921\"]], \"type\": \"histogram2d\"}], \"histogram2dcontour\": [{\"colorbar\": {\"outlinewidth\": 0, \"ticks\": \"\"}, \"colorscale\": [[0.0, \"#0d0887\"], [0.1111111111111111, \"#46039f\"], [0.2222222222222222, \"#7201a8\"], [0.3333333333333333, \"#9c179e\"], [0.4444444444444444, \"#bd3786\"], [0.5555555555555556, \"#d8576b\"], [0.6666666666666666, \"#ed7953\"], [0.7777777777777778, \"#fb9f3a\"], [0.8888888888888888, \"#fdca26\"], [1.0, \"#f0f921\"]], \"type\": \"histogram2dcontour\"}], \"mesh3d\": [{\"colorbar\": {\"outlinewidth\": 0, \"ticks\": \"\"}, \"type\": \"mesh3d\"}], \"parcoords\": [{\"line\": {\"colorbar\": {\"outlinewidth\": 0, \"ticks\": \"\"}}, \"type\": \"parcoords\"}], \"pie\": [{\"automargin\": true, \"type\": \"pie\"}], \"scatter\": [{\"marker\": {\"colorbar\": {\"outlinewidth\": 0, \"ticks\": \"\"}}, \"type\": \"scatter\"}], \"scatter3d\": [{\"line\": {\"colorbar\": {\"outlinewidth\": 0, \"ticks\": \"\"}}, \"marker\": {\"colorbar\": {\"outlinewidth\": 0, \"ticks\": \"\"}}, \"type\": \"scatter3d\"}], \"scattercarpet\": [{\"marker\": {\"colorbar\": {\"outlinewidth\": 0, \"ticks\": \"\"}}, \"type\": \"scattercarpet\"}], \"scattergeo\": [{\"marker\": {\"colorbar\": {\"outlinewidth\": 0, \"ticks\": \"\"}}, \"type\": \"scattergeo\"}], \"scattergl\": [{\"marker\": {\"colorbar\": {\"outlinewidth\": 0, \"ticks\": \"\"}}, \"type\": \"scattergl\"}], \"scattermapbox\": [{\"marker\": {\"colorbar\": {\"outlinewidth\": 0, \"ticks\": \"\"}}, \"type\": \"scattermapbox\"}], \"scatterpolar\": [{\"marker\": {\"colorbar\": {\"outlinewidth\": 0, \"ticks\": \"\"}}, \"type\": \"scatterpolar\"}], \"scatterpolargl\": [{\"marker\": {\"colorbar\": {\"outlinewidth\": 0, \"ticks\": \"\"}}, \"type\": \"scatterpolargl\"}], \"scatterternary\": [{\"marker\": {\"colorbar\": {\"outlinewidth\": 0, \"ticks\": \"\"}}, \"type\": \"scatterternary\"}], \"surface\": [{\"colorbar\": {\"outlinewidth\": 0, \"ticks\": \"\"}, \"colorscale\": [[0.0, \"#0d0887\"], [0.1111111111111111, \"#46039f\"], [0.2222222222222222, \"#7201a8\"], [0.3333333333333333, \"#9c179e\"], [0.4444444444444444, \"#bd3786\"], [0.5555555555555556, \"#d8576b\"], [0.6666666666666666, \"#ed7953\"], [0.7777777777777778, \"#fb9f3a\"], [0.8888888888888888, \"#fdca26\"], [1.0, \"#f0f921\"]], \"type\": \"surface\"}], \"table\": [{\"cells\": {\"fill\": {\"color\": \"#EBF0F8\"}, \"line\": {\"color\": \"white\"}}, \"header\": {\"fill\": {\"color\": \"#C8D4E3\"}, \"line\": {\"color\": \"white\"}}, \"type\": \"table\"}]}, \"layout\": {\"annotationdefaults\": {\"arrowcolor\": \"#2a3f5f\", \"arrowhead\": 0, \"arrowwidth\": 1}, \"coloraxis\": {\"colorbar\": {\"outlinewidth\": 0, \"ticks\": \"\"}}, \"colorscale\": {\"diverging\": [[0, \"#8e0152\"], [0.1, \"#c51b7d\"], [0.2, \"#de77ae\"], [0.3, \"#f1b6da\"], [0.4, \"#fde0ef\"], [0.5, \"#f7f7f7\"], [0.6, \"#e6f5d0\"], [0.7, \"#b8e186\"], [0.8, \"#7fbc41\"], [0.9, \"#4d9221\"], [1, \"#276419\"]], \"sequential\": [[0.0, \"#0d0887\"], [0.1111111111111111, \"#46039f\"], [0.2222222222222222, \"#7201a8\"], [0.3333333333333333, \"#9c179e\"], [0.4444444444444444, \"#bd3786\"], [0.5555555555555556, \"#d8576b\"], [0.6666666666666666, \"#ed7953\"], [0.7777777777777778, \"#fb9f3a\"], [0.8888888888888888, \"#fdca26\"], [1.0, \"#f0f921\"]], \"sequentialminus\": [[0.0, \"#0d0887\"], [0.1111111111111111, \"#46039f\"], [0.2222222222222222, \"#7201a8\"], [0.3333333333333333, \"#9c179e\"], [0.4444444444444444, \"#bd3786\"], [0.5555555555555556, \"#d8576b\"], [0.6666666666666666, \"#ed7953\"], [0.7777777777777778, \"#fb9f3a\"], [0.8888888888888888, \"#fdca26\"], [1.0, \"#f0f921\"]]}, \"colorway\": [\"#636efa\", \"#EF553B\", \"#00cc96\", \"#ab63fa\", \"#FFA15A\", \"#19d3f3\", \"#FF6692\", \"#B6E880\", \"#FF97FF\", \"#FECB52\"], \"font\": {\"color\": \"#2a3f5f\"}, \"geo\": {\"bgcolor\": \"white\", \"lakecolor\": \"white\", \"landcolor\": \"#E5ECF6\", \"showlakes\": true, \"showland\": true, \"subunitcolor\": \"white\"}, \"hoverlabel\": {\"align\": \"left\"}, \"hovermode\": \"closest\", \"mapbox\": {\"style\": \"light\"}, \"paper_bgcolor\": \"white\", \"plot_bgcolor\": \"#E5ECF6\", \"polar\": {\"angularaxis\": {\"gridcolor\": \"white\", \"linecolor\": \"white\", \"ticks\": \"\"}, \"bgcolor\": \"#E5ECF6\", \"radialaxis\": {\"gridcolor\": \"white\", \"linecolor\": \"white\", \"ticks\": \"\"}}, \"scene\": {\"xaxis\": {\"backgroundcolor\": \"#E5ECF6\", \"gridcolor\": \"white\", \"gridwidth\": 2, \"linecolor\": \"white\", \"showbackground\": true, \"ticks\": \"\", \"zerolinecolor\": \"white\"}, \"yaxis\": {\"backgroundcolor\": \"#E5ECF6\", \"gridcolor\": \"white\", \"gridwidth\": 2, \"linecolor\": \"white\", \"showbackground\": true, \"ticks\": \"\", \"zerolinecolor\": \"white\"}, \"zaxis\": {\"backgroundcolor\": \"#E5ECF6\", \"gridcolor\": \"white\", \"gridwidth\": 2, \"linecolor\": \"white\", \"showbackground\": true, \"ticks\": \"\", \"zerolinecolor\": \"white\"}}, \"shapedefaults\": {\"line\": {\"color\": \"#2a3f5f\"}}, \"ternary\": {\"aaxis\": {\"gridcolor\": \"white\", \"linecolor\": \"white\", \"ticks\": \"\"}, \"baxis\": {\"gridcolor\": \"white\", \"linecolor\": \"white\", \"ticks\": \"\"}, \"bgcolor\": \"#E5ECF6\", \"caxis\": {\"gridcolor\": \"white\", \"linecolor\": \"white\", \"ticks\": \"\"}}, \"title\": {\"x\": 0.05}, \"xaxis\": {\"automargin\": true, \"gridcolor\": \"white\", \"linecolor\": \"white\", \"ticks\": \"\", \"title\": {\"standoff\": 15}, \"zerolinecolor\": \"white\", \"zerolinewidth\": 2}, \"yaxis\": {\"automargin\": true, \"gridcolor\": \"white\", \"linecolor\": \"white\", \"ticks\": \"\", \"title\": {\"standoff\": 15}, \"zerolinecolor\": \"white\", \"zerolinewidth\": 2}}}},\n",
              "                        {\"responsive\": true}\n",
              "                    ).then(function(){\n",
              "                            \n",
              "var gd = document.getElementById('e23ba360-9e55-46c4-bba1-7ad829c0520a');\n",
              "var x = new MutationObserver(function (mutations, observer) {{\n",
              "        var display = window.getComputedStyle(gd).display;\n",
              "        if (!display || display === 'none') {{\n",
              "            console.log([gd, 'removed!']);\n",
              "            Plotly.purge(gd);\n",
              "            observer.disconnect();\n",
              "        }}\n",
              "}});\n",
              "\n",
              "// Listen for the removal of the full notebook cells\n",
              "var notebookContainer = gd.closest('#notebook-container');\n",
              "if (notebookContainer) {{\n",
              "    x.observe(notebookContainer, {childList: true});\n",
              "}}\n",
              "\n",
              "// Listen for the clearing of the current output cell\n",
              "var outputEl = gd.closest('.output');\n",
              "if (outputEl) {{\n",
              "    x.observe(outputEl, {childList: true});\n",
              "}}\n",
              "\n",
              "                        })\n",
              "                };\n",
              "                \n",
              "            </script>\n",
              "        </div>\n",
              "</body>\n",
              "</html>"
            ]
          },
          "metadata": {
            "tags": []
          }
        }
      ]
    },
    {
      "cell_type": "code",
      "metadata": {
        "id": "no_RT6XC7N_3",
        "colab_type": "code",
        "colab": {}
      },
      "source": [
        "cher=0\n",
        "pascher=0"
      ],
      "execution_count": 0,
      "outputs": []
    },
    {
      "cell_type": "code",
      "metadata": {
        "id": "rQTW-FNN7m_I",
        "colab_type": "code",
        "colab": {}
      },
      "source": [
        "for word in twitter['text']:\n",
        "  if (word.find('cher') != -1): \n",
        "    cher+=1\n",
        "  if (word.find('raisonnable') != -1): \n",
        "    pascher+=1  "
      ],
      "execution_count": 0,
      "outputs": []
    },
    {
      "cell_type": "code",
      "metadata": {
        "id": "m5bHaC8B7zHh",
        "colab_type": "code",
        "colab": {}
      },
      "source": [
        "pcher=(cher/(cher+pascher))*100\n",
        "ppcher=(pascher/(cher+pascher))*100"
      ],
      "execution_count": 0,
      "outputs": []
    },
    {
      "cell_type": "code",
      "metadata": {
        "id": "OJXGnVCu8j4C",
        "colab_type": "code",
        "outputId": "419d4509-0a13-4e16-ac43-5365ebb043c5",
        "colab": {
          "base_uri": "https://localhost:8080/",
          "height": 68
        }
      },
      "source": [
        "print(\"Cher ou Raisonnable:\")\n",
        "print(\"   Cher:\",pcher,\"%\")\n",
        "print(\"   Raisonnable:\",ppcher,\"%\")"
      ],
      "execution_count": 0,
      "outputs": [
        {
          "output_type": "stream",
          "text": [
            "Cher ou Raisonnable:\n",
            "   Cher: 25.925925925925924 %\n",
            "   Raisonnable: 74.07407407407408 %\n"
          ],
          "name": "stdout"
        }
      ]
    },
    {
      "cell_type": "code",
      "metadata": {
        "id": "6nstZKX_CDaL",
        "colab_type": "code",
        "colab": {}
      },
      "source": [
        "plent"
      ],
      "execution_count": 0,
      "outputs": []
    },
    {
      "cell_type": "code",
      "metadata": {
        "id": "3gOTb9ap8z68",
        "colab_type": "code",
        "outputId": "ec40bf6d-6e42-446c-8fd5-46e774de4701",
        "colab": {
          "base_uri": "https://localhost:8080/",
          "height": 542
        }
      },
      "source": [
        "labels = ['Cher ','Raisonnable']\n",
        "values = [pcher, ppcher]\n",
        "\n",
        "# Use `hole` to create a donut-like pie chart\n",
        "fig = go.Figure(data=[go.Pie(labels=labels, values=values, hole=.4)])\n",
        "fig.show()"
      ],
      "execution_count": 0,
      "outputs": [
        {
          "output_type": "display_data",
          "data": {
            "text/html": [
              "<html>\n",
              "<head><meta charset=\"utf-8\" /></head>\n",
              "<body>\n",
              "    <div>\n",
              "            <script src=\"https://cdnjs.cloudflare.com/ajax/libs/mathjax/2.7.5/MathJax.js?config=TeX-AMS-MML_SVG\"></script><script type=\"text/javascript\">if (window.MathJax) {MathJax.Hub.Config({SVG: {font: \"STIX-Web\"}});}</script>\n",
              "                <script type=\"text/javascript\">window.PlotlyConfig = {MathJaxConfig: 'local'};</script>\n",
              "        <script src=\"https://cdn.plot.ly/plotly-latest.min.js\"></script>    \n",
              "            <div id=\"c92c077f-ae9a-40b6-a031-38f2c8050ae7\" class=\"plotly-graph-div\" style=\"height:525px; width:100%;\"></div>\n",
              "            <script type=\"text/javascript\">\n",
              "                \n",
              "                    window.PLOTLYENV=window.PLOTLYENV || {};\n",
              "                    \n",
              "                if (document.getElementById(\"c92c077f-ae9a-40b6-a031-38f2c8050ae7\")) {\n",
              "                    Plotly.newPlot(\n",
              "                        'c92c077f-ae9a-40b6-a031-38f2c8050ae7',\n",
              "                        [{\"hole\": 0.4, \"labels\": [\"Cher \", \"Raisonnable\"], \"type\": \"pie\", \"values\": [25.925925925925924, 74.07407407407408]}],\n",
              "                        {\"template\": {\"data\": {\"bar\": [{\"error_x\": {\"color\": \"#2a3f5f\"}, \"error_y\": {\"color\": \"#2a3f5f\"}, \"marker\": {\"line\": {\"color\": \"#E5ECF6\", \"width\": 0.5}}, \"type\": \"bar\"}], \"barpolar\": [{\"marker\": {\"line\": {\"color\": \"#E5ECF6\", \"width\": 0.5}}, \"type\": \"barpolar\"}], \"carpet\": [{\"aaxis\": {\"endlinecolor\": \"#2a3f5f\", \"gridcolor\": \"white\", \"linecolor\": \"white\", \"minorgridcolor\": \"white\", \"startlinecolor\": \"#2a3f5f\"}, \"baxis\": {\"endlinecolor\": \"#2a3f5f\", \"gridcolor\": \"white\", \"linecolor\": \"white\", \"minorgridcolor\": \"white\", \"startlinecolor\": \"#2a3f5f\"}, \"type\": \"carpet\"}], \"choropleth\": [{\"colorbar\": {\"outlinewidth\": 0, \"ticks\": \"\"}, \"type\": \"choropleth\"}], \"contour\": [{\"colorbar\": {\"outlinewidth\": 0, \"ticks\": \"\"}, \"colorscale\": [[0.0, \"#0d0887\"], [0.1111111111111111, \"#46039f\"], [0.2222222222222222, \"#7201a8\"], [0.3333333333333333, \"#9c179e\"], [0.4444444444444444, \"#bd3786\"], [0.5555555555555556, \"#d8576b\"], [0.6666666666666666, \"#ed7953\"], [0.7777777777777778, \"#fb9f3a\"], [0.8888888888888888, \"#fdca26\"], [1.0, \"#f0f921\"]], \"type\": \"contour\"}], \"contourcarpet\": [{\"colorbar\": {\"outlinewidth\": 0, \"ticks\": \"\"}, \"type\": \"contourcarpet\"}], \"heatmap\": [{\"colorbar\": {\"outlinewidth\": 0, \"ticks\": \"\"}, \"colorscale\": [[0.0, \"#0d0887\"], [0.1111111111111111, \"#46039f\"], [0.2222222222222222, \"#7201a8\"], [0.3333333333333333, \"#9c179e\"], [0.4444444444444444, \"#bd3786\"], [0.5555555555555556, \"#d8576b\"], [0.6666666666666666, \"#ed7953\"], [0.7777777777777778, \"#fb9f3a\"], [0.8888888888888888, \"#fdca26\"], [1.0, \"#f0f921\"]], \"type\": \"heatmap\"}], \"heatmapgl\": [{\"colorbar\": {\"outlinewidth\": 0, \"ticks\": \"\"}, \"colorscale\": [[0.0, \"#0d0887\"], [0.1111111111111111, \"#46039f\"], [0.2222222222222222, \"#7201a8\"], [0.3333333333333333, \"#9c179e\"], [0.4444444444444444, \"#bd3786\"], [0.5555555555555556, \"#d8576b\"], [0.6666666666666666, \"#ed7953\"], [0.7777777777777778, \"#fb9f3a\"], [0.8888888888888888, \"#fdca26\"], [1.0, \"#f0f921\"]], \"type\": \"heatmapgl\"}], \"histogram\": [{\"marker\": {\"colorbar\": {\"outlinewidth\": 0, \"ticks\": \"\"}}, \"type\": \"histogram\"}], \"histogram2d\": [{\"colorbar\": {\"outlinewidth\": 0, \"ticks\": \"\"}, \"colorscale\": [[0.0, \"#0d0887\"], [0.1111111111111111, \"#46039f\"], [0.2222222222222222, \"#7201a8\"], [0.3333333333333333, \"#9c179e\"], [0.4444444444444444, \"#bd3786\"], [0.5555555555555556, \"#d8576b\"], [0.6666666666666666, \"#ed7953\"], [0.7777777777777778, \"#fb9f3a\"], [0.8888888888888888, \"#fdca26\"], [1.0, \"#f0f921\"]], \"type\": \"histogram2d\"}], \"histogram2dcontour\": [{\"colorbar\": {\"outlinewidth\": 0, \"ticks\": \"\"}, \"colorscale\": [[0.0, \"#0d0887\"], [0.1111111111111111, \"#46039f\"], [0.2222222222222222, \"#7201a8\"], [0.3333333333333333, \"#9c179e\"], [0.4444444444444444, \"#bd3786\"], [0.5555555555555556, \"#d8576b\"], [0.6666666666666666, \"#ed7953\"], [0.7777777777777778, \"#fb9f3a\"], [0.8888888888888888, \"#fdca26\"], [1.0, \"#f0f921\"]], \"type\": \"histogram2dcontour\"}], \"mesh3d\": [{\"colorbar\": {\"outlinewidth\": 0, \"ticks\": \"\"}, \"type\": \"mesh3d\"}], \"parcoords\": [{\"line\": {\"colorbar\": {\"outlinewidth\": 0, \"ticks\": \"\"}}, \"type\": \"parcoords\"}], \"pie\": [{\"automargin\": true, \"type\": \"pie\"}], \"scatter\": [{\"marker\": {\"colorbar\": {\"outlinewidth\": 0, \"ticks\": \"\"}}, \"type\": \"scatter\"}], \"scatter3d\": [{\"line\": {\"colorbar\": {\"outlinewidth\": 0, \"ticks\": \"\"}}, \"marker\": {\"colorbar\": {\"outlinewidth\": 0, \"ticks\": \"\"}}, \"type\": \"scatter3d\"}], \"scattercarpet\": [{\"marker\": {\"colorbar\": {\"outlinewidth\": 0, \"ticks\": \"\"}}, \"type\": \"scattercarpet\"}], \"scattergeo\": [{\"marker\": {\"colorbar\": {\"outlinewidth\": 0, \"ticks\": \"\"}}, \"type\": \"scattergeo\"}], \"scattergl\": [{\"marker\": {\"colorbar\": {\"outlinewidth\": 0, \"ticks\": \"\"}}, \"type\": \"scattergl\"}], \"scattermapbox\": [{\"marker\": {\"colorbar\": {\"outlinewidth\": 0, \"ticks\": \"\"}}, \"type\": \"scattermapbox\"}], \"scatterpolar\": [{\"marker\": {\"colorbar\": {\"outlinewidth\": 0, \"ticks\": \"\"}}, \"type\": \"scatterpolar\"}], \"scatterpolargl\": [{\"marker\": {\"colorbar\": {\"outlinewidth\": 0, \"ticks\": \"\"}}, \"type\": \"scatterpolargl\"}], \"scatterternary\": [{\"marker\": {\"colorbar\": {\"outlinewidth\": 0, \"ticks\": \"\"}}, \"type\": \"scatterternary\"}], \"surface\": [{\"colorbar\": {\"outlinewidth\": 0, \"ticks\": \"\"}, \"colorscale\": [[0.0, \"#0d0887\"], [0.1111111111111111, \"#46039f\"], [0.2222222222222222, \"#7201a8\"], [0.3333333333333333, \"#9c179e\"], [0.4444444444444444, \"#bd3786\"], [0.5555555555555556, \"#d8576b\"], [0.6666666666666666, \"#ed7953\"], [0.7777777777777778, \"#fb9f3a\"], [0.8888888888888888, \"#fdca26\"], [1.0, \"#f0f921\"]], \"type\": \"surface\"}], \"table\": [{\"cells\": {\"fill\": {\"color\": \"#EBF0F8\"}, \"line\": {\"color\": \"white\"}}, \"header\": {\"fill\": {\"color\": \"#C8D4E3\"}, \"line\": {\"color\": \"white\"}}, \"type\": \"table\"}]}, \"layout\": {\"annotationdefaults\": {\"arrowcolor\": \"#2a3f5f\", \"arrowhead\": 0, \"arrowwidth\": 1}, \"coloraxis\": {\"colorbar\": {\"outlinewidth\": 0, \"ticks\": \"\"}}, \"colorscale\": {\"diverging\": [[0, \"#8e0152\"], [0.1, \"#c51b7d\"], [0.2, \"#de77ae\"], [0.3, \"#f1b6da\"], [0.4, \"#fde0ef\"], [0.5, \"#f7f7f7\"], [0.6, \"#e6f5d0\"], [0.7, \"#b8e186\"], [0.8, \"#7fbc41\"], [0.9, \"#4d9221\"], [1, \"#276419\"]], \"sequential\": [[0.0, \"#0d0887\"], [0.1111111111111111, \"#46039f\"], [0.2222222222222222, \"#7201a8\"], [0.3333333333333333, \"#9c179e\"], [0.4444444444444444, \"#bd3786\"], [0.5555555555555556, \"#d8576b\"], [0.6666666666666666, \"#ed7953\"], [0.7777777777777778, \"#fb9f3a\"], [0.8888888888888888, \"#fdca26\"], [1.0, \"#f0f921\"]], \"sequentialminus\": [[0.0, \"#0d0887\"], [0.1111111111111111, \"#46039f\"], [0.2222222222222222, \"#7201a8\"], [0.3333333333333333, \"#9c179e\"], [0.4444444444444444, \"#bd3786\"], [0.5555555555555556, \"#d8576b\"], [0.6666666666666666, \"#ed7953\"], [0.7777777777777778, \"#fb9f3a\"], [0.8888888888888888, \"#fdca26\"], [1.0, \"#f0f921\"]]}, \"colorway\": [\"#636efa\", \"#EF553B\", \"#00cc96\", \"#ab63fa\", \"#FFA15A\", \"#19d3f3\", \"#FF6692\", \"#B6E880\", \"#FF97FF\", \"#FECB52\"], \"font\": {\"color\": \"#2a3f5f\"}, \"geo\": {\"bgcolor\": \"white\", \"lakecolor\": \"white\", \"landcolor\": \"#E5ECF6\", \"showlakes\": true, \"showland\": true, \"subunitcolor\": \"white\"}, \"hoverlabel\": {\"align\": \"left\"}, \"hovermode\": \"closest\", \"mapbox\": {\"style\": \"light\"}, \"paper_bgcolor\": \"white\", \"plot_bgcolor\": \"#E5ECF6\", \"polar\": {\"angularaxis\": {\"gridcolor\": \"white\", \"linecolor\": \"white\", \"ticks\": \"\"}, \"bgcolor\": \"#E5ECF6\", \"radialaxis\": {\"gridcolor\": \"white\", \"linecolor\": \"white\", \"ticks\": \"\"}}, \"scene\": {\"xaxis\": {\"backgroundcolor\": \"#E5ECF6\", \"gridcolor\": \"white\", \"gridwidth\": 2, \"linecolor\": \"white\", \"showbackground\": true, \"ticks\": \"\", \"zerolinecolor\": \"white\"}, \"yaxis\": {\"backgroundcolor\": \"#E5ECF6\", \"gridcolor\": \"white\", \"gridwidth\": 2, \"linecolor\": \"white\", \"showbackground\": true, \"ticks\": \"\", \"zerolinecolor\": \"white\"}, \"zaxis\": {\"backgroundcolor\": \"#E5ECF6\", \"gridcolor\": \"white\", \"gridwidth\": 2, \"linecolor\": \"white\", \"showbackground\": true, \"ticks\": \"\", \"zerolinecolor\": \"white\"}}, \"shapedefaults\": {\"line\": {\"color\": \"#2a3f5f\"}}, \"ternary\": {\"aaxis\": {\"gridcolor\": \"white\", \"linecolor\": \"white\", \"ticks\": \"\"}, \"baxis\": {\"gridcolor\": \"white\", \"linecolor\": \"white\", \"ticks\": \"\"}, \"bgcolor\": \"#E5ECF6\", \"caxis\": {\"gridcolor\": \"white\", \"linecolor\": \"white\", \"ticks\": \"\"}}, \"title\": {\"x\": 0.05}, \"xaxis\": {\"automargin\": true, \"gridcolor\": \"white\", \"linecolor\": \"white\", \"ticks\": \"\", \"title\": {\"standoff\": 15}, \"zerolinecolor\": \"white\", \"zerolinewidth\": 2}, \"yaxis\": {\"automargin\": true, \"gridcolor\": \"white\", \"linecolor\": \"white\", \"ticks\": \"\", \"title\": {\"standoff\": 15}, \"zerolinecolor\": \"white\", \"zerolinewidth\": 2}}}},\n",
              "                        {\"responsive\": true}\n",
              "                    ).then(function(){\n",
              "                            \n",
              "var gd = document.getElementById('c92c077f-ae9a-40b6-a031-38f2c8050ae7');\n",
              "var x = new MutationObserver(function (mutations, observer) {{\n",
              "        var display = window.getComputedStyle(gd).display;\n",
              "        if (!display || display === 'none') {{\n",
              "            console.log([gd, 'removed!']);\n",
              "            Plotly.purge(gd);\n",
              "            observer.disconnect();\n",
              "        }}\n",
              "}});\n",
              "\n",
              "// Listen for the removal of the full notebook cells\n",
              "var notebookContainer = gd.closest('#notebook-container');\n",
              "if (notebookContainer) {{\n",
              "    x.observe(notebookContainer, {childList: true});\n",
              "}}\n",
              "\n",
              "// Listen for the clearing of the current output cell\n",
              "var outputEl = gd.closest('.output');\n",
              "if (outputEl) {{\n",
              "    x.observe(outputEl, {childList: true});\n",
              "}}\n",
              "\n",
              "                        })\n",
              "                };\n",
              "                \n",
              "            </script>\n",
              "        </div>\n",
              "</body>\n",
              "</html>"
            ]
          },
          "metadata": {
            "tags": []
          }
        }
      ]
    },
    {
      "cell_type": "code",
      "metadata": {
        "id": "k-NOhwDLCM_s",
        "colab_type": "code",
        "colab": {}
      },
      "source": [
        ""
      ],
      "execution_count": 0,
      "outputs": []
    }
  ]
}